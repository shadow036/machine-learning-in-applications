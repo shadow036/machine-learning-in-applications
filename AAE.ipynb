{
 "cells": [
  {
   "cell_type": "code",
   "execution_count": 34,
   "outputs": [],
   "source": [
    "import time\n",
    "import os\n",
    "from pathlib import Path\n",
    "\n",
    "import matplotlib.pyplot as plt\n",
    "from matplotlib import gridspec\n",
    "import matplotlib.patches as mpatches\n",
    "import numpy as np\n",
    "import tensorflow as tf\n",
    "\n",
    "\n",
    "import pandas as pd\n",
    "import seaborn as sns\n",
    "from sklearn import preprocessing\n",
    "from keras import layers, losses\n",
    "from keras.models import Sequential\n",
    "from sklearn import metrics\n",
    "from tqdm import tqdm\n",
    "from keras.optimizers import Adam\n",
    "from keras.layers import InputLayer, LSTM, Dense, RepeatVector, TimeDistributed, LayerNormalization, Dropout\n",
    "from keras.models import Model"
   ],
   "metadata": {
    "collapsed": false,
    "pycharm": {
     "name": "#%%\n"
    }
   }
  },
  {
   "cell_type": "code",
   "execution_count": 2,
   "outputs": [],
   "source": [
    "try:\n",
    "    # enable all GPUS\n",
    "    tf.config.set_visible_devices([], 'GPU')\n",
    "    visible_devices = tf.config.get_visible_devices()\n",
    "    for device in visible_devices:\n",
    "        assert device.device_type == 'GPU'\n",
    "except:\n",
    "    # Invalid device or cannot modify virtual devices once initialized.\n",
    "    pass"
   ],
   "metadata": {
    "collapsed": false,
    "pycharm": {
     "name": "#%%\n"
    }
   }
  },
  {
   "cell_type": "markdown",
   "source": [
    "## Data Loading"
   ],
   "metadata": {
    "collapsed": false
   }
  },
  {
   "cell_type": "code",
   "execution_count": 3,
   "outputs": [],
   "source": [
    "# Set the directories\n",
    "DATA_DIR_SLOW = \"/Users/kedi/Desktop/polito lectures and notes/ML in App/project/KukaVelocityDataset/KukaSlow.npy\"\n",
    "DATA_DIR_NORMAL = \"/Users/kedi/Desktop/polito lectures and notes/ML in App/project/KukaVelocityDataset/KukaNormal.npy\"\n",
    "DATA_DIR_C_NAMES = \"/Users/kedi/Desktop/polito lectures and notes/ML in App/project/KukaVelocityDataset/KukaColumnNames.npy\"\n",
    "\n",
    "# Set style for matplotlib\n",
    "plt.style.use(\"Solarize_Light2\")"
   ],
   "metadata": {
    "collapsed": false,
    "pycharm": {
     "name": "#%%\n"
    }
   }
  },
  {
   "cell_type": "code",
   "execution_count": 4,
   "outputs": [],
   "source": [
    "# Load the files\n",
    "data_normal = np.load(DATA_DIR_NORMAL)\n",
    "data_slow = np.load(DATA_DIR_SLOW)\n",
    "column_names = np.load(DATA_DIR_C_NAMES)"
   ],
   "metadata": {
    "collapsed": false,
    "pycharm": {
     "name": "#%%\n"
    }
   }
  },
  {
   "cell_type": "code",
   "execution_count": 5,
   "outputs": [
    {
     "name": "stdout",
     "output_type": "stream",
     "text": [
      "['action' 'machine_nameKuka Robot_apparent_power'\n",
      " 'machine_nameKuka Robot_current' 'machine_nameKuka Robot_frequency'\n",
      " 'machine_nameKuka Robot_phase_angle' 'machine_nameKuka Robot_power'\n",
      " 'machine_nameKuka Robot_power_factor'\n",
      " 'machine_nameKuka Robot_reactive_power' 'machine_nameKuka Robot_voltage'\n",
      " 'sensor_id1_AccX' 'sensor_id1_AccY' 'sensor_id1_AccZ' 'sensor_id1_GyroX'\n",
      " 'sensor_id1_GyroY' 'sensor_id1_GyroZ' 'sensor_id1_q1' 'sensor_id1_q2'\n",
      " 'sensor_id1_q3' 'sensor_id1_q4' 'sensor_id1_temp' 'sensor_id2_AccX'\n",
      " 'sensor_id2_AccY' 'sensor_id2_AccZ' 'sensor_id2_GyroX' 'sensor_id2_GyroY'\n",
      " 'sensor_id2_GyroZ' 'sensor_id2_q1' 'sensor_id2_q2' 'sensor_id2_q3'\n",
      " 'sensor_id2_q4' 'sensor_id2_temp' 'sensor_id3_AccX' 'sensor_id3_AccY'\n",
      " 'sensor_id3_AccZ' 'sensor_id3_GyroX' 'sensor_id3_GyroY'\n",
      " 'sensor_id3_GyroZ' 'sensor_id3_q1' 'sensor_id3_q2' 'sensor_id3_q3'\n",
      " 'sensor_id3_q4' 'sensor_id3_temp' 'sensor_id4_AccX' 'sensor_id4_AccY'\n",
      " 'sensor_id4_AccZ' 'sensor_id4_GyroX' 'sensor_id4_GyroY'\n",
      " 'sensor_id4_GyroZ' 'sensor_id4_q1' 'sensor_id4_q2' 'sensor_id4_q3'\n",
      " 'sensor_id4_q4' 'sensor_id4_temp' 'sensor_id5_AccX' 'sensor_id5_AccY'\n",
      " 'sensor_id5_AccZ' 'sensor_id5_GyroX' 'sensor_id5_GyroY'\n",
      " 'sensor_id5_GyroZ' 'sensor_id5_q1' 'sensor_id5_q2' 'sensor_id5_q3'\n",
      " 'sensor_id5_q4' 'sensor_id5_temp' 'sensor_id6_AccX' 'sensor_id6_AccY'\n",
      " 'sensor_id6_AccZ' 'sensor_id6_GyroX' 'sensor_id6_GyroY'\n",
      " 'sensor_id6_GyroZ' 'sensor_id6_q1' 'sensor_id6_q2' 'sensor_id6_q3'\n",
      " 'sensor_id6_q4' 'sensor_id6_temp' 'sensor_id7_AccX' 'sensor_id7_AccY'\n",
      " 'sensor_id7_AccZ' 'sensor_id7_GyroX' 'sensor_id7_GyroY'\n",
      " 'sensor_id7_GyroZ' 'sensor_id7_q1' 'sensor_id7_q2' 'sensor_id7_q3'\n",
      " 'sensor_id7_q4' 'sensor_id7_temp' 'anomaly']\n"
     ]
    }
   ],
   "source": [
    "# Check the column names\n",
    "print(column_names)"
   ],
   "metadata": {
    "collapsed": false,
    "pycharm": {
     "name": "#%%\n"
    }
   }
  },
  {
   "cell_type": "markdown",
   "source": [
    "## Data Setup"
   ],
   "metadata": {
    "collapsed": false
   }
  },
  {
   "cell_type": "code",
   "execution_count": 35,
   "outputs": [],
   "source": [
    "# prepare labels and separate them from data-slow\n",
    "label_slow = data_slow[:,-1:] - 1\n",
    "data_slow = data_slow[:,:-1]"
   ],
   "metadata": {
    "collapsed": false,
    "pycharm": {
     "name": "#%%\n"
    }
   }
  },
  {
   "cell_type": "code",
   "execution_count": 7,
   "outputs": [
    {
     "name": "stdout",
     "output_type": "stream",
     "text": [
      "{3: [5, array([49.902534, 49.951218, 50.      , 50.048878, 50.097847])], 30: [1, array([144.12])], 41: [2, array([120.3 , 144.12])], 52: [3, array([-175.86,    9.59,  144.12])], 63: [1, array([144.12])], 74: [1, array([180.24])], 85: [1, array([180.24])]} 7\n"
     ]
    }
   ],
   "source": [
    "# Find the features that have less variable values than given threshold\n",
    "threshold = 31\n",
    "\n",
    "unique = {}\n",
    "for i in range(data_normal.shape[1]):\n",
    "    classes = np.unique(data_normal[:,i])\n",
    "    if len(classes) < threshold:\n",
    "        unique[i] = [len(classes) , classes]\n",
    "print(unique, len(unique))\n",
    "delete_list = []\n",
    "for i in range(data_normal.shape[1]):\n",
    "    if i not in unique.keys():\n",
    "        delete_list.append(False)\n",
    "    else:\n",
    "        delete_list.append(True)"
   ],
   "metadata": {
    "collapsed": false,
    "pycharm": {
     "name": "#%%\n"
    }
   }
  },
  {
   "cell_type": "code",
   "execution_count": 8,
   "outputs": [
    {
     "name": "stdout",
     "output_type": "stream",
     "text": [
      "Shape of slow data after basic feature selection: (41538, 79) \n",
      "For normal data: (233792, 79)\n"
     ]
    }
   ],
   "source": [
    "# Take the features less variable than given threshold\n",
    "data_normal_dr = np.delete(data_normal, delete_list, axis=1)\n",
    "data_slow_dr = np.delete(data_slow, delete_list, axis=1)\n",
    "print(f\"Shape of slow data after basic feature selection: {data_slow_dr.shape} \\nFor normal data: {data_normal_dr.shape}\")"
   ],
   "metadata": {
    "collapsed": false,
    "pycharm": {
     "name": "#%%\n"
    }
   }
  },
  {
   "cell_type": "code",
   "execution_count": 9,
   "outputs": [],
   "source": [
    "# Normalization train on train set transform both\n",
    "scaler = preprocessing.StandardScaler().fit(data_normal_dr)\n",
    "data_train_scaled = scaler.transform(data_normal_dr)\n",
    "data_test_scaled = scaler.transform(data_slow_dr)"
   ],
   "metadata": {
    "collapsed": false,
    "pycharm": {
     "name": "#%%\n"
    }
   }
  },
  {
   "cell_type": "code",
   "execution_count": 10,
   "outputs": [
    {
     "name": "stdout",
     "output_type": "stream",
     "text": [
      "train data shape: (233744, 48, 79) \n",
      " test data shape: (41490, 48, 79) \n"
     ]
    }
   ],
   "source": [
    "#windows of 48 with stride 1\n",
    "width_window = 48\n",
    "data_train_all = np.array([data_train_scaled[i:i+width_window,:] for i in range(0, len(data_train_scaled)-width_window)])\n",
    "data_test_all = np.array([data_test_scaled[i:i+width_window,:] for i in range(0, len(data_test_scaled)-width_window)])\n",
    "print(f\"train data shape: {data_train_all.shape} \\n test data shape: {data_test_all.shape} \")"
   ],
   "metadata": {
    "collapsed": false,
    "pycharm": {
     "name": "#%%\n"
    }
   }
  },
  {
   "cell_type": "code",
   "execution_count": 11,
   "outputs": [
    {
     "name": "stdout",
     "output_type": "stream",
     "text": [
      "train data shape: (233744, 48, 79) \n",
      "\n"
     ]
    }
   ],
   "source": [
    "# Shuffle the data\n",
    "mix_data = True\n",
    "seed = 0\n",
    "if mix_data:\n",
    "    data_train_all = tf.random.shuffle(data_train_all)\n",
    "print(f\"train data shape: {data_train_all.shape} \\n\")"
   ],
   "metadata": {
    "collapsed": false,
    "pycharm": {
     "name": "#%%\n"
    }
   }
  },
  {
   "cell_type": "code",
   "execution_count": 148,
   "outputs": [
    {
     "name": "stdout",
     "output_type": "stream",
     "text": [
      "train data shape: (140246, 48, 79) \n",
      "test data shape: (41490, 48, 79) \n",
      "label shape: (41490, 1) \n",
      "\n",
      "test data prepared: (82980, 48, 79) \n",
      "label prepared: (82980, 1) \n",
      "\n",
      "data validation: (46749, 48, 79)\n"
     ]
    }
   ],
   "source": [
    "# First 60 percent for training, 20 percent for validation between 60-80, 20 percent for test from 80-100\n",
    "percentage_train = 0.6\n",
    "percentage_test = 1.\n",
    "validation = [0.60, 0.80]\n",
    "test = 0.80\n",
    "\n",
    "# take part of data to gather results faster\n",
    "data_train = data_train_all[0:int(percentage_train*data_train_all.shape[0]),:,:]\n",
    "data_test = data_test_all[0:int(percentage_test*data_test_all.shape[0]),:,:]\n",
    "\n",
    "# mixed test data 50-50\n",
    "data_test_mixed = np.zeros((2*data_test.shape[0], data_test.shape[1], data_test.shape[2]))\n",
    "data_test_mixed[0:int(data_test.shape[0]),:,:] += data_test\n",
    "data_test_mixed[int(data_test.shape[0]):,:,:] += data_train_all[int(test*data_train_all.shape[0]): int(test*data_train_all.shape[0])+data_test.shape[0],:,:]\n",
    "\n",
    "# set labels\n",
    "label_test = label_slow[0:data_test.shape[0]]\n",
    "label_test_mixed = np.zeros((data_test_mixed.shape[0], 1))\n",
    "label_test_mixed[0:label_test.shape[0]] += label_test\n",
    "\n",
    "# Validation data\n",
    "data_validation = data_train_all[int(validation[0]*data_train_all.shape[0]): int(validation[1]*data_train_all.shape[0]),:,:]\n",
    "\n",
    "\n",
    "print(f\"train data shape: {data_train.shape} \\ntest data shape: {data_test.shape} \\nlabel shape: {label_test.shape} \\n\\ntest data prepared: {data_test_mixed.shape} \\nlabel prepared: {label_test_mixed.shape} \\n\\ndata validation: {data_validation.shape}\")"
   ],
   "metadata": {
    "collapsed": false,
    "pycharm": {
     "name": "#%%\n"
    }
   }
  },
  {
   "cell_type": "markdown",
   "source": [
    "## Model"
   ],
   "metadata": {
    "collapsed": false
   }
  },
  {
   "cell_type": "code",
   "execution_count": 149,
   "outputs": [],
   "source": [
    "# set these variables before model creation\n",
    "\n",
    "latent_size = 10\n",
    "input_shape = data_train.shape[1:]\n",
    "n_features = data_train.shape[2]\n",
    "width_window = 48\n",
    "dropout = False\n",
    "layer_norm = True"
   ],
   "metadata": {
    "collapsed": false,
    "pycharm": {
     "name": "#%%\n"
    }
   }
  },
  {
   "cell_type": "code",
   "execution_count": 150,
   "outputs": [],
   "source": [
    "# Autoencoder class\n",
    "class Autoencoder(Model):\n",
    "  def __init__(self, encoder, decoder, latent_dim):\n",
    "    super(Autoencoder, self).__init__()\n",
    "    self.latent_dim = latent_dim\n",
    "    self.encoder = encoder\n",
    "    self.decoder = decoder\n",
    "\n",
    "  def call(self, x):\n",
    "    encoded = self.encoder(x)\n",
    "    decoded = self.decoder(encoded)\n",
    "    return decoded"
   ],
   "metadata": {
    "collapsed": false,
    "pycharm": {
     "name": "#%%\n"
    }
   }
  },
  {
   "cell_type": "code",
   "execution_count": 183,
   "outputs": [],
   "source": [
    "# Encoder, Decoder, Discriminator functions\n",
    "\n",
    "def build_model_enc():\n",
    "    model = Sequential()\n",
    "    model.add(LSTM(latent_size*16, activation='relu', input_shape=input_shape, return_sequences=True, recurrent_initializer='random_normal'))\n",
    "    if layer_norm : model.add(LayerNormalization())\n",
    "    if dropout : model.add(Dropout(0.2))\n",
    "    model.add(LSTM(latent_size*8, activation='relu', return_sequences=True, recurrent_initializer='random_normal'))\n",
    "    if layer_norm : model.add(LayerNormalization())\n",
    "    if dropout : model.add(Dropout(0.2))\n",
    "    model.add(LSTM(latent_size*4, activation='relu', return_sequences=True, recurrent_initializer='random_normal'))\n",
    "    if layer_norm : model.add(LayerNormalization())\n",
    "    if dropout : model.add(Dropout(0.2))\n",
    "    model.add(LSTM(latent_size*2, activation='relu', return_sequences=True, recurrent_initializer='random_normal'))\n",
    "    if layer_norm : model.add(LayerNormalization())\n",
    "    if dropout : model.add(Dropout(0.2))\n",
    "    model.add(LSTM(latent_size, activation='relu', return_sequences=False, recurrent_initializer='random_normal'))\n",
    "    if layer_norm : model.add(LayerNormalization())\n",
    "    if dropout : model.add(Dropout(0.2))\n",
    "    model.add(RepeatVector(width_window))\n",
    "    return model\n",
    "\n",
    "def build_model_dec():\n",
    "    model = Sequential()\n",
    "\n",
    "    model.add(LSTM(latent_size, activation='relu', return_sequences=True, recurrent_initializer='random_normal'))\n",
    "    if layer_norm : model.add(LayerNormalization())\n",
    "    if dropout : model.add(Dropout(0.2))\n",
    "    model.add(LSTM(latent_size*2, activation='relu', return_sequences=True, recurrent_initializer='random_normal'))\n",
    "    if layer_norm : model.add(LayerNormalization())\n",
    "    if dropout : model.add(Dropout(0.2))\n",
    "    model.add(LSTM(latent_size*4, activation='relu', return_sequences=True, recurrent_initializer='random_normal'))\n",
    "    if layer_norm : model.add(LayerNormalization())\n",
    "    if dropout : model.add(Dropout(0.2))\n",
    "    model.add(LSTM(latent_size*8, activation='relu', return_sequences=True, recurrent_initializer='random_normal'))\n",
    "    if layer_norm : model.add(LayerNormalization())\n",
    "    if dropout : model.add(Dropout(0.2))\n",
    "    model.add(LSTM(latent_size*16, activation='relu', return_sequences=True, recurrent_initializer='random_normal'))\n",
    "    if layer_norm : model.add(LayerNormalization())\n",
    "    if dropout : model.add(Dropout(0.2))\n",
    "    model.add(TimeDistributed(Dense(units=n_features)))\n",
    "    return model\n",
    "\n",
    "def build_model_disc():\n",
    "    model = Sequential()\n",
    "    #model.add(layers.Dense(256, activation=\"relu\", input_shape=(width_window, latent_size)))\n",
    "    model.add(layers.Dense(64, activation=\"relu\", input_shape=(width_window, latent_size)))\n",
    "    model.add(layers.Dense(64, activation=\"relu\"))\n",
    "    #model.add(layers.Dense(16, activation=\"relu\"))\n",
    "    model.add(layers.Dense(1, activation=\"sigmoid\"))\n",
    "    return model"
   ],
   "metadata": {
    "collapsed": false,
    "pycharm": {
     "name": "#%%\n"
    }
   }
  },
  {
   "cell_type": "markdown",
   "source": [
    "# To be sure model have the ability to reconstruct timeseries"
   ],
   "metadata": {
    "collapsed": false
   }
  },
  {
   "cell_type": "code",
   "execution_count": 121,
   "outputs": [
    {
     "ename": "ValueError",
     "evalue": "Tensor conversion requested dtype float32 for Tensor with dtype float64: <tf.Tensor: shape=(11687, 48, 79), dtype=float64, numpy=\narray([[[-0.73499313, -1.00380422, -0.39113503, ...,  1.40474992,\n         -1.74302682, -2.0413064 ],\n        [-0.73499313, -1.00380422, -0.39113503, ...,  1.36479354,\n         -1.71380519, -1.87681695],\n        [-0.73499313, -1.00380422, -0.39113503, ...,  1.33398993,\n         -1.69002883, -1.756147  ],\n        ...,\n        [ 1.24841329, -1.07813686, -1.74705088, ...,  1.59781629,\n         -1.71359543, -1.87355293],\n        [ 1.24841329, -1.07813686, -1.74705088, ...,  1.64577327,\n         -1.74054641, -2.04049104],\n        [ 1.24841329, -1.07813686, -1.74705088, ...,  1.68896558,\n         -1.7646524 , -2.21175533]],\n\n       [[-1.10688184, -0.87311917, -0.46282991, ...,  0.5552184 ,\n         -0.77988632,  0.40447976],\n        [-1.10688184, -0.87311917, -0.46282991, ...,  0.55998728,\n         -0.77976735,  0.40506833],\n        [-1.10688184, -0.87311917, -0.46282991, ...,  0.56492813,\n         -0.77964286,  0.40561472],\n        ...,\n        [-1.10688184, -1.29653436, -1.82542974, ...,  1.21809774,\n         -1.39932228, -0.68581493],\n        [-1.10688184, -1.29653436, -1.82542974, ...,  1.21409246,\n         -1.39943245, -0.6857382 ],\n        [-1.10688184, -1.29653436, -1.82542974, ...,  1.2101352 ,\n         -1.39960132, -0.68582054]],\n\n       [[ 0.00878428, -0.27886607, -0.66571811, ...,  0.09242447,\n          0.13962157,  0.81178015],\n        [ 0.00878428, -0.27886607, -0.66571811, ...,  0.0831142 ,\n          0.13902194,  0.8123416 ],\n        [ 0.00878428, -0.27886607, -0.66571811, ...,  0.0693364 ,\n          0.13934735,  0.81295776],\n        ...,\n        [ 0.00878428,  2.51989511,  1.89302654, ..., -0.94613568,\n          0.87622053,  0.3371292 ],\n        [ 0.00878428,  2.51989511,  1.89302654, ..., -0.93292628,\n          0.87676433,  0.33724354],\n        [ 0.00878428, -0.95365788, -0.43390725, ..., -0.92079749,\n          0.87725084,  0.33731322]],\n\n       ...,\n\n       [[-0.48706733,  0.98523886,  0.13699647, ...,  0.4209195 ,\n         -0.72006186,  0.43617792],\n        [-0.48706733,  0.98523886,  0.13699647, ...,  0.43097375,\n         -0.72018103,  0.43861402],\n        [-0.48706733, -0.27528625, -0.14449838, ...,  0.44066876,\n         -0.72024664,  0.44090077],\n        ...,\n        [-0.36310443,  0.84442736,  1.91792059, ...,  2.02785094,\n         -1.76921654, -2.37955794],\n        [-0.36310443,  0.84442736,  1.91792059, ...,  1.9960238 ,\n         -1.77095204, -2.37957511],\n        [-0.36310443,  0.84442736,  1.91792059, ...,  1.96567765,\n         -1.77258829, -2.3797583 ]],\n\n       [[-0.61103023, -0.78327215, -1.03243849, ..., -0.9594907 ,\n          1.07877348,  0.06126155],\n        [-0.61103023, -0.78327215, -1.03243849, ..., -0.95052067,\n          1.07831484,  0.06250598],\n        [-0.61103023, -0.78327215, -1.03243849, ..., -0.9437009 ,\n          1.07737397,  0.06440515],\n        ...,\n        [-0.61103023, -0.9123147 , -0.51531245, ..., -1.40785162,\n          1.54422291, -0.99791187],\n        [-0.61103023, -0.9123147 , -0.51531245, ..., -1.39969384,\n          1.54455607, -0.99822492],\n        [-0.61103023, -0.9123147 , -0.51531245, ..., -1.39153278,\n          1.54488627, -0.99853799]],\n\n       [[ 1.37237619, -0.8772254 ,  0.18860038, ...,  1.74101607,\n         -1.25325765, -0.38812622],\n        [ 1.37237619, -0.8772254 ,  0.18860038, ...,  1.88659448,\n         -1.34388373, -0.61541056],\n        [ 1.37237619, -0.8772254 ,  0.18860038, ...,  2.00552855,\n         -1.42467669, -0.84806174],\n        ...,\n        [ 1.37237619,  0.2933909 ,  1.10062753, ...,  0.81935594,\n         -1.09820698, -0.04102632],\n        [ 1.37237619,  0.2933909 ,  1.10062753, ...,  0.8239742 ,\n         -1.09809283, -0.04017102],\n        [ 1.37237619,  0.2933909 ,  1.10062753, ...,  0.82874573,\n         -1.097974  , -0.03941945]]])>",
     "output_type": "error",
     "traceback": [
      "\u001B[0;31m---------------------------------------------------------------------------\u001B[0m",
      "\u001B[0;31mValueError\u001B[0m                                Traceback (most recent call last)",
      "Cell \u001B[0;32mIn[121], line 14\u001B[0m\n\u001B[1;32m     12\u001B[0m \u001B[38;5;28;01mtry\u001B[39;00m:\n\u001B[1;32m     13\u001B[0m     \u001B[38;5;28;01mwith\u001B[39;00m tf\u001B[38;5;241m.\u001B[39mdevice(\u001B[38;5;124m'\u001B[39m\u001B[38;5;124m/GPU\u001B[39m\u001B[38;5;124m'\u001B[39m):\n\u001B[0;32m---> 14\u001B[0m         data_train \u001B[38;5;241m=\u001B[39m \u001B[43mtf\u001B[49m\u001B[38;5;241;43m.\u001B[39;49m\u001B[43mconvert_to_tensor\u001B[49m\u001B[43m(\u001B[49m\u001B[43mdata_train\u001B[49m\u001B[43m,\u001B[49m\u001B[43m \u001B[49m\u001B[43mdtype\u001B[49m\u001B[38;5;241;43m=\u001B[39;49m\u001B[43mtf\u001B[49m\u001B[38;5;241;43m.\u001B[39;49m\u001B[43mfloat32\u001B[49m\u001B[43m)\u001B[49m\n\u001B[1;32m     15\u001B[0m         model \u001B[38;5;241m=\u001B[39m model\n\u001B[1;32m     16\u001B[0m         model\u001B[38;5;241m.\u001B[39mcompile(optimizer\u001B[38;5;241m=\u001B[39moptimizer, loss\u001B[38;5;241m=\u001B[39m\u001B[38;5;124m'\u001B[39m\u001B[38;5;124mmse\u001B[39m\u001B[38;5;124m'\u001B[39m)\n",
      "File \u001B[0;32m~/miniforge3/envs/tensor_gpu/lib/python3.10/site-packages/tensorflow/python/util/traceback_utils.py:153\u001B[0m, in \u001B[0;36mfilter_traceback.<locals>.error_handler\u001B[0;34m(*args, **kwargs)\u001B[0m\n\u001B[1;32m    151\u001B[0m \u001B[38;5;28;01mexcept\u001B[39;00m \u001B[38;5;167;01mException\u001B[39;00m \u001B[38;5;28;01mas\u001B[39;00m e:\n\u001B[1;32m    152\u001B[0m   filtered_tb \u001B[38;5;241m=\u001B[39m _process_traceback_frames(e\u001B[38;5;241m.\u001B[39m__traceback__)\n\u001B[0;32m--> 153\u001B[0m   \u001B[38;5;28;01mraise\u001B[39;00m e\u001B[38;5;241m.\u001B[39mwith_traceback(filtered_tb) \u001B[38;5;28;01mfrom\u001B[39;00m \u001B[38;5;28;01mNone\u001B[39;00m\n\u001B[1;32m    154\u001B[0m \u001B[38;5;28;01mfinally\u001B[39;00m:\n\u001B[1;32m    155\u001B[0m   \u001B[38;5;28;01mdel\u001B[39;00m filtered_tb\n",
      "File \u001B[0;32m~/miniforge3/envs/tensor_gpu/lib/python3.10/site-packages/tensorflow/python/framework/ops.py:1601\u001B[0m, in \u001B[0;36mconvert_to_tensor\u001B[0;34m(value, dtype, name, as_ref, preferred_dtype, dtype_hint, ctx, accepted_result_types)\u001B[0m\n\u001B[1;32m   1599\u001B[0m \u001B[38;5;28;01mif\u001B[39;00m \u001B[38;5;28misinstance\u001B[39m(value, Tensor):\n\u001B[1;32m   1600\u001B[0m   \u001B[38;5;28;01mif\u001B[39;00m dtype \u001B[38;5;129;01mis\u001B[39;00m \u001B[38;5;129;01mnot\u001B[39;00m \u001B[38;5;28;01mNone\u001B[39;00m \u001B[38;5;129;01mand\u001B[39;00m \u001B[38;5;129;01mnot\u001B[39;00m dtype\u001B[38;5;241m.\u001B[39mis_compatible_with(value\u001B[38;5;241m.\u001B[39mdtype):\n\u001B[0;32m-> 1601\u001B[0m     \u001B[38;5;28;01mraise\u001B[39;00m \u001B[38;5;167;01mValueError\u001B[39;00m(\n\u001B[1;32m   1602\u001B[0m         _add_error_prefix(\n\u001B[1;32m   1603\u001B[0m             \u001B[38;5;124mf\u001B[39m\u001B[38;5;124m\"\u001B[39m\u001B[38;5;124mTensor conversion requested dtype \u001B[39m\u001B[38;5;132;01m{\u001B[39;00mdtype\u001B[38;5;241m.\u001B[39mname\u001B[38;5;132;01m}\u001B[39;00m\u001B[38;5;124m \u001B[39m\u001B[38;5;124m\"\u001B[39m\n\u001B[1;32m   1604\u001B[0m             \u001B[38;5;124mf\u001B[39m\u001B[38;5;124m\"\u001B[39m\u001B[38;5;124mfor Tensor with dtype \u001B[39m\u001B[38;5;132;01m{\u001B[39;00mvalue\u001B[38;5;241m.\u001B[39mdtype\u001B[38;5;241m.\u001B[39mname\u001B[38;5;132;01m}\u001B[39;00m\u001B[38;5;124m: \u001B[39m\u001B[38;5;132;01m{\u001B[39;00mvalue\u001B[38;5;132;01m!r}\u001B[39;00m\u001B[38;5;124m\"\u001B[39m,\n\u001B[1;32m   1605\u001B[0m             name\u001B[38;5;241m=\u001B[39mname))\n\u001B[1;32m   1606\u001B[0m   \u001B[38;5;28;01mreturn\u001B[39;00m value\n\u001B[1;32m   1608\u001B[0m \u001B[38;5;28;01mif\u001B[39;00m preferred_dtype \u001B[38;5;129;01mis\u001B[39;00m \u001B[38;5;129;01mnot\u001B[39;00m \u001B[38;5;28;01mNone\u001B[39;00m:\n",
      "\u001B[0;31mValueError\u001B[0m: Tensor conversion requested dtype float32 for Tensor with dtype float64: <tf.Tensor: shape=(11687, 48, 79), dtype=float64, numpy=\narray([[[-0.73499313, -1.00380422, -0.39113503, ...,  1.40474992,\n         -1.74302682, -2.0413064 ],\n        [-0.73499313, -1.00380422, -0.39113503, ...,  1.36479354,\n         -1.71380519, -1.87681695],\n        [-0.73499313, -1.00380422, -0.39113503, ...,  1.33398993,\n         -1.69002883, -1.756147  ],\n        ...,\n        [ 1.24841329, -1.07813686, -1.74705088, ...,  1.59781629,\n         -1.71359543, -1.87355293],\n        [ 1.24841329, -1.07813686, -1.74705088, ...,  1.64577327,\n         -1.74054641, -2.04049104],\n        [ 1.24841329, -1.07813686, -1.74705088, ...,  1.68896558,\n         -1.7646524 , -2.21175533]],\n\n       [[-1.10688184, -0.87311917, -0.46282991, ...,  0.5552184 ,\n         -0.77988632,  0.40447976],\n        [-1.10688184, -0.87311917, -0.46282991, ...,  0.55998728,\n         -0.77976735,  0.40506833],\n        [-1.10688184, -0.87311917, -0.46282991, ...,  0.56492813,\n         -0.77964286,  0.40561472],\n        ...,\n        [-1.10688184, -1.29653436, -1.82542974, ...,  1.21809774,\n         -1.39932228, -0.68581493],\n        [-1.10688184, -1.29653436, -1.82542974, ...,  1.21409246,\n         -1.39943245, -0.6857382 ],\n        [-1.10688184, -1.29653436, -1.82542974, ...,  1.2101352 ,\n         -1.39960132, -0.68582054]],\n\n       [[ 0.00878428, -0.27886607, -0.66571811, ...,  0.09242447,\n          0.13962157,  0.81178015],\n        [ 0.00878428, -0.27886607, -0.66571811, ...,  0.0831142 ,\n          0.13902194,  0.8123416 ],\n        [ 0.00878428, -0.27886607, -0.66571811, ...,  0.0693364 ,\n          0.13934735,  0.81295776],\n        ...,\n        [ 0.00878428,  2.51989511,  1.89302654, ..., -0.94613568,\n          0.87622053,  0.3371292 ],\n        [ 0.00878428,  2.51989511,  1.89302654, ..., -0.93292628,\n          0.87676433,  0.33724354],\n        [ 0.00878428, -0.95365788, -0.43390725, ..., -0.92079749,\n          0.87725084,  0.33731322]],\n\n       ...,\n\n       [[-0.48706733,  0.98523886,  0.13699647, ...,  0.4209195 ,\n         -0.72006186,  0.43617792],\n        [-0.48706733,  0.98523886,  0.13699647, ...,  0.43097375,\n         -0.72018103,  0.43861402],\n        [-0.48706733, -0.27528625, -0.14449838, ...,  0.44066876,\n         -0.72024664,  0.44090077],\n        ...,\n        [-0.36310443,  0.84442736,  1.91792059, ...,  2.02785094,\n         -1.76921654, -2.37955794],\n        [-0.36310443,  0.84442736,  1.91792059, ...,  1.9960238 ,\n         -1.77095204, -2.37957511],\n        [-0.36310443,  0.84442736,  1.91792059, ...,  1.96567765,\n         -1.77258829, -2.3797583 ]],\n\n       [[-0.61103023, -0.78327215, -1.03243849, ..., -0.9594907 ,\n          1.07877348,  0.06126155],\n        [-0.61103023, -0.78327215, -1.03243849, ..., -0.95052067,\n          1.07831484,  0.06250598],\n        [-0.61103023, -0.78327215, -1.03243849, ..., -0.9437009 ,\n          1.07737397,  0.06440515],\n        ...,\n        [-0.61103023, -0.9123147 , -0.51531245, ..., -1.40785162,\n          1.54422291, -0.99791187],\n        [-0.61103023, -0.9123147 , -0.51531245, ..., -1.39969384,\n          1.54455607, -0.99822492],\n        [-0.61103023, -0.9123147 , -0.51531245, ..., -1.39153278,\n          1.54488627, -0.99853799]],\n\n       [[ 1.37237619, -0.8772254 ,  0.18860038, ...,  1.74101607,\n         -1.25325765, -0.38812622],\n        [ 1.37237619, -0.8772254 ,  0.18860038, ...,  1.88659448,\n         -1.34388373, -0.61541056],\n        [ 1.37237619, -0.8772254 ,  0.18860038, ...,  2.00552855,\n         -1.42467669, -0.84806174],\n        ...,\n        [ 1.37237619,  0.2933909 ,  1.10062753, ...,  0.81935594,\n         -1.09820698, -0.04102632],\n        [ 1.37237619,  0.2933909 ,  1.10062753, ...,  0.8239742 ,\n         -1.09809283, -0.04017102],\n        [ 1.37237619,  0.2933909 ,  1.10062753, ...,  0.82874573,\n         -1.097974  , -0.03941945]]])>"
     ]
    }
   ],
   "source": [
    "model_enc = build_model_enc()\n",
    "model_dec = build_model_dec()\n",
    "\n",
    "model = Sequential()\n",
    "model.add(model_enc)\n",
    "model.add(model_dec)\n",
    "\n",
    "learning_rate = 1e-4\n",
    "optimizer = Adam(learning_rate=learning_rate)\n",
    "\n",
    "tf.debugging.set_log_device_placement(True)\n",
    "try:\n",
    "    with tf.device('/GPU'):\n",
    "        data_train = tf.convert_to_tensor(data_train, dtype=tf.float32)\n",
    "        model = model\n",
    "        model.compile(optimizer=optimizer, loss='mse')\n",
    "        model.summary()\n",
    "except RuntimeError as e:\n",
    "    print(e)\n",
    "history = model.fit(data_train, data_train, epochs=20, batch_size=128,validation_data=(data_validation, data_validation), shuffle=False)"
   ],
   "metadata": {
    "collapsed": false,
    "pycharm": {
     "name": "#%%\n"
    }
   }
  },
  {
   "cell_type": "code",
   "execution_count": 183,
   "outputs": [
    {
     "name": "stdout",
     "output_type": "stream",
     "text": [
      "731/731 [==============================] - 20s 27ms/step\n",
      "mean: 0.5792578458786011\n",
      "130/130 [==============================] - 4s 27ms/step\n",
      "mean: 0.691194786464506\n"
     ]
    }
   ],
   "source": [
    "p_train = model.predict(data_train)\n",
    "difference_train = np.abs(p_train - data_train)\n",
    "print(f\"mean: {np.mean(difference_train)}\")\n",
    "\n",
    "\n",
    "p_test = model.predict(data_test)\n",
    "difference_test = np.abs(p_test - data_test)\n",
    "print(f\"mean: {np.mean(difference_test)}\")"
   ],
   "metadata": {
    "collapsed": false,
    "pycharm": {
     "name": "#%%\n"
    }
   }
  },
  {
   "cell_type": "code",
   "execution_count": 184,
   "outputs": [
    {
     "data": {
      "text/plain": "<seaborn.axisgrid.FacetGrid at 0x4fec7f970>"
     },
     "execution_count": 184,
     "metadata": {},
     "output_type": "execute_result"
    },
    {
     "data": {
      "text/plain": "<Figure size 500x500 with 1 Axes>",
      "image/png": "[encoded data removed]"
     },
     "metadata": {},
     "output_type": "display_data"
    }
   ],
   "source": [
    "cost_train = np.mean(np.abs(p_train - data_train), axis=1)\n",
    "sns.displot(cost_train[:,32], bins=100, kde=True)"
   ],
   "metadata": {
    "collapsed": false,
    "pycharm": {
     "name": "#%%\n"
    }
   }
  },
  {
   "cell_type": "code",
   "execution_count": 185,
   "outputs": [
    {
     "data": {
      "text/plain": "<seaborn.axisgrid.FacetGrid at 0x50b91e800>"
     },
     "execution_count": 185,
     "metadata": {},
     "output_type": "execute_result"
    },
    {
     "data": {
      "text/plain": "<Figure size 500x500 with 1 Axes>",
      "image/png": "[encoded data removed]"
     },
     "metadata": {},
     "output_type": "display_data"
    }
   ],
   "source": [
    "cost_test = np.mean(np.abs(p_test - data_test), axis=1)\n",
    "sns.displot(cost_test[:,32], bins=100, kde=True)"
   ],
   "metadata": {
    "collapsed": false,
    "pycharm": {
     "name": "#%%\n"
    }
   }
  },
  {
   "cell_type": "code",
   "execution_count": 186,
   "outputs": [
    {
     "name": "stdout",
     "output_type": "stream",
     "text": [
      "260/260 [==============================] - 7s 28ms/step\n",
      "mean: 0.6428241302673501\n"
     ]
    },
    {
     "data": {
      "text/plain": "<seaborn.axisgrid.FacetGrid at 0x5681a02b0>"
     },
     "execution_count": 186,
     "metadata": {},
     "output_type": "execute_result"
    },
    {
     "data": {
      "text/plain": "<Figure size 500x500 with 1 Axes>",
      "image/png": "[encoded data removed]"
     },
     "metadata": {},
     "output_type": "display_data"
    }
   ],
   "source": [
    "# Prepared test data\n",
    "p_test_mixed = model.predict(data_test_mixed)\n",
    "\n",
    "difference_test_mixed = np.abs(p_test_mixed - data_test_mixed)\n",
    "print(f\"mean: {np.mean(difference_test_mixed)}\")\n",
    "\n",
    "cost_test_mixed = np.mean(np.abs(p_test_mixed - data_test_mixed), axis=1)\n",
    "sns.displot(cost_test_mixed[:,32], bins=100, kde=True)"
   ],
   "metadata": {
    "collapsed": false,
    "pycharm": {
     "name": "#%%\n"
    }
   }
  },
  {
   "cell_type": "code",
   "execution_count": 187,
   "outputs": [],
   "source": [
    "# For model predictions\n",
    "scores = np.mean(cost_test_mixed, axis=1)\n",
    "targets = label_test_mixed"
   ],
   "metadata": {
    "collapsed": false,
    "pycharm": {
     "name": "#%%\n"
    }
   }
  },
  {
   "cell_type": "code",
   "execution_count": 58,
   "outputs": [
    {
     "name": "stderr",
     "output_type": "stream",
     "text": [
      "100%|██████████| 829/829 [00:22<00:00, 36.80it/s]"
     ]
    },
    {
     "name": "stdout",
     "output_type": "stream",
     "text": [
      "mean F1 score without PA: 0.5529229144230015 \n",
      "mean F1 score with PA: 0.5569327145159674\n"
     ]
    },
    {
     "name": "stderr",
     "output_type": "stream",
     "text": [
      "\n"
     ]
    }
   ],
   "source": [
    "result = evaluate(scores, targets, k=50)\n",
    "\n",
    "mean_f1_wo_pa = np.mean(result[\"f1_scores\"])\n",
    "mean_f1_w_pa = np.mean(result[\"pa_f1_scores\"])\n",
    "print(f\"mean F1 score without PA: {mean_f1_wo_pa} \\nmean F1 score with PA: {mean_f1_w_pa}\")"
   ],
   "metadata": {
    "collapsed": false,
    "pycharm": {
     "name": "#%%\n"
    }
   }
  },
  {
   "cell_type": "code",
   "execution_count": 189,
   "outputs": [
    {
     "data": {
      "text/plain": "{'best_f1_wo_pa': 0.6948401771818508,\n 'f1_scores': array([6.66666667e-01, 6.66720231e-01, 6.66613098e-01, ...,\n        9.63623223e-04, 4.81927711e-04, 0.00000000e+00]),\n 'best_precision_wo_pa': 0.6902949571836346,\n 'best_recall_wo_pa': 0.6994456495541094,\n 'prauc_wo_pa': 0.820171146070078,\n 'auc_wo_pa': 0.7565672086668442,\n 'raw_f1_w_pa': 0.6666666666666666,\n 'raw_precision_w_pa': 0.5,\n 'raw_recall_w_pa': 1.0,\n 'best_f1_w_pa': 0.6667202313996465,\n 'best_f1_th_w_pa': 0.6176282568694217,\n 'best_precision_w_pa': 0.5000602627455707,\n 'best_recall_w_pa': 1.0,\n 'pa_f1_scores': array([0.66666667, 0.66666667, 0.66666667, 0.66666667, 0.66666667,\n        0.66666667, 0.66666667, 0.66666667, 0.66666667, 0.66666667,\n        0.66666667, 0.66666667, 0.66666667, 0.66666667, 0.66666667,\n        0.66666667, 0.66666667, 0.66666667, 0.66666667, 0.66666667,\n        0.66666667, 0.66666667, 0.66666667, 0.66666667, 0.66666667,\n        0.66666667, 0.66666667, 0.66666667, 0.66666667, 0.66666667,\n        0.66666667, 0.66666667, 0.66666667, 0.66666667, 0.66666667,\n        0.66666667, 0.66666667, 0.66666667, 0.66666667, 0.66666667,\n        0.66666667, 0.66666667, 0.66666667, 0.66666667, 0.66666667,\n        0.66666667, 0.66666667, 0.66666667, 0.66666667, 0.66666667,\n        0.66666667, 0.66666667, 0.66666667, 0.66666667, 0.66666667,\n        0.66666667, 0.66666667, 0.66666667, 0.66666667, 0.66666667,\n        0.66666667, 0.66666667, 0.66666667, 0.66666667, 0.66666667,\n        0.66666667, 0.66666667, 0.66666667, 0.66666667, 0.66666667,\n        0.66666667, 0.66666667, 0.66666667, 0.66666667, 0.66666667,\n        0.66666667, 0.66666667, 0.66666667, 0.66666667, 0.66666667,\n        0.66666667, 0.66666667, 0.66666667, 0.66666667, 0.66666667,\n        0.66666667, 0.66666667, 0.66666667, 0.66666667, 0.66666667,\n        0.66666667, 0.66666667, 0.66666667, 0.66666667, 0.66666667,\n        0.66666667, 0.66666667, 0.66666667, 0.66666667, 0.66666667,\n        0.66666667, 0.66666667, 0.66666667, 0.66666667, 0.66666667,\n        0.66666667, 0.66666667, 0.66666667, 0.66666667, 0.66666667,\n        0.66666667, 0.66666667, 0.66666667, 0.66666667, 0.66666667,\n        0.66666667, 0.66666667, 0.66666667, 0.66666667, 0.66666667,\n        0.66666667, 0.66666667, 0.66666667, 0.66666667, 0.66666667,\n        0.66666667, 0.66666667, 0.66666667, 0.66666667, 0.66666667,\n        0.66666667, 0.66666667, 0.66666667, 0.66666667, 0.66666667,\n        0.66666667, 0.66666667, 0.66666667, 0.66666667, 0.66666667,\n        0.66666667, 0.66666667, 0.66666667, 0.66666667, 0.66666667,\n        0.66666667, 0.66666667, 0.66666667, 0.66666667, 0.66666667,\n        0.66666667, 0.66666667, 0.66666667, 0.66666667, 0.66666667,\n        0.66666667, 0.66666667, 0.66666667, 0.66666667, 0.66666667,\n        0.66666667, 0.66666667, 0.66666667, 0.66666667, 0.66666667,\n        0.66666667, 0.66666667, 0.66666667, 0.66666667, 0.66666667,\n        0.66666667, 0.66666667, 0.66666667, 0.66666667, 0.66666667,\n        0.66666667, 0.66666667, 0.66666667, 0.66666667, 0.66666667,\n        0.66666667, 0.66666667, 0.66666667, 0.66666667, 0.66666667,\n        0.66666667, 0.66666667, 0.66666667, 0.66666667, 0.66666667,\n        0.66666667, 0.66666667, 0.66666667, 0.66666667, 0.66666667,\n        0.66666667, 0.66666667, 0.66666667, 0.66666667, 0.66666667,\n        0.66666667, 0.66666667, 0.66666667, 0.66666667, 0.66666667,\n        0.66666667, 0.66666667, 0.66666667, 0.66666667, 0.66666667,\n        0.66666667, 0.66666667, 0.66666667, 0.66666667, 0.66666667,\n        0.66666667, 0.66666667, 0.66666667, 0.66666667, 0.66666667,\n        0.66666667, 0.66666667, 0.66666667, 0.66666667, 0.66666667,\n        0.66666667, 0.66666667, 0.66666667, 0.66666667, 0.66666667,\n        0.66666667, 0.66666667, 0.66666667, 0.66666667, 0.66666667,\n        0.66666667, 0.66666667, 0.66666667, 0.66666667, 0.66666667,\n        0.66666667, 0.66666667, 0.66666667, 0.66666667, 0.66666667,\n        0.66666667, 0.66666667, 0.66666667, 0.66666667, 0.66666667,\n        0.66666667, 0.66666667, 0.66666667, 0.66666667, 0.66666667,\n        0.66666667, 0.66666667, 0.66666667, 0.66666667, 0.66666667,\n        0.66666667, 0.66666667, 0.66666667, 0.66666667, 0.66666667,\n        0.66666667, 0.66666667, 0.66666667, 0.66666667, 0.66666667,\n        0.66666667, 0.66666667, 0.66666667, 0.66666667, 0.66666667,\n        0.66666667, 0.66666667, 0.66666667, 0.66666667, 0.66666667,\n        0.66666667, 0.66666667, 0.66666667, 0.66666667, 0.66666667,\n        0.66666667, 0.66666667, 0.66666667, 0.66666667, 0.66666667,\n        0.66666667, 0.66666667, 0.66666667, 0.66666667, 0.66666667,\n        0.66666667, 0.66666667, 0.66666667, 0.66666667, 0.66666667,\n        0.66666667, 0.66666667, 0.66666667, 0.66666667, 0.66666667,\n        0.66666667, 0.66666667, 0.66666667, 0.66666667, 0.66666667,\n        0.66666667, 0.66666667, 0.66666667, 0.66666667, 0.66666667,\n        0.66666667, 0.66666667, 0.66666667, 0.66666667, 0.66666667,\n        0.66666667, 0.66666667, 0.66666667, 0.66666667, 0.66666667,\n        0.66666667, 0.66666667, 0.66666667, 0.66666667, 0.66666667,\n        0.66666667, 0.66666667, 0.66666667, 0.66666667, 0.66666667,\n        0.66666667, 0.66666667, 0.66666667, 0.66666667, 0.66666667,\n        0.66666667, 0.66666667, 0.66666667, 0.66666667, 0.66666667,\n        0.66666667, 0.66666667, 0.66666667, 0.66666667, 0.66666667,\n        0.66666667, 0.66666667, 0.66666667, 0.66666667, 0.66666667,\n        0.66666667, 0.66666667, 0.66666667, 0.66666667, 0.66666667,\n        0.66666667, 0.66666667, 0.66666667, 0.66666667, 0.66666667,\n        0.66666667, 0.66666667, 0.66666667, 0.66666667, 0.66666667,\n        0.66666667, 0.66666667, 0.66666667, 0.66666667, 0.66666667,\n        0.66666667, 0.66666667, 0.66666667, 0.66666667, 0.66666667,\n        0.66666667, 0.66666667, 0.66666667, 0.66666667, 0.66666667,\n        0.66666667, 0.66666667, 0.66666667, 0.66666667, 0.66666667,\n        0.66666667, 0.66666667, 0.66666667, 0.66666667, 0.66666667,\n        0.66666667, 0.66666667, 0.66666667, 0.66666667, 0.66666667,\n        0.66666667, 0.66666667, 0.66666667, 0.66666667, 0.66666667,\n        0.66666667, 0.66666667, 0.66666667, 0.66666667, 0.66666667,\n        0.66666667, 0.66666667, 0.66666667, 0.66666667, 0.66666667,\n        0.66666667, 0.66666667, 0.66666667, 0.66666667, 0.66666667,\n        0.66666667, 0.66666667, 0.66666667, 0.66666667, 0.66666667,\n        0.66666667, 0.66666667, 0.66666667, 0.66666667, 0.66666667,\n        0.66666667, 0.66666667, 0.66666667, 0.66666667, 0.66666667,\n        0.66666667, 0.66666667, 0.66666667, 0.66666667, 0.66666667,\n        0.66666667, 0.66666667, 0.66666667, 0.66666667, 0.66666667,\n        0.66666667, 0.66666667, 0.66666667, 0.66666667, 0.66666667,\n        0.66666667, 0.66666667, 0.66666667, 0.66666667, 0.66666667,\n        0.66666667, 0.66666667, 0.66666667, 0.66666667, 0.66666667,\n        0.66666667, 0.66666667, 0.66666667, 0.66666667, 0.66666667,\n        0.66666667, 0.66666667, 0.66666667, 0.66666667, 0.66666667,\n        0.66666667, 0.66666667, 0.66666667, 0.66666667, 0.66666667,\n        0.66666667, 0.66666667, 0.66666667, 0.66666667, 0.66666667,\n        0.66666667, 0.66666667, 0.66666667, 0.66666667, 0.66666667,\n        0.66666667, 0.66666667, 0.66672023, 0.66672023, 0.66672023,\n        0.66672023, 0.66672023, 0.66672023, 0.66672023, 0.66672023,\n        0.66672023, 0.66672023, 0.66672023, 0.66672023, 0.66672023,\n        0.66672023, 0.66672023, 0.66672023, 0.66672023, 0.66672023,\n        0.66672023, 0.66672023, 0.66672023, 0.66672023, 0.66672023,\n        0.66672023, 0.66672023, 0.66672023, 0.66672023, 0.66672023,\n        0.66672023, 0.66672023, 0.66672023, 0.66672023, 0.66672023,\n        0.66672023, 0.66672023, 0.66672023, 0.66672023, 0.66672023,\n        0.66672023, 0.66672023, 0.66672023, 0.66672023, 0.66672023,\n        0.66672023, 0.66672023, 0.66672023, 0.66672023, 0.66672023,\n        0.66672023, 0.66672023, 0.66672023, 0.66672023, 0.66672023,\n        0.66672023, 0.66672023, 0.66672023, 0.66672023, 0.66672023,\n        0.66672023, 0.66672023, 0.66672023, 0.66672023, 0.66672023,\n        0.66672023, 0.66672023, 0.66672023, 0.66672023, 0.66672023,\n        0.66672023, 0.66672023, 0.66672023, 0.66672023, 0.66672023,\n        0.66672023, 0.66672023, 0.66672023, 0.66672023, 0.66672023,\n        0.66672023, 0.66672023, 0.66672023, 0.66672023, 0.66672023,\n        0.66672023, 0.66672023, 0.66672023, 0.66672023, 0.66672023,\n        0.66672023, 0.66672023, 0.66672023, 0.66672023, 0.66672023,\n        0.66672023, 0.66672023, 0.66672023, 0.66672023, 0.66672023,\n        0.66672023, 0.66672023, 0.66672023, 0.66672023, 0.66672023,\n        0.66672023, 0.66672023, 0.66672023, 0.66672023, 0.66672023,\n        0.66672023, 0.66672023, 0.66672023, 0.64120012, 0.63971499,\n        0.63760472, 0.63642014, 0.63554311, 0.63528678, 0.63471745,\n        0.63414634, 0.63263389, 0.63111669, 0.6308514 , 0.62964128,\n        0.62779704, 0.62626263, 0.62503952, 0.62476251, 0.62353314,\n        0.62198221, 0.62106268, 0.62014022, 0.61857644, 0.61700767,\n        0.61607429, 0.61513791, 0.61419852, 0.61325611, 0.61166613,\n        0.60974822, 0.60911736, 0.60783679, 0.60655206, 0.60591293,\n        0.60397006, 0.60234681, 0.60039177, 0.59908437, 0.59810023,\n        0.59678478, 0.595465  , 0.59348255, 0.59182328, 0.59015852,\n        0.58848826, 0.5871438 , 0.5847992 , 0.58344415, 0.58241758,\n        0.58105404, 0.57968593, 0.57864793, 0.57794167, 0.57656145,\n        0.57517659, 0.57446092, 0.57273034, 0.57167005, 0.57060616,\n        0.56852103, 0.5667686 , 0.56501021, 0.56324582, 0.56181694,\n        0.56004105, 0.55791638, 0.55647099, 0.55467675, 0.55287633,\n        0.55072464, 0.5485655 , 0.54674515, 0.54457163, 0.54308548,\n        0.54124608, 0.53940028, 0.53719874, 0.53568929, 0.53452506,\n        0.53335674, 0.53112909, 0.52924595, 0.52770914, 0.52510608,\n        0.52320227, 0.52093683, 0.51866335, 0.51709402, 0.51480557,\n        0.51250893, 0.50984604, 0.5071736 , 0.5052102 , 0.50287977,\n        0.50018031, 0.49783237, 0.49511401, 0.49238579, 0.48964766,\n        0.48689956, 0.48414145, 0.48137327, 0.47859495, 0.47617302,\n        0.47337495, 0.47056659, 0.46811648, 0.46528804, 0.46244913,\n        0.4595997 , 0.4567397 , 0.45386905, 0.45136042, 0.44846901,\n        0.44594089, 0.44302849, 0.44048066, 0.43754703, 0.43497927,\n        0.43202417, 0.42905789, 0.42645944, 0.42347133, 0.42085236,\n        0.41822341, 0.41520244, 0.41216992, 0.40912577, 0.40606992,\n        0.40300231, 0.39992287, 0.39683153, 0.39372822, 0.39061288,\n        0.38748543, 0.38434579, 0.38119391, 0.37802971, 0.37485311,\n        0.37166405, 0.36846245, 0.36524823, 0.36202132, 0.35878165,\n        0.35552913, 0.3522637 , 0.34898528, 0.34569378, 0.34238913,\n        0.33907126, 0.33574007, 0.3323955 , 0.32903745, 0.32566586,\n        0.32228063, 0.31888169, 0.31546894, 0.31204231, 0.30860171,\n        0.30514706, 0.30167826, 0.29819524, 0.2946979 , 0.29118616,\n        0.28765993, 0.28411911, 0.28056361, 0.27699336, 0.27340824,\n        0.26980817, 0.26619306, 0.26256281, 0.25891733, 0.25525652,\n        0.25158028, 0.24788851, 0.24418113, 0.24045802, 0.23671908,\n        0.23296422, 0.22919334, 0.22540633, 0.22160309, 0.21778351,\n        0.21394748, 0.21009491, 0.20622568, 0.20233969, 0.19843682,\n        0.19451697, 0.19058003, 0.18662587, 0.1826544 , 0.1786655 ,\n        0.17465904, 0.17063492, 0.16659302, 0.16253322, 0.15845539,\n        0.15435943, 0.15024521, 0.1461126 , 0.14196149, 0.13779174,\n        0.13360324, 0.12939585, 0.12516945, 0.12092391, 0.1166591 ,\n        0.11237489, 0.10807114, 0.10374771, 0.09940449, 0.09504132,\n        0.09065808, 0.08625461, 0.08183079, 0.07738647, 0.0729215 ,\n        0.06843575, 0.06392907, 0.05940131, 0.05485232, 0.05028195,\n        0.04569006, 0.04107649, 0.03644108, 0.03178368, 0.02710414,\n        0.02240229, 0.01767797, 0.01293103, 0.00816131])}"
     },
     "execution_count": 189,
     "metadata": {},
     "output_type": "execute_result"
    }
   ],
   "source": [
    "result"
   ],
   "metadata": {
    "collapsed": false,
    "pycharm": {
     "name": "#%%\n"
    }
   }
  },
  {
   "cell_type": "markdown",
   "source": [
    "## Adversarial Autoencoder - Build Models & Create loss functions"
   ],
   "metadata": {
    "collapsed": false
   }
  },
  {
   "cell_type": "code",
   "execution_count": 184,
   "outputs": [],
   "source": [
    "# build functions for models\n",
    "\n",
    "def build_models():\n",
    "    model_enc = build_model_enc()\n",
    "    model_dec = build_model_dec()\n",
    "    model_disc = build_model_disc()\n",
    "\n",
    "    model_ae = Autoencoder(model_enc, model_dec, latent_size)\n",
    "    model_ae.build(input_shape=(None, input_shape[0], input_shape[1]))\n",
    "\n",
    "    return model_disc, model_ae\n",
    "\n",
    "def build_aae():\n",
    "    model_disc, model_ae = build_models()\n",
    "\n",
    "    ae_optimizer = tf.keras.optimizers.Adam(learning_rate=learning_rate_ae)\n",
    "    dc_optimizer = tf.keras.optimizers.Adam(learning_rate=learning_rate_disc)\n",
    "    gen_optimizer = tf.keras.optimizers.Adam(learning_rate=learning_rate_gen)\n",
    "\n",
    "    try:\n",
    "        with tf.device('/GPU'):\n",
    "            #data_train = tf.convert_to_tensor(data_train, dtype=tf.int32)\n",
    "\n",
    "            # discriminator\n",
    "            model_disc = model_disc\n",
    "            model_disc.compile(optimizer=dc_optimizer, loss=discriminator_loss)\n",
    "            model_disc.summary()\n",
    "\n",
    "            # discriminator encoder pipe (generator)\n",
    "            # model_gen = model_gen\n",
    "            # model_gen.compile(optimizer=gen_optimizer, loss=generator_loss)\n",
    "            # model_gen.summary()\n",
    "\n",
    "            # auto encoder\n",
    "            model_ae = model_ae\n",
    "            model_ae.compile(optimizer=ae_optimizer, loss=autoencoder_loss)\n",
    "            model_ae.summary()\n",
    "    except RuntimeError as e:\n",
    "        print(e)\n",
    "    return model_disc, model_ae , ae_optimizer, dc_optimizer, gen_optimizer"
   ],
   "metadata": {
    "collapsed": false,
    "pycharm": {
     "name": "#%%\n"
    }
   }
  },
  {
   "cell_type": "code",
   "execution_count": 185,
   "outputs": [],
   "source": [
    "# Loss functions for autoencoder, discriminator and generator\n",
    "\n",
    "def autoencoder_loss(inputs, reconstruction, loss_weight):\n",
    "    return loss_weight * mse(inputs, reconstruction)\n",
    "\n",
    "\n",
    "def discriminator_loss(real_output, fake_output, loss_weight):\n",
    "    loss_real = cross_entropy(tf.ones_like(real_output), real_output)\n",
    "    loss_fake = cross_entropy(tf.zeros_like(fake_output), fake_output)\n",
    "    return loss_weight * (loss_fake + loss_real)\n",
    "\n",
    "\n",
    "def generator_loss(fake_output, loss_weight):\n",
    "    return loss_weight * cross_entropy(tf.ones_like(fake_output), fake_output)"
   ],
   "metadata": {
    "collapsed": false,
    "pycharm": {
     "name": "#%%\n"
    }
   }
  },
  {
   "cell_type": "code",
   "execution_count": 186,
   "outputs": [],
   "source": [
    "# Train function for optimizing gradients for each batch\n",
    "comment = False\n",
    "def train_step(batch_x):\n",
    "    # -------------------------------------------------------------------------------------------------------------\n",
    "    # Autoencoder\n",
    "    with tf.GradientTape() as ae_tape:\n",
    "        ae_output = model_ae(batch_x, training=True)\n",
    "\n",
    "        if comment is True : print(f\"Train step: \\nbatch_x: {batch_x.shape}, decoder_output: {ae_output.shape}\")\n",
    "        # Autoencoder loss\n",
    "        ae_loss = autoencoder_loss(batch_x, ae_output, ae_loss_weight)\n",
    "\n",
    "    ae_grads = ae_tape.gradient(ae_loss, model_ae.trainable_variables)\n",
    "    ae_optimizer.apply_gradients(zip(ae_grads, model_ae.trainable_variables))\n",
    "\n",
    "    # -------------------------------------------------------------------------------------------------------------\n",
    "    # Discriminator\n",
    "    with tf.GradientTape() as dc_tape:\n",
    "        real_distribution = tf.random.normal([batch_x.shape[0], width_window, latent_size], mean=0.0, stddev=1.0)\n",
    "        encoder_output = model_ae.encoder(batch_x, training=True)\n",
    "\n",
    "        dc_real = model_disc(real_distribution, training=True)\n",
    "        dc_fake = model_disc(encoder_output, training=True)\n",
    "\n",
    "        # Discriminator Loss\n",
    "        dc_loss = discriminator_loss(dc_real, dc_fake, dc_loss_weight)\n",
    "\n",
    "        # Discriminator Acc\n",
    "        dc_acc = accuracy(tf.concat([tf.ones_like(dc_real), tf.zeros_like(dc_fake)], axis=0),\n",
    "                          tf.concat([dc_real, dc_fake], axis=0))\n",
    "\n",
    "    dc_grads = dc_tape.gradient(dc_loss, model_disc.trainable_variables)\n",
    "    dc_optimizer.apply_gradients(zip(dc_grads, model_disc.trainable_variables))\n",
    "\n",
    "    # -------------------------------------------------------------------------------------------------------------\n",
    "    # Generator (Encoder)\n",
    "    with tf.GradientTape() as gen_tape:\n",
    "        encoded = model_ae.encoder(batch_x, training=True)\n",
    "        gen_output = model_disc(encoded, training=True)\n",
    "\n",
    "        # Generator loss\n",
    "        gen_loss = generator_loss(gen_output, gen_loss_weight)\n",
    "\n",
    "    gen_grads = gen_tape.gradient(gen_loss, model_ae.encoder.trainable_variables)\n",
    "    gen_optimizer.apply_gradients(zip(gen_grads, model_ae.encoder.trainable_variables))\n",
    "\n",
    "    return ae_loss, dc_loss, dc_acc, gen_loss"
   ],
   "metadata": {
    "collapsed": false,
    "pycharm": {
     "name": "#%%\n"
    }
   }
  },
  {
   "cell_type": "code",
   "execution_count": 205,
   "outputs": [
    {
     "name": "stdout",
     "output_type": "stream",
     "text": [
      "Model: \"sequential_146\"\n",
      "_________________________________________________________________\n",
      " Layer (type)                Output Shape              Param #   \n",
      "=================================================================\n",
      " dense_192 (Dense)           (None, 48, 64)            704       \n",
      "                                                                 \n",
      " dense_193 (Dense)           (None, 48, 64)            4160      \n",
      "                                                                 \n",
      " dense_194 (Dense)           (None, 48, 1)             65        \n",
      "                                                                 \n",
      "=================================================================\n",
      "Total params: 4,929\n",
      "Trainable params: 4,929\n",
      "Non-trainable params: 0\n",
      "_________________________________________________________________\n",
      "Model: \"autoencoder_46\"\n",
      "_________________________________________________________________\n",
      " Layer (type)                Output Shape              Param #   \n",
      "=================================================================\n",
      " sequential_144 (Sequential)  (None, 48, 10)           256820    \n",
      "                                                                 \n",
      " sequential_145 (Sequential)  (None, 48, 79)           219379    \n",
      "                                                                 \n",
      "=================================================================\n",
      "Total params: 476,199\n",
      "Trainable params: 476,199\n",
      "Non-trainable params: 0\n",
      "_________________________________________________________________\n"
     ]
    }
   ],
   "source": [
    "# Learning rates and loss weights to be able to keep balance between models\n",
    "learning_rate_ae = 1e-5\n",
    "learning_rate_gen = 1e-5\n",
    "learning_rate_disc = 2e-6\n",
    "max_learning_rate = 5e-5\n",
    "\n",
    "ae_loss_weight = 1.\n",
    "gen_loss_weight = 0.7\n",
    "dc_loss_weight = 0.5\n",
    "\n",
    "batch_size = 128\n",
    "\n",
    "# Optimizers\n",
    "cross_entropy = tf.keras.losses.BinaryCrossentropy() #from_logits=True\n",
    "mse = tf.keras.losses.MeanSquaredError()\n",
    "accuracy = tf.keras.metrics.BinaryAccuracy()\n",
    "\n",
    "# bould adversarial autoencoder\n",
    "model_disc, model_ae , ae_optimizer, dc_optimizer, gen_optimizer = build_aae()\n",
    "\n",
    "# split to data to batches\n",
    "train_dataset = tf.data.Dataset.from_tensor_slices(data_train)\n",
    "train_dataset = train_dataset.batch(batch_size)"
   ],
   "metadata": {
    "collapsed": false,
    "pycharm": {
     "name": "#%%\n"
    }
   }
  },
  {
   "cell_type": "code",
   "execution_count": null,
   "outputs": [
    {
     "name": "stdout",
     "output_type": "stream",
     "text": [
      "Weights will be saved in: /Users/kedi/Desktop/polito lectures and notes/ML in App/project/checkpoints/50_10_5_layer_AAE_0\n",
      "   1: TIME: 1217.91 ETA: 60895.68 AE_LOSS: 1.2109 DC_LOSS: 0.7805 DC_ACC: 0.2515 GEN_LOSS: 0.4488\n",
      "AE loss has been decreased from 9 to 1.2109495401382446\n",
      "   2: TIME: 1219.50 ETA: 59755.33 AE_LOSS: 0.9978 DC_LOSS: 0.7504 DC_ACC: 0.1394 GEN_LOSS: 0.4540\n",
      "AE loss has been decreased from 1.2109495401382446 to 0.9978155493736267\n",
      "   3: TIME: 1227.96 ETA: 58942.05 AE_LOSS: 0.9620 DC_LOSS: 0.7065 DC_ACC: 0.2025 GEN_LOSS: 0.4837\n",
      "AE loss has been decreased from 0.9978155493736267 to 0.9620031714439392\n",
      "   4: TIME: 1214.89 ETA: 57099.68 AE_LOSS: 0.9437 DC_LOSS: 0.6693 DC_ACC: 0.2981 GEN_LOSS: 0.5124\n",
      "AE loss has been decreased from 0.9620031714439392 to 0.943686842918396\n",
      "   5: TIME: 1214.46 ETA: 55865.19 AE_LOSS: 0.9408 DC_LOSS: 0.6549 DC_ACC: 0.3913 GEN_LOSS: 0.5150\n",
      "AE loss has been decreased from 0.943686842918396 to 0.940784215927124\n",
      "   6: TIME: 1213.94 ETA: 54627.51 AE_LOSS: 0.9580 DC_LOSS: 0.7386 DC_ACC: 0.4115 GEN_LOSS: 0.4072\n",
      "   7: TIME: 1214.11 ETA: 53421.00 AE_LOSS: 0.9404 DC_LOSS: 0.7624 DC_ACC: 0.3976 GEN_LOSS: 0.3830\n",
      "AE loss has been decreased from 0.940784215927124 to 0.9403852224349976\n",
      "   8: TIME: 1222.01 ETA: 52546.64 AE_LOSS: 0.9276 DC_LOSS: 0.7355 DC_ACC: 0.3875 GEN_LOSS: 0.4113\n",
      "AE loss has been decreased from 0.9403852224349976 to 0.9275780916213989\n",
      "   9: TIME: 1277.58 ETA: 53658.15 AE_LOSS: 0.9266 DC_LOSS: 0.6940 DC_ACC: 0.3943 GEN_LOSS: 0.4635\n",
      "AE loss has been decreased from 0.9275780916213989 to 0.9265872836112976\n",
      "  10: TIME: 1326.65 ETA: 54392.59 AE_LOSS: 0.9473 DC_LOSS: 0.7581 DC_ACC: 0.4058 GEN_LOSS: 0.3798\n"
     ]
    }
   ],
   "source": [
    "# And training phase\n",
    "n_epochs = 50\n",
    "train_autoencoder_loss = []\n",
    "train_generator_loss = []\n",
    "train_discriminator_loss = []\n",
    "train_discriminator_acc = []\n",
    "\n",
    "# if validation information needed (it takes more time for training)\n",
    "# test_cost = []\n",
    "# train_cost = []\n",
    "# validation_cost = []\n",
    "\n",
    "# cyclic learning rate variables\n",
    "# n_samples = data_train.shape[0]\n",
    "# step_size = 2 * np.ceil(n_samples / batch_size)\n",
    "# global_step = 0\n",
    "\n",
    "# keep the best loss of autoencoder\n",
    "last_best = 9\n",
    "last_loss = 10\n",
    "shape = F\"{latent_size}_5_layer_AAE_0\"\n",
    "checkpoint_dir = \"/Users/kedi/Desktop/polito lectures and notes/ML in App/project/checkpoints\"\n",
    "model_dir = f\"{checkpoint_dir}/{n_epochs}_{shape}\"\n",
    "if not os.path.exists(model_dir):\n",
    "    os.mkdir(model_dir)\n",
    "print(f\"Weights will be saved in: {model_dir}\")\n",
    "for epoch in range(n_epochs):\n",
    "    start = time.time()\n",
    "    if epoch != 0 and (last_best>last_loss):\n",
    "        print(f\"AE loss has been decreased from {last_best} to {epoch_ae_loss_avg.result()}\")\n",
    "        model_ae.save_weights(f\"{model_dir}/model\")\n",
    "        last_best = epoch_ae_loss_avg.result()\n",
    "\n",
    "    # average loss calculator for batches\n",
    "    epoch_ae_loss_avg = tf.metrics.Mean()\n",
    "    epoch_dc_loss_avg = tf.metrics.Mean()\n",
    "    epoch_dc_acc_avg = tf.metrics.Mean()\n",
    "    epoch_gen_loss_avg = tf.metrics.Mean()\n",
    "    for batch, (batch_x) in enumerate(train_dataset):\n",
    "        # -------------------------------------------------------------------------------------------------------------\n",
    "        #Calculate cyclic learning rate\n",
    "        # global_step = global_step + 1\n",
    "        # cycle = np.floor(1 + global_step / (2 * step_size))\n",
    "        # x_lr = np.abs(global_step / step_size - 2 * cycle + 1)\n",
    "        # clr = learning_rate_ae + (max_learning_rate - learning_rate_ae) * max(0, 1 - x_lr)\n",
    "        # ae_optimizer.lr = clr\n",
    "        # dc_optimizer.lr = 0.05 * clr\n",
    "        # gen_optimizer.lr = 0.1 * clr\n",
    "\n",
    "        # Calculate the losses and optimize them\n",
    "        ae_loss, dc_loss, dc_acc, gen_loss = train_step(batch_x)\n",
    "\n",
    "        # calculate average losses\n",
    "        epoch_ae_loss_avg(ae_loss)\n",
    "        epoch_dc_loss_avg(dc_loss)\n",
    "        epoch_dc_acc_avg(dc_acc)\n",
    "        epoch_gen_loss_avg(gen_loss)\n",
    "\n",
    "\n",
    "    # Some feedback information\n",
    "    last_loss = epoch_ae_loss_avg.result()\n",
    "    epoch_time = time.time() - start\n",
    "    print('{:4d}: TIME: {:.2f} ETA: {:.2f} AE_LOSS: {:.4f} DC_LOSS: {:.4f} DC_ACC: {:.4f} GEN_LOSS: {:.4f}' \\\n",
    "          .format(epoch+1, epoch_time,\n",
    "                  epoch_time * (n_epochs - epoch),\n",
    "                  epoch_ae_loss_avg.result(),\n",
    "                  epoch_dc_loss_avg.result(),\n",
    "                  epoch_dc_acc_avg.result(),\n",
    "                  epoch_gen_loss_avg.result()))\n",
    "    train_autoencoder_loss.append(epoch_ae_loss_avg.result())\n",
    "    train_generator_loss.append(epoch_gen_loss_avg.result())\n",
    "    train_discriminator_loss.append(epoch_dc_loss_avg.result())\n",
    "    train_discriminator_acc.append(epoch_dc_acc_avg.result())\n",
    "\n",
    "    # Validation information\n",
    "    # -------------------------------------------------------------------------------------------------------------\n",
    "    # train_decoded = model_ae.predict(data_train)\n",
    "    # cost_train = np.mean(np.abs(train_decoded - data_train), axis=1)\n",
    "    # train_cost.append(cost_train)\n",
    "    # print(f\"        Mean cost of train: {np.mean(np.abs(train_decoded - data_train))}\")\n",
    "    #\n",
    "    # test_decoded = model_ae.predict(data_test)\n",
    "    # cost_test = np.mean(np.abs(test_decoded - data_test), axis=1)\n",
    "    # test_cost.append(cost_test)\n",
    "    # print(f\"        Mean cost of test: {np.mean(np.abs(test_decoded - data_test))}\")\n",
    "    #\n",
    "    # val_decoded = model_ae.predict(data_validation)\n",
    "    # cost_val = np.mean(np.abs(val_decoded - data_validation), axis=1)\n",
    "    # validation_cost.append(cost_val)\n",
    "    # print(f\"        Mean cost of validation: {np.mean(np.abs(val_decoded - data_validation))}\")\n"
   ],
   "metadata": {
    "collapsed": false,
    "pycharm": {
     "name": "#%%\n",
     "is_executing": true
    }
   }
  },
  {
   "cell_type": "markdown",
   "source": [
    "### Save the model"
   ],
   "metadata": {
    "collapsed": false
   }
  },
  {
   "cell_type": "code",
   "execution_count": 54,
   "outputs": [],
   "source": [
    "# Save the trained weights\n",
    "shape = f\"{latent_size}_5_layer_AAE\"\n",
    "checkpoint_dir = \"/Users/kedi/Desktop/polito lectures and notes/ML in App/project/checkpoints\"\n",
    "model_dir = f\"{checkpoint_dir}/{learning_rate_ae}_{n_epochs}_{shape}\"\n",
    "\n",
    "os.mkdir(f\"{model_dir}\")\n",
    "model_ae.save_weights(f\"{model_dir}/model\")"
   ],
   "metadata": {
    "collapsed": false,
    "pycharm": {
     "name": "#%%\n"
    }
   }
  },
  {
   "cell_type": "code",
   "execution_count": 56,
   "outputs": [],
   "source": [
    "# save the loss changes\n",
    "np.save(f\"{model_dir}/ae_loss.npy\", train_autoencoder_loss)\n",
    "np.save(f\"{model_dir}/gen_loss.npy\", train_generator_loss)\n",
    "np.save(f\"{model_dir}/disc_loss.npy\", train_discriminator_loss)"
   ],
   "metadata": {
    "collapsed": false,
    "pycharm": {
     "name": "#%%\n"
    }
   }
  },
  {
   "cell_type": "markdown",
   "source": [
    "## Losses and Costs during training"
   ],
   "metadata": {
    "collapsed": false
   }
  },
  {
   "cell_type": "code",
   "execution_count": 27,
   "outputs": [],
   "source": [
    "# test_cost_avg = [np.mean(np.abs(i)) for i in test_cost]\n",
    "# train_cost_avg = [np.mean(np.abs(i)) for i in train_cost]\n",
    "# validation_cost_avg = [np.mean(np.abs(i)) for i in validation_cost]"
   ],
   "metadata": {
    "collapsed": false,
    "pycharm": {
     "name": "#%%\n"
    }
   }
  },
  {
   "cell_type": "code",
   "execution_count": 100,
   "outputs": [
    {
     "data": {
      "text/plain": "<Figure size 640x480 with 1 Axes>",
      "image/png": "[encoded data removed]"
     },
     "metadata": {},
     "output_type": "display_data"
    }
   ],
   "source": [
    "# plt.plot(test_cost_avg, label=\"test\")\n",
    "# plt.plot(train_cost_avg, label=\"train\")\n",
    "# plt.plot(validation_cost_avg, label=\"val\")\n",
    "# plt.legend()\n",
    "# plt.show()"
   ],
   "metadata": {
    "collapsed": false,
    "pycharm": {
     "name": "#%%\n"
    }
   }
  },
  {
   "cell_type": "code",
   "execution_count": 55,
   "outputs": [
    {
     "data": {
      "text/plain": "<Figure size 640x480 with 1 Axes>",
      "image/png": "[encoded data removed]"
     },
     "metadata": {},
     "output_type": "display_data"
    }
   ],
   "source": [
    "# Losses during training\n",
    "plt.plot(train_autoencoder_loss, label=\"AE\")\n",
    "plt.plot(train_generator_loss, label=\"GEN\")\n",
    "plt.plot(train_discriminator_loss, label=\"DISC\")\n",
    "plt.legend()\n",
    "plt.show()"
   ],
   "metadata": {
    "collapsed": false,
    "pycharm": {
     "name": "#%%\n"
    }
   }
  },
  {
   "cell_type": "markdown",
   "source": [
    "## Investigation & Evaluation"
   ],
   "metadata": {
    "collapsed": false
   }
  },
  {
   "cell_type": "code",
   "execution_count": 58,
   "outputs": [
    {
     "name": "stderr",
     "output_type": "stream",
     "text": [
      "2023-07-11 17:05:42.138183: W tensorflow/core/platform/profile_utils/cpu_utils.cc:128] Failed to get CPU frequency: 0 Hz\n"
     ]
    },
    {
     "name": "stdout",
     "output_type": "stream",
     "text": [
      "4383/4383 [==============================] - 183s 42ms/step\n",
      "mean: 0.544943258091213\n",
      "1297/1297 [==============================] - 55s 42ms/step\n",
      "mean: 0.5573903051488622\n"
     ]
    }
   ],
   "source": [
    "# some results with average reconstruction cost\n",
    "p_train = model_ae.predict(data_train)\n",
    "difference_train = np.abs(p_train - data_train)\n",
    "cost_train = np.mean(np.abs(p_train - data_train), axis=1)\n",
    "print(f\"mean: {np.mean(difference_train)}\")\n",
    "\n",
    "\n",
    "p_test = model_ae.predict(data_test)\n",
    "difference_test = np.abs(p_test - data_test)\n",
    "cost_test = np.mean(np.abs(p_test - data_test), axis=1)\n",
    "print(f\"mean: {np.mean(difference_test)}\")"
   ],
   "metadata": {
    "collapsed": false,
    "pycharm": {
     "name": "#%%\n"
    }
   }
  },
  {
   "cell_type": "code",
   "execution_count": 59,
   "outputs": [
    {
     "data": {
      "text/plain": "<seaborn.axisgrid.FacetGrid at 0x28ede33a0>"
     },
     "execution_count": 59,
     "metadata": {},
     "output_type": "execute_result"
    },
    {
     "data": {
      "text/plain": "<Figure size 500x500 with 1 Axes>",
      "image/png": "[encoded data removed]"
     },
     "metadata": {},
     "output_type": "display_data"
    }
   ],
   "source": [
    "sns.displot(cost_train[:,32], bins=100, kde=True, label=\"Train\")"
   ],
   "metadata": {
    "collapsed": false,
    "pycharm": {
     "name": "#%%\n"
    }
   }
  },
  {
   "cell_type": "code",
   "execution_count": 60,
   "outputs": [
    {
     "data": {
      "text/plain": "<seaborn.axisgrid.FacetGrid at 0x28b457b50>"
     },
     "execution_count": 60,
     "metadata": {},
     "output_type": "execute_result"
    },
    {
     "data": {
      "text/plain": "<Figure size 500x500 with 1 Axes>",
      "image/png": "[encoded data removed]"
     },
     "metadata": {},
     "output_type": "display_data"
    }
   ],
   "source": [
    "sns.displot(cost_test[:,32], bins=100, kde=True)"
   ],
   "metadata": {
    "collapsed": false,
    "pycharm": {
     "name": "#%%\n"
    }
   }
  },
  {
   "cell_type": "code",
   "execution_count": 61,
   "outputs": [
    {
     "name": "stdout",
     "output_type": "stream",
     "text": [
      "2594/2594 [==============================] - 110s 43ms/step\n",
      "mean: 0.5513310817976536\n"
     ]
    },
    {
     "data": {
      "text/plain": "<seaborn.axisgrid.FacetGrid at 0x28f6ae980>"
     },
     "execution_count": 61,
     "metadata": {},
     "output_type": "execute_result"
    },
    {
     "data": {
      "text/plain": "<Figure size 500x500 with 1 Axes>",
      "image/png": "[encoded data removed]"
     },
     "metadata": {},
     "output_type": "display_data"
    }
   ],
   "source": [
    "# Prepared test data\n",
    "p_test_mixed = model_ae.predict(data_test_mixed)\n",
    "\n",
    "difference_test_mixed = np.abs(p_test_mixed - data_test_mixed)\n",
    "print(f\"mean: {np.mean(difference_test_mixed)}\")\n",
    "\n",
    "cost_test_mixed = np.mean(np.abs(p_test_mixed - data_test_mixed), axis=1)\n",
    "sns.displot(cost_test_mixed[:,32], bins=100, kde=True)"
   ],
   "metadata": {
    "collapsed": false,
    "pycharm": {
     "name": "#%%\n"
    }
   }
  },
  {
   "cell_type": "markdown",
   "source": [
    "### PA%K"
   ],
   "metadata": {
    "collapsed": false
   }
  },
  {
   "cell_type": "code",
   "execution_count": 68,
   "outputs": [],
   "source": [
    "# PAK function to make adjustments on predictions\n",
    "def pak(scores, targets, thres, k=20):\n",
    "    \"\"\"\n",
    "\n",
    "    :param scores: anomaly scores (mean reconstruction cost for features)\n",
    "    :param targets: target labels (1-0)\n",
    "    :param thres: anomaly threshold\n",
    "    :param k: PA%K ratio, 0 equals to conventional point adjust and 100 equals to original predictions\n",
    "    :return: point_adjusted predictions\n",
    "    \"\"\"\n",
    "    scores = np.array(scores)\n",
    "    thres = np.array(thres)\n",
    "\n",
    "    predicts = scores > thres\n",
    "    actuals = targets > 0.01\n",
    "\n",
    "    one_start_idx = np.where(np.diff(actuals, prepend=0) == 1)[0]\n",
    "    zero_start_idx = np.where(np.diff(actuals, prepend=0) == -1)[0]\n",
    "\n",
    "    assert len(one_start_idx) == len(zero_start_idx) + 1 or len(one_start_idx) == len(zero_start_idx)\n",
    "\n",
    "    if len(one_start_idx) == len(zero_start_idx) + 1:\n",
    "        zero_start_idx = np.append(zero_start_idx, len(predicts))\n",
    "\n",
    "    for i in range(len(one_start_idx)):\n",
    "        if predicts[one_start_idx[i]:zero_start_idx[i]].sum() > k / 100 * (zero_start_idx[i] - one_start_idx[i]):\n",
    "            predicts[one_start_idx[i]:zero_start_idx[i]] = 1\n",
    "\n",
    "    return predicts"
   ],
   "metadata": {
    "collapsed": false,
    "pycharm": {
     "name": "#%%\n"
    }
   }
  },
  {
   "cell_type": "code",
   "execution_count": 69,
   "outputs": [],
   "source": [
    "# Evaluate function which gives results with comparison of with PAK function and without it\n",
    "def evaluate(scores, targets, pa=True, interval=50, k=40):\n",
    "    \"\"\"\n",
    "    :param scores: list or np.array or tensor, anomaly score\n",
    "    :param targets: list or np.array or tensor, target labels\n",
    "    :param pa: True/False\n",
    "    :param interval: threshold search interval\n",
    "    :param k: PA%K threshold\n",
    "    :return: results dictionary\n",
    "    \"\"\"\n",
    "    assert len(scores) == len(targets)\n",
    "\n",
    "    results = {}\n",
    "\n",
    "    try:\n",
    "        scores = np.asarray(scores)\n",
    "        targets = np.asarray(targets)\n",
    "    except TypeError:\n",
    "        scores = np.asarray(scores.cpu())\n",
    "        targets = np.asarray(targets.cpu())\n",
    "\n",
    "    precision, recall, threshold = metrics.precision_recall_curve(targets, scores)\n",
    "    f1_score = 2 * precision * recall / (precision + recall + 1e-30)\n",
    "\n",
    "    #print(f\"WITHOUT PA: \\nMean precision: {np.mean(precision)} \\nMean recall: {np.mean(recall)} \\nMean F1 score: {np.mean(f1_score)}\")\n",
    "\n",
    "    results['best_f1_wo_pa'] = np.max(f1_score)\n",
    "    results['f1_scores'] = f1_score\n",
    "    results['best_precision_wo_pa'] = precision[np.argmax(f1_score)]\n",
    "    results['best_recall_wo_pa'] = recall[np.argmax(f1_score)]\n",
    "    results['prauc_wo_pa'] = metrics.average_precision_score(targets, scores)\n",
    "    try:\n",
    "        results['auc_wo_pa'] = metrics.roc_auc_score(targets, scores)\n",
    "    except ValueError:\n",
    "        pass\n",
    "\n",
    "\n",
    "    if pa:\n",
    "        # find F1 score with optimal threshold of best_f1_wo_pa\n",
    "        pa_scores = pak(scores, targets, threshold[np.argmax(f1_score)], k)\n",
    "        results['raw_f1_w_pa'] = metrics.f1_score(targets, pa_scores)\n",
    "        results['raw_precision_w_pa'] = metrics.precision_score(targets, pa_scores)\n",
    "        results['raw_recall_w_pa'] = metrics.recall_score(targets, pa_scores)\n",
    "\n",
    "        # find best F1 score with varying thresholds\n",
    "        if len(scores) // interval < 1:\n",
    "            ths = threshold\n",
    "        else:\n",
    "            ths = [threshold[interval*i] for i in range(len(threshold)//interval)]\n",
    "        pa_f1_scores = [metrics.f1_score(targets, pak(scores, targets, th, k)) for th in tqdm(ths)]\n",
    "        pa_f1_scores = np.asarray(pa_f1_scores)\n",
    "        results['best_f1_w_pa'] = np.max(pa_f1_scores)\n",
    "        results['best_f1_th_w_pa'] = ths[np.argmax(pa_f1_scores)]\n",
    "        pa_scores = pak(scores, targets, ths[np.argmax(pa_f1_scores)], k)\n",
    "        results['best_precision_w_pa'] = metrics.precision_score(targets, pa_scores)\n",
    "        results['best_recall_w_pa'] = metrics.recall_score(targets, pa_scores)\n",
    "        results['pa_f1_scores'] = pa_f1_scores\n",
    "\n",
    "    return results"
   ],
   "metadata": {
    "collapsed": false,
    "pycharm": {
     "name": "#%%\n"
    }
   }
  },
  {
   "cell_type": "code",
   "execution_count": 71,
   "outputs": [],
   "source": [
    "# For model predictions\n",
    "scores = np.mean(cost_test_mixed, axis=1)\n",
    "targets = label_test_mixed.ravel()"
   ],
   "metadata": {
    "collapsed": false,
    "pycharm": {
     "name": "#%%\n"
    }
   }
  },
  {
   "cell_type": "code",
   "execution_count": 72,
   "outputs": [
    {
     "name": "stderr",
     "output_type": "stream",
     "text": [
      "100%|██████████| 1659/1659 [00:37<00:00, 44.65it/s]\n"
     ]
    },
    {
     "name": "stdout",
     "output_type": "stream",
     "text": [
      "mean F1 score without PA: 0.4721781635440042 \n",
      "mean F1 score with PA: 0.5523123678925695\n"
     ]
    }
   ],
   "source": [
    "result = evaluate(scores, targets, k=50)\n",
    "\n",
    "mean_f1_wo_pa = np.mean(result[\"f1_scores\"])\n",
    "mean_f1_w_pa = np.mean(result[\"pa_f1_scores\"])\n",
    "print(f\"mean F1 score without PA: {mean_f1_wo_pa} \\nmean F1 score with PA: {mean_f1_w_pa}\")"
   ],
   "metadata": {
    "collapsed": false,
    "pycharm": {
     "name": "#%%\n"
    }
   }
  },
  {
   "cell_type": "code",
   "execution_count": 67,
   "outputs": [
    {
     "data": {
      "text/plain": "{'best_f1_wo_pa': 0.6681159770364823,\n 'f1_scores': array([0.66666667, 0.66667202, 0.66667738, ..., 0.        , 0.        ,\n        0.        ]),\n 'best_precision_wo_pa': 0.5016383135647526,\n 'best_recall_wo_pa': 0.9999758978067004,\n 'prauc_wo_pa': 0.57936106655686,\n 'auc_wo_pa': 0.5208207607195943,\n 'raw_f1_w_pa': 0.6681267009130581,\n 'raw_precision_w_pa': 0.5016443391207622,\n 'raw_recall_w_pa': 1.0,\n 'best_f1_w_pa': 0.9985920069316582,\n 'best_f1_th_w_pa': 0.805729185583551,\n 'best_precision_w_pa': 0.9971879731775903,\n 'best_recall_w_pa': 1.0,\n 'pa_f1_scores': array([6.66672023e-01, 6.66725588e-01, 6.66779163e-01, ...,\n        4.33536453e-04, 3.37276253e-04, 4.81939324e-05])}"
     },
     "execution_count": 67,
     "metadata": {},
     "output_type": "execute_result"
    }
   ],
   "source": [
    "result"
   ],
   "metadata": {
    "collapsed": false,
    "pycharm": {
     "name": "#%%\n"
    }
   }
  },
  {
   "cell_type": "code",
   "execution_count": null,
   "outputs": [],
   "source": [],
   "metadata": {
    "collapsed": false,
    "pycharm": {
     "name": "#%%\n"
    }
   }
  }
 ],
 "metadata": {
  "kernelspec": {
   "display_name": "Python 3",
   "language": "python",
   "name": "python3"
  },
  "language_info": {
   "codemirror_mode": {
    "name": "ipython",
    "version": 2
   },
   "file_extension": ".py",
   "mimetype": "text/x-python",
   "name": "python",
   "nbconvert_exporter": "python",
   "pygments_lexer": "ipython2",
   "version": "2.7.6"
  }
 },
 "nbformat": 4,
 "nbformat_minor": 0
}