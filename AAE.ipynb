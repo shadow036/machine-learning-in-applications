{
 "cells": [
  {
   "cell_type": "code",
   "execution_count": 1,
   "metadata": {
    "collapsed": true
   },
   "outputs": [],
   "source": [
    "import time\n",
    "from pathlib import Path\n",
    "\n",
    "import matplotlib.pyplot as plt\n",
    "from matplotlib import gridspec\n",
    "import matplotlib.patches as mpatches\n",
    "import numpy as np\n",
    "import tensorflow as tf\n",
    "\n",
    "\n",
    "import pandas as pd\n",
    "import seaborn as sns\n",
    "from sklearn import preprocessing\n",
    "from keras import layers, losses"
   ]
  },
  {
   "cell_type": "code",
   "execution_count": 2,
   "outputs": [],
   "source": [
    "try:\n",
    "    # enable all GPUS\n",
    "    tf.config.set_visible_devices([], 'GPU')\n",
    "    visible_devices = tf.config.get_visible_devices()\n",
    "    for device in visible_devices:\n",
    "        assert device.device_type == 'GPU'\n",
    "except:\n",
    "    # Invalid device or cannot modify virtual devices once initialized.\n",
    "    pass"
   ],
   "metadata": {
    "collapsed": false,
    "pycharm": {
     "name": "#%%\n"
    }
   }
  },
  {
   "cell_type": "code",
   "execution_count": 96,
   "outputs": [],
   "source": [
    "DATA_DIR_SLOW = \"/Users/kedi/Desktop/polito lectures and notes/ML in App/project/KukaVelocityDataset/KukaSlow.npy\"\n",
    "DATA_DIR_NORMAL = \"/Users/kedi/Desktop/polito lectures and notes/ML in App/project/KukaVelocityDataset/KukaNormal.npy\"\n",
    "DATA_DIR_C_NAMES = \"/Users/kedi/Desktop/polito lectures and notes/ML in App/project/KukaVelocityDataset/KukaColumnNames.npy\"\n",
    "\n",
    "# Set style for matplotlib\n",
    "plt.style.use(\"Solarize_Light2\")"
   ],
   "metadata": {
    "collapsed": false,
    "pycharm": {
     "name": "#%%\n"
    }
   }
  },
  {
   "cell_type": "code",
   "execution_count": 97,
   "outputs": [],
   "source": [
    "data_normal = np.load(DATA_DIR_NORMAL)\n",
    "data_slow = np.load(DATA_DIR_SLOW)\n",
    "column_names = np.load(DATA_DIR_C_NAMES)"
   ],
   "metadata": {
    "collapsed": false,
    "pycharm": {
     "name": "#%%\n"
    }
   }
  },
  {
   "cell_type": "code",
   "execution_count": 98,
   "outputs": [
    {
     "name": "stdout",
     "output_type": "stream",
     "text": [
      "['action' 'machine_nameKuka Robot_apparent_power'\n",
      " 'machine_nameKuka Robot_current' 'machine_nameKuka Robot_frequency'\n",
      " 'machine_nameKuka Robot_phase_angle' 'machine_nameKuka Robot_power'\n",
      " 'machine_nameKuka Robot_power_factor'\n",
      " 'machine_nameKuka Robot_reactive_power' 'machine_nameKuka Robot_voltage'\n",
      " 'sensor_id1_AccX' 'sensor_id1_AccY' 'sensor_id1_AccZ' 'sensor_id1_GyroX'\n",
      " 'sensor_id1_GyroY' 'sensor_id1_GyroZ' 'sensor_id1_q1' 'sensor_id1_q2'\n",
      " 'sensor_id1_q3' 'sensor_id1_q4' 'sensor_id1_temp' 'sensor_id2_AccX'\n",
      " 'sensor_id2_AccY' 'sensor_id2_AccZ' 'sensor_id2_GyroX' 'sensor_id2_GyroY'\n",
      " 'sensor_id2_GyroZ' 'sensor_id2_q1' 'sensor_id2_q2' 'sensor_id2_q3'\n",
      " 'sensor_id2_q4' 'sensor_id2_temp' 'sensor_id3_AccX' 'sensor_id3_AccY'\n",
      " 'sensor_id3_AccZ' 'sensor_id3_GyroX' 'sensor_id3_GyroY'\n",
      " 'sensor_id3_GyroZ' 'sensor_id3_q1' 'sensor_id3_q2' 'sensor_id3_q3'\n",
      " 'sensor_id3_q4' 'sensor_id3_temp' 'sensor_id4_AccX' 'sensor_id4_AccY'\n",
      " 'sensor_id4_AccZ' 'sensor_id4_GyroX' 'sensor_id4_GyroY'\n",
      " 'sensor_id4_GyroZ' 'sensor_id4_q1' 'sensor_id4_q2' 'sensor_id4_q3'\n",
      " 'sensor_id4_q4' 'sensor_id4_temp' 'sensor_id5_AccX' 'sensor_id5_AccY'\n",
      " 'sensor_id5_AccZ' 'sensor_id5_GyroX' 'sensor_id5_GyroY'\n",
      " 'sensor_id5_GyroZ' 'sensor_id5_q1' 'sensor_id5_q2' 'sensor_id5_q3'\n",
      " 'sensor_id5_q4' 'sensor_id5_temp' 'sensor_id6_AccX' 'sensor_id6_AccY'\n",
      " 'sensor_id6_AccZ' 'sensor_id6_GyroX' 'sensor_id6_GyroY'\n",
      " 'sensor_id6_GyroZ' 'sensor_id6_q1' 'sensor_id6_q2' 'sensor_id6_q3'\n",
      " 'sensor_id6_q4' 'sensor_id6_temp' 'sensor_id7_AccX' 'sensor_id7_AccY'\n",
      " 'sensor_id7_AccZ' 'sensor_id7_GyroX' 'sensor_id7_GyroY'\n",
      " 'sensor_id7_GyroZ' 'sensor_id7_q1' 'sensor_id7_q2' 'sensor_id7_q3'\n",
      " 'sensor_id7_q4' 'sensor_id7_temp' 'anomaly']\n"
     ]
    }
   ],
   "source": [
    "print(column_names)"
   ],
   "metadata": {
    "collapsed": false,
    "pycharm": {
     "name": "#%%\n"
    }
   }
  },
  {
   "cell_type": "markdown",
   "source": [
    "## Dataset Setup"
   ],
   "metadata": {
    "collapsed": false
   }
  },
  {
   "cell_type": "code",
   "execution_count": 99,
   "outputs": [],
   "source": [
    "# Get labels from data slow\n",
    "label_slow = data_slow[:,-1:]\n",
    "data_slow = data_slow[:,:-1]"
   ],
   "metadata": {
    "collapsed": false,
    "pycharm": {
     "name": "#%%\n"
    }
   }
  },
  {
   "cell_type": "code",
   "execution_count": 100,
   "outputs": [],
   "source": [
    "# Normalization train on train set transform both\n",
    "scaler = preprocessing.StandardScaler().fit(data_normal)\n",
    "data_train_scaled = scaler.transform(data_normal)\n",
    "data_test_scaled = scaler.transform(data_slow) #"
   ],
   "metadata": {
    "collapsed": false,
    "pycharm": {
     "name": "#%%\n"
    }
   }
  },
  {
   "cell_type": "code",
   "execution_count": 101,
   "outputs": [
    {
     "name": "stdout",
     "output_type": "stream",
     "text": [
      "train data shape: (233744, 48, 86) \n",
      " test data shape: (41490, 48, 86) \n"
     ]
    }
   ],
   "source": [
    "#windows of 50 with stride 1\n",
    "width_window = 48\n",
    "data_train_all = np.array([data_train_scaled[i:i+width_window,:] for i in range(0, len(data_train_scaled)-width_window)])\n",
    "data_test_all = np.array([data_test_scaled[i:i+width_window,:] for i in range(0, len(data_test_scaled)-width_window)])\n",
    "print(f\"train data shape: {data_train_all.shape} \\n test data shape: {data_test_all.shape} \")"
   ],
   "metadata": {
    "collapsed": false,
    "pycharm": {
     "name": "#%%\n"
    }
   }
  },
  {
   "cell_type": "code",
   "execution_count": 102,
   "outputs": [
    {
     "name": "stdout",
     "output_type": "stream",
     "text": [
      "train data shape: (23374, 48, 86) \n",
      "test data shape: (4149, 48, 86) \n",
      "label shape: (4149, 1) \n",
      "\n",
      "test data prepared: (8298, 48, 86) \n",
      "label prepared: (8298, 1) \n",
      "\n",
      "data validation: (2338, 48, 86)\n"
     ]
    }
   ],
   "source": [
    "percentage = 0.10\n",
    "N = 4\n",
    "\n",
    "# take part of data to gather results faster\n",
    "data_train = data_train_all[0:int(percentage*data_train_all.shape[0]),:,:]\n",
    "data_test = data_test_all[0:int(percentage*data_test_all.shape[0]),:,:]\n",
    "\n",
    "# mixed test data 50-50\n",
    "data_test_mixed = np.zeros((2*data_test.shape[0], data_test.shape[1], data_test.shape[2]))\n",
    "data_test_mixed[0:int(data_test.shape[0]),:,:] += data_test\n",
    "data_test_mixed[int(data_test.shape[0]):,:,:] += data_train[-int(data_test.shape[0]):,:,:]\n",
    "\n",
    "# set labels\n",
    "label_test = label_slow[0:data_test.shape[0]]\n",
    "label_test_mixed = np.zeros((data_test_mixed.shape[0], 1))\n",
    "label_test_mixed[0:label_test.shape[0]] += label_test\n",
    "\n",
    "# Validation data\n",
    "data_validation = data_train_all[int(percentage*data_train_all.shape[0]*N): int(percentage*data_train_all.shape[0]*(N+0.1)),:,:]\n",
    "\n",
    "\n",
    "print(f\"train data shape: {data_train.shape} \\ntest data shape: {data_test.shape} \\nlabel shape: {label_test.shape} \\n\\ntest data prepared: {data_test_mixed.shape} \\nlabel prepared: {label_test_mixed.shape} \\n\\ndata validation: {data_validation.shape}\")"
   ],
   "metadata": {
    "collapsed": false,
    "pycharm": {
     "name": "#%%\n"
    }
   }
  },
  {
   "cell_type": "code",
   "execution_count": 104,
   "outputs": [],
   "source": [
    "# Run if you want ram free\n",
    "data_train_all = 0\n",
    "data_test_all = 0\n",
    "data_slow = 0\n",
    "data_normal = 0"
   ],
   "metadata": {
    "collapsed": false,
    "pycharm": {
     "name": "#%%\n"
    }
   }
  },
  {
   "cell_type": "markdown",
   "source": [
    "## Model"
   ],
   "metadata": {
    "collapsed": false
   }
  },
  {
   "cell_type": "code",
   "execution_count": 105,
   "outputs": [],
   "source": [
    "batch_size = 256\n",
    "comment = False\n",
    "\n",
    "train_dataset = tf.data.Dataset.from_tensor_slices(data_train)\n",
    "train_dataset = train_dataset.batch(batch_size)"
   ],
   "metadata": {
    "collapsed": false,
    "pycharm": {
     "name": "#%%\n"
    }
   }
  },
  {
   "cell_type": "code",
   "execution_count": 106,
   "outputs": [],
   "source": [
    "def make_encoder_model(z_size):\n",
    "    inputs = tf.keras.layers.Input(shape=(48, 86))\n",
    "    if comment is True : print(f\"encoder input: {inputs.shape}\")\n",
    "    x = tf.keras.layers.Conv1D(filters=128, kernel_size=7, strides=2, padding='same')(inputs)\n",
    "    x = tf.keras.layers.LeakyReLU(0.2)(x)\n",
    "    x = tf.keras.layers.Conv1D(filters=128, kernel_size=7, strides=2, padding='same')(x)\n",
    "    x = tf.keras.layers.BatchNormalization()(x)\n",
    "    x = tf.keras.layers.LeakyReLU(0.2)(x)\n",
    "    x = tf.keras.layers.Conv1D(filters=256, kernel_size=7, strides=2, padding='same')(x)\n",
    "    x = tf.keras.layers.BatchNormalization()(x)\n",
    "    x = tf.keras.layers.LeakyReLU(0.2)(x)\n",
    "    x = tf.keras.layers.Conv1D(filters=256, kernel_size=7, strides=2, padding='same')(x)\n",
    "    x = tf.keras.layers.BatchNormalization()(x)\n",
    "    x = tf.keras.layers.LeakyReLU(0.2)(x)\n",
    "    x = tf.keras.layers.Conv1D(filters=256, kernel_size=7, strides=2, padding='same')(x)\n",
    "    x = tf.keras.layers.BatchNormalization()(x)\n",
    "    x = tf.keras.layers.LeakyReLU(0.2)(x)\n",
    "    z = tf.keras.layers.Conv1D(filters=z_size, kernel_size=7, strides=2, padding='same')(x)\n",
    "    if comment is True : print(f\"endoder output: {z.shape}\")\n",
    "\n",
    "    model = tf.keras.Model(inputs=inputs, outputs=z)\n",
    "    return model\n",
    "\n",
    "def make_decoder_model(z_size):\n",
    "    encoded = tf.keras.Input(shape=(1, z_size))\n",
    "    if comment is True : print(f\"decoder input: {encoded.shape}\")\n",
    "\n",
    "    x = tf.keras.layers.Conv1D(256, kernel_size=7, padding='same', activation='relu')(encoded)\n",
    "    x = tf.keras.layers.UpSampling1D(2)(x)\n",
    "    x = tf.keras.layers.Conv1D(256, kernel_size=7, padding='same', activation='relu')(x)\n",
    "    x = tf.keras.layers.UpSampling1D(2)(x)\n",
    "    x = tf.keras.layers.Conv1D(256, kernel_size=7, padding='same', activation='relu')(x)\n",
    "    x = tf.keras.layers.UpSampling1D(2)(x)\n",
    "    x = tf.keras.layers.Conv1D(128, kernel_size=7, padding='same', activation='relu')(x)\n",
    "    x = tf.keras.layers.UpSampling1D(2)(x)\n",
    "    x = tf.keras.layers.Conv1D(128, kernel_size=7, padding='same', activation='relu')(x)\n",
    "    x = tf.keras.layers.UpSampling1D(2)(x)\n",
    "    x = tf.keras.layers.Conv1D(86, kernel_size=7, activation='relu')(x)\n",
    "    x = tf.keras.layers.UpSampling1D(2)(x)\n",
    "\n",
    "    reconstruction = tf.keras.layers.Conv1D(filters=86, kernel_size=5, activation='sigmoid')(x)\n",
    "    if comment is True : print(f\"decoder output: {reconstruction.shape}\")\n",
    "    decoder = tf.keras.Model(inputs=encoded, outputs=reconstruction)\n",
    "    return decoder\n",
    "\n",
    "def make_discriminator_model(z_size):\n",
    "    encoded = tf.keras.Input(shape=(1, z_size))\n",
    "    if comment is True : print(f\"discriminator input: {encoded.shape}\")\n",
    "    x = tf.keras.layers.Dense(128)(encoded)\n",
    "    x = tf.keras.layers.LeakyReLU(0.2)(x)\n",
    "    x = tf.keras.layers.Dense(128)(x)\n",
    "    x = tf.keras.layers.LeakyReLU(0.2)(x)\n",
    "    prediction = tf.keras.layers.Dense(1)(x)\n",
    "    if comment is True : print(f\"discriminator output: {prediction.shape}\")\n",
    "    model = tf.keras.Model(inputs=encoded, outputs=prediction)\n",
    "    return model"
   ],
   "metadata": {
    "collapsed": false,
    "pycharm": {
     "name": "#%%\n"
    }
   }
  },
  {
   "cell_type": "code",
   "execution_count": 107,
   "outputs": [],
   "source": [
    "z_dim = 16\n",
    "encoder = make_encoder_model(z_dim)\n",
    "decoder = make_decoder_model(z_dim)\n",
    "discriminator = make_discriminator_model(z_dim)"
   ],
   "metadata": {
    "collapsed": false,
    "pycharm": {
     "name": "#%%\n"
    }
   }
  },
  {
   "cell_type": "code",
   "execution_count": 108,
   "outputs": [],
   "source": [
    "# Define loss functions\n",
    "ae_loss_weight = 1.\n",
    "gen_loss_weight = 1.\n",
    "dc_loss_weight = 1.\n",
    "\n",
    "cross_entropy = tf.keras.losses.BinaryCrossentropy(from_logits=True)\n",
    "mse = tf.keras.losses.MeanSquaredError()\n",
    "accuracy = tf.keras.metrics.BinaryAccuracy()"
   ],
   "metadata": {
    "collapsed": false,
    "pycharm": {
     "name": "#%%\n"
    }
   }
  },
  {
   "cell_type": "code",
   "execution_count": 109,
   "outputs": [],
   "source": [
    "def autoencoder_loss(inputs, reconstruction, loss_weight):\n",
    "    return loss_weight * mse(inputs, reconstruction)\n",
    "\n",
    "\n",
    "def discriminator_loss(real_output, fake_output, loss_weight):\n",
    "    loss_real = cross_entropy(tf.ones_like(real_output), real_output)\n",
    "    loss_fake = cross_entropy(tf.zeros_like(fake_output), fake_output)\n",
    "    return loss_weight * (loss_fake + loss_real)\n",
    "\n",
    "\n",
    "def generator_loss(fake_output, loss_weight):\n",
    "    return loss_weight * cross_entropy(tf.ones_like(fake_output), fake_output)"
   ],
   "metadata": {
    "collapsed": false,
    "pycharm": {
     "name": "#%%\n"
    }
   }
  },
  {
   "cell_type": "code",
   "execution_count": 110,
   "outputs": [],
   "source": [
    "base_lr = 0.001\n",
    "max_lr = 0.01\n",
    "\n",
    "n_samples = data_train.shape[0]\n",
    "step_size = 2 * np.ceil(n_samples / batch_size)\n",
    "global_step = 0"
   ],
   "metadata": {
    "collapsed": false,
    "pycharm": {
     "name": "#%%\n"
    }
   }
  },
  {
   "cell_type": "code",
   "execution_count": 111,
   "outputs": [],
   "source": [
    "ae_optimizer = tf.keras.optimizers.Adam(learning_rate=base_lr)\n",
    "dc_optimizer = tf.keras.optimizers.Adam(learning_rate=base_lr)\n",
    "gen_optimizer = tf.keras.optimizers.Adam(learning_rate=base_lr)"
   ],
   "metadata": {
    "collapsed": false,
    "pycharm": {
     "name": "#%%\n"
    }
   }
  },
  {
   "cell_type": "code",
   "execution_count": 112,
   "outputs": [],
   "source": [
    "def train_step(batch_x):\n",
    "    # -------------------------------------------------------------------------------------------------------------\n",
    "    # Autoencoder\n",
    "    with tf.GradientTape() as ae_tape:\n",
    "        encoder_output = encoder(batch_x, training=True)\n",
    "        decoder_output = decoder(encoder_output, training=True)\n",
    "\n",
    "        if comment is True : print(f\"Train step: \\nbatch_x: {batch_x.shape}, decoder_output: {decoder_output.shape}\")\n",
    "        # Autoencoder loss\n",
    "        ae_loss = autoencoder_loss(batch_x, decoder_output, ae_loss_weight)\n",
    "\n",
    "    ae_grads = ae_tape.gradient(ae_loss, encoder.trainable_variables + decoder.trainable_variables)\n",
    "    ae_optimizer.apply_gradients(zip(ae_grads, encoder.trainable_variables + decoder.trainable_variables))\n",
    "\n",
    "    # -------------------------------------------------------------------------------------------------------------\n",
    "    # Discriminator\n",
    "    with tf.GradientTape() as dc_tape:\n",
    "        real_distribution = tf.random.normal([batch_x.shape[0], 1, z_dim], mean=0.0, stddev=1.0)\n",
    "        encoder_output = encoder(batch_x, training=True)\n",
    "\n",
    "        dc_real = discriminator(real_distribution, training=True)\n",
    "        dc_fake = discriminator(encoder_output, training=True)\n",
    "\n",
    "        # Discriminator Loss\n",
    "        dc_loss = discriminator_loss(dc_real, dc_fake, dc_loss_weight)\n",
    "\n",
    "        # Discriminator Acc\n",
    "        dc_acc = accuracy(tf.concat([tf.ones_like(dc_real), tf.zeros_like(dc_fake)], axis=0),\n",
    "                          tf.concat([dc_real, dc_fake], axis=0))\n",
    "\n",
    "    dc_grads = dc_tape.gradient(dc_loss, discriminator.trainable_variables)\n",
    "    dc_optimizer.apply_gradients(zip(dc_grads, discriminator.trainable_variables))\n",
    "\n",
    "    # -------------------------------------------------------------------------------------------------------------\n",
    "    # Generator (Encoder)\n",
    "    with tf.GradientTape() as gen_tape:\n",
    "        encoder_output = encoder(batch_x, training=True)\n",
    "        dc_fake = discriminator(encoder_output, training=True)\n",
    "\n",
    "        # Generator loss\n",
    "        gen_loss = generator_loss(dc_fake, gen_loss_weight)\n",
    "\n",
    "    gen_grads = gen_tape.gradient(gen_loss, encoder.trainable_variables)\n",
    "    gen_optimizer.apply_gradients(zip(gen_grads, encoder.trainable_variables))\n",
    "\n",
    "    return ae_loss, dc_loss, dc_acc, gen_loss"
   ],
   "metadata": {
    "collapsed": false,
    "pycharm": {
     "name": "#%%\n"
    }
   }
  },
  {
   "cell_type": "code",
   "execution_count": 113,
   "outputs": [
    {
     "name": "stdout",
     "output_type": "stream",
     "text": [
      "   1: TIME: 36.35 ETA: 3635.18 AE_LOSS: 1.0978 DC_LOSS: 1.8830 DC_ACC: 0.3861 GEN_LOSS: 1.0524\n",
      "        Mean cost of train: 0.6755750775337219\n",
      "        Mean cost of test: 0.6051045060157776\n",
      "        Mean cost of validation: 0.7003754377365112\n",
      "   2: TIME: 36.48 ETA: 3611.85 AE_LOSS: 1.0398 DC_LOSS: 1.5579 DC_ACC: 0.3988 GEN_LOSS: 1.0158\n",
      "        Mean cost of train: 0.6732144951820374\n",
      "        Mean cost of test: 0.589260458946228\n",
      "        Mean cost of validation: 0.68423992395401\n",
      "   3: TIME: 35.81 ETA: 3509.58 AE_LOSS: 1.0305 DC_LOSS: 1.5745 DC_ACC: 0.4216 GEN_LOSS: 0.7896\n",
      "        Mean cost of train: 0.6728189587593079\n",
      "        Mean cost of test: 0.587254524230957\n",
      "        Mean cost of validation: 0.6739817261695862\n",
      "   4: TIME: 35.35 ETA: 3429.09 AE_LOSS: 1.0170 DC_LOSS: 1.4815 DC_ACC: 0.4416 GEN_LOSS: 0.7817\n",
      "        Mean cost of train: 0.6465286612510681\n",
      "        Mean cost of test: 0.5875715017318726\n",
      "        Mean cost of validation: 0.7079837322235107\n",
      "   5: TIME: 35.30 ETA: 3389.22 AE_LOSS: 0.9931 DC_LOSS: 1.4880 DC_ACC: 0.4573 GEN_LOSS: 0.6795\n",
      "        Mean cost of train: 0.6466494202613831\n",
      "        Mean cost of test: 0.5698695182800293\n",
      "        Mean cost of validation: 0.6999373435974121\n",
      "   6: TIME: 35.08 ETA: 3332.69 AE_LOSS: 0.9868 DC_LOSS: 1.4691 DC_ACC: 0.4685 GEN_LOSS: 0.7328\n",
      "        Mean cost of train: 0.6488879323005676\n",
      "        Mean cost of test: 0.5789740681648254\n",
      "        Mean cost of validation: 0.6806563138961792\n",
      "   7: TIME: 35.00 ETA: 3290.17 AE_LOSS: 0.9813 DC_LOSS: 1.4384 DC_ACC: 0.4757 GEN_LOSS: 0.6255\n",
      "        Mean cost of train: 0.6409528255462646\n",
      "        Mean cost of test: 0.5655179023742676\n",
      "        Mean cost of validation: 0.6864100098609924\n",
      "   8: TIME: 35.09 ETA: 3263.60 AE_LOSS: 0.9673 DC_LOSS: 1.4040 DC_ACC: 0.4809 GEN_LOSS: 0.6788\n",
      "        Mean cost of train: 0.6501626968383789\n",
      "        Mean cost of test: 0.5679649114608765\n",
      "        Mean cost of validation: 0.6906355023384094\n",
      "   9: TIME: 34.89 ETA: 3210.27 AE_LOSS: 0.9666 DC_LOSS: 1.4630 DC_ACC: 0.4872 GEN_LOSS: 0.7286\n",
      "        Mean cost of train: 0.6749301552772522\n",
      "        Mean cost of test: 0.5865466594696045\n",
      "        Mean cost of validation: 0.7046551704406738\n",
      "  10: TIME: 35.33 ETA: 3214.87 AE_LOSS: 0.9624 DC_LOSS: 1.4856 DC_ACC: 0.4885 GEN_LOSS: 0.7245\n",
      "        Mean cost of train: 0.6406435966491699\n",
      "        Mean cost of test: 0.5648685693740845\n",
      "        Mean cost of validation: 0.6825776100158691\n",
      "  11: TIME: 35.94 ETA: 3234.38 AE_LOSS: 0.9568 DC_LOSS: 1.3706 DC_ACC: 0.4898 GEN_LOSS: 0.6547\n",
      "        Mean cost of train: 0.6378895044326782\n",
      "        Mean cost of test: 0.570990800857544\n",
      "        Mean cost of validation: 0.684825599193573\n",
      "  12: TIME: 36.19 ETA: 3221.32 AE_LOSS: 0.9579 DC_LOSS: 1.4133 DC_ACC: 0.4922 GEN_LOSS: 0.7287\n",
      "        Mean cost of train: 0.6453081965446472\n",
      "        Mean cost of test: 0.5606985092163086\n",
      "        Mean cost of validation: 0.6794708371162415\n",
      "  13: TIME: 34.88 ETA: 3069.48 AE_LOSS: 0.9569 DC_LOSS: 1.4234 DC_ACC: 0.4936 GEN_LOSS: 0.6944\n",
      "        Mean cost of train: 0.6369645595550537\n",
      "        Mean cost of test: 0.5616440773010254\n",
      "        Mean cost of validation: 0.6787943840026855\n",
      "  14: TIME: 34.90 ETA: 3036.63 AE_LOSS: 0.9580 DC_LOSS: 1.4532 DC_ACC: 0.4954 GEN_LOSS: 0.7793\n",
      "        Mean cost of train: 0.6356710195541382\n",
      "        Mean cost of test: 0.5560374855995178\n",
      "        Mean cost of validation: 0.6722936034202576\n",
      "  15: TIME: 34.87 ETA: 2998.43 AE_LOSS: 0.9495 DC_LOSS: 1.4045 DC_ACC: 0.4958 GEN_LOSS: 0.6591\n",
      "        Mean cost of train: 0.6302655339241028\n",
      "        Mean cost of test: 0.5548160672187805\n",
      "        Mean cost of validation: 0.6717429161071777\n",
      "  16: TIME: 35.02 ETA: 2976.52 AE_LOSS: 0.9482 DC_LOSS: 1.3593 DC_ACC: 0.4967 GEN_LOSS: 0.7560\n",
      "        Mean cost of train: 0.6316121220588684\n",
      "        Mean cost of test: 0.5642145872116089\n",
      "        Mean cost of validation: 0.6774469614028931\n",
      "  17: TIME: 34.70 ETA: 2915.07 AE_LOSS: 0.9496 DC_LOSS: 1.5129 DC_ACC: 0.5002 GEN_LOSS: 0.8215\n",
      "        Mean cost of train: 0.636993944644928\n",
      "        Mean cost of test: 0.5691465735435486\n",
      "        Mean cost of validation: 0.6855741143226624\n",
      "  18: TIME: 34.69 ETA: 2879.34 AE_LOSS: 0.9389 DC_LOSS: 1.3711 DC_ACC: 0.5007 GEN_LOSS: 0.7498\n",
      "        Mean cost of train: 0.6194632053375244\n",
      "        Mean cost of test: 0.5442919135093689\n",
      "        Mean cost of validation: 0.6570249199867249\n",
      "  19: TIME: 34.83 ETA: 2856.03 AE_LOSS: 0.9363 DC_LOSS: 1.4044 DC_ACC: 0.5036 GEN_LOSS: 0.8577\n",
      "        Mean cost of train: 0.6304448843002319\n",
      "        Mean cost of test: 0.5724231600761414\n",
      "        Mean cost of validation: 0.6641992926597595\n",
      "  20: TIME: 34.78 ETA: 2817.32 AE_LOSS: 0.9400 DC_LOSS: 1.3842 DC_ACC: 0.5046 GEN_LOSS: 0.7162\n",
      "        Mean cost of train: 0.6249955296516418\n",
      "        Mean cost of test: 0.5484633445739746\n",
      "        Mean cost of validation: 0.6584760546684265\n",
      "  21: TIME: 34.73 ETA: 2778.06 AE_LOSS: 0.9384 DC_LOSS: 1.3933 DC_ACC: 0.5061 GEN_LOSS: 0.7922\n",
      "        Mean cost of train: 0.6242229342460632\n",
      "        Mean cost of test: 0.55226069688797\n",
      "        Mean cost of validation: 0.660742461681366\n",
      "  22: TIME: 34.95 ETA: 2760.86 AE_LOSS: 0.9380 DC_LOSS: 1.4361 DC_ACC: 0.5074 GEN_LOSS: 0.7875\n",
      "        Mean cost of train: 0.6254139542579651\n",
      "        Mean cost of test: 0.5456997752189636\n",
      "        Mean cost of validation: 0.6746540665626526\n",
      "  23: TIME: 34.73 ETA: 2708.82 AE_LOSS: 0.9372 DC_LOSS: 1.3660 DC_ACC: 0.5095 GEN_LOSS: 0.8703\n",
      "        Mean cost of train: 0.6368094086647034\n",
      "        Mean cost of test: 0.5553417205810547\n",
      "        Mean cost of validation: 0.6632474064826965\n",
      "  24: TIME: 34.53 ETA: 2658.59 AE_LOSS: 0.9369 DC_LOSS: 1.4672 DC_ACC: 0.5092 GEN_LOSS: 0.6943\n",
      "        Mean cost of train: 0.6516671776771545\n",
      "        Mean cost of test: 0.576388418674469\n",
      "        Mean cost of validation: 0.6935768127441406\n",
      "  25: TIME: 34.43 ETA: 2616.68 AE_LOSS: 0.9381 DC_LOSS: 1.4411 DC_ACC: 0.5085 GEN_LOSS: 0.7083\n",
      "        Mean cost of train: 0.6306058764457703\n",
      "        Mean cost of test: 0.6007458567619324\n",
      "        Mean cost of validation: 0.7131648659706116\n",
      "  26: TIME: 34.40 ETA: 2579.84 AE_LOSS: 0.9357 DC_LOSS: 1.4523 DC_ACC: 0.5088 GEN_LOSS: 0.6865\n",
      "        Mean cost of train: 0.6171391010284424\n",
      "        Mean cost of test: 0.550426721572876\n",
      "        Mean cost of validation: 0.6605768203735352\n",
      "  27: TIME: 34.28 ETA: 2537.04 AE_LOSS: 0.9333 DC_LOSS: 1.3793 DC_ACC: 0.5101 GEN_LOSS: 0.7314\n",
      "        Mean cost of train: 0.6243206262588501\n",
      "        Mean cost of test: 0.5673431754112244\n",
      "        Mean cost of validation: 0.6698940396308899\n",
      "  28: TIME: 34.30 ETA: 2504.15 AE_LOSS: 0.9298 DC_LOSS: 1.4075 DC_ACC: 0.5113 GEN_LOSS: 0.7409\n",
      "        Mean cost of train: 0.6692441701889038\n",
      "        Mean cost of test: 0.5659967660903931\n",
      "        Mean cost of validation: 0.67983078956604\n",
      "  29: TIME: 34.18 ETA: 2460.70 AE_LOSS: 0.9279 DC_LOSS: 1.4072 DC_ACC: 0.5120 GEN_LOSS: 0.7554\n",
      "        Mean cost of train: 0.6213914155960083\n",
      "        Mean cost of test: 0.5665237903594971\n",
      "        Mean cost of validation: 0.6715081334114075\n",
      "  30: TIME: 34.36 ETA: 2439.81 AE_LOSS: 0.9268 DC_LOSS: 1.4603 DC_ACC: 0.5133 GEN_LOSS: 0.7098\n",
      "        Mean cost of train: 0.6336624622344971\n",
      "        Mean cost of test: 0.5676561594009399\n",
      "        Mean cost of validation: 0.67374587059021\n",
      "  31: TIME: 33.95 ETA: 2376.25 AE_LOSS: 0.9269 DC_LOSS: 1.4523 DC_ACC: 0.5136 GEN_LOSS: 0.7163\n",
      "        Mean cost of train: 0.6156619787216187\n",
      "        Mean cost of test: 0.5677122473716736\n",
      "        Mean cost of validation: 0.6855740547180176\n",
      "  32: TIME: 34.01 ETA: 2346.81 AE_LOSS: 0.9247 DC_LOSS: 1.4850 DC_ACC: 0.5136 GEN_LOSS: 0.7719\n",
      "        Mean cost of train: 0.6175190806388855\n",
      "        Mean cost of test: 0.5532456040382385\n",
      "        Mean cost of validation: 0.694952666759491\n",
      "  33: TIME: 34.02 ETA: 2313.34 AE_LOSS: 0.9228 DC_LOSS: 1.4109 DC_ACC: 0.5135 GEN_LOSS: 0.8249\n",
      "        Mean cost of train: 0.6112138032913208\n",
      "        Mean cost of test: 0.5649037957191467\n",
      "        Mean cost of validation: 0.6885524988174438\n",
      "  34: TIME: 33.92 ETA: 2272.33 AE_LOSS: 0.9230 DC_LOSS: 1.3912 DC_ACC: 0.5150 GEN_LOSS: 0.8002\n",
      "        Mean cost of train: 0.6181973814964294\n",
      "        Mean cost of test: 0.5868893265724182\n",
      "        Mean cost of validation: 0.7163458466529846\n",
      "  35: TIME: 33.79 ETA: 2229.84 AE_LOSS: 0.9219 DC_LOSS: 1.4836 DC_ACC: 0.5170 GEN_LOSS: 0.7615\n",
      "        Mean cost of train: 0.6195451617240906\n",
      "        Mean cost of test: 0.5692063570022583\n",
      "        Mean cost of validation: 0.6847582459449768\n",
      "  36: TIME: 33.86 ETA: 2200.73 AE_LOSS: 0.9202 DC_LOSS: 1.4348 DC_ACC: 0.5178 GEN_LOSS: 0.7442\n",
      "        Mean cost of train: 0.6098905205726624\n",
      "        Mean cost of test: 0.5859284400939941\n",
      "        Mean cost of validation: 0.6995978355407715\n",
      "  37: TIME: 33.71 ETA: 2157.72 AE_LOSS: 0.9198 DC_LOSS: 1.4285 DC_ACC: 0.5190 GEN_LOSS: 0.7185\n",
      "        Mean cost of train: 0.6323736310005188\n",
      "        Mean cost of test: 0.571321964263916\n",
      "        Mean cost of validation: 0.6818102598190308\n",
      "  38: TIME: 33.87 ETA: 2133.76 AE_LOSS: 0.9156 DC_LOSS: 1.3610 DC_ACC: 0.5202 GEN_LOSS: 0.8294\n",
      "        Mean cost of train: 0.6187266111373901\n",
      "        Mean cost of test: 0.5470179915428162\n",
      "        Mean cost of validation: 0.651978611946106\n",
      "  39: TIME: 33.67 ETA: 2087.57 AE_LOSS: 0.9143 DC_LOSS: 1.5385 DC_ACC: 0.5206 GEN_LOSS: 0.6864\n",
      "        Mean cost of train: 0.6161169409751892\n",
      "        Mean cost of test: 0.5641947388648987\n",
      "        Mean cost of validation: 0.6670119166374207\n",
      "  40: TIME: 33.75 ETA: 2058.74 AE_LOSS: 0.9113 DC_LOSS: 1.4439 DC_ACC: 0.5204 GEN_LOSS: 0.7134\n",
      "        Mean cost of train: 0.6029202342033386\n",
      "        Mean cost of test: 0.5385947227478027\n",
      "        Mean cost of validation: 0.6468783020973206\n",
      "  41: TIME: 34.27 ETA: 2056.44 AE_LOSS: 0.9078 DC_LOSS: 1.4085 DC_ACC: 0.5204 GEN_LOSS: 0.7508\n",
      "        Mean cost of train: 0.612375795841217\n",
      "        Mean cost of test: 0.550199568271637\n",
      "        Mean cost of validation: 0.6628656387329102\n",
      "  42: TIME: 34.23 ETA: 2019.31 AE_LOSS: 0.9090 DC_LOSS: 1.4680 DC_ACC: 0.5213 GEN_LOSS: 0.7203\n",
      "        Mean cost of train: 0.6606885194778442\n",
      "        Mean cost of test: 0.5680318474769592\n",
      "        Mean cost of validation: 0.6683637499809265\n",
      "  43: TIME: 34.53 ETA: 2002.59 AE_LOSS: 0.9132 DC_LOSS: 1.4434 DC_ACC: 0.5218 GEN_LOSS: 0.7882\n",
      "        Mean cost of train: 0.6272510886192322\n",
      "        Mean cost of test: 0.5542625784873962\n",
      "        Mean cost of validation: 0.6668426394462585\n",
      "  44: TIME: 34.67 ETA: 1975.92 AE_LOSS: 0.9048 DC_LOSS: 1.3869 DC_ACC: 0.5222 GEN_LOSS: 0.7918\n",
      "        Mean cost of train: 0.6427236199378967\n",
      "        Mean cost of test: 0.5633093118667603\n",
      "        Mean cost of validation: 0.6557558178901672\n",
      "  45: TIME: 34.55 ETA: 1934.98 AE_LOSS: 0.9079 DC_LOSS: 1.3993 DC_ACC: 0.5228 GEN_LOSS: 0.7059\n",
      "        Mean cost of train: 0.640559732913971\n",
      "        Mean cost of test: 0.5659887790679932\n",
      "        Mean cost of validation: 0.6883708834648132\n",
      "  46: TIME: 34.40 ETA: 1892.23 AE_LOSS: 0.9140 DC_LOSS: 1.4725 DC_ACC: 0.5232 GEN_LOSS: 0.7937\n",
      "        Mean cost of train: 0.6645281314849854\n",
      "        Mean cost of test: 0.5755940675735474\n",
      "        Mean cost of validation: 0.6786296367645264\n",
      "  47: TIME: 34.07 ETA: 1839.59 AE_LOSS: 0.9128 DC_LOSS: 1.4483 DC_ACC: 0.5233 GEN_LOSS: 0.7265\n",
      "        Mean cost of train: 0.6358624696731567\n",
      "        Mean cost of test: 0.5625702142715454\n",
      "        Mean cost of validation: 0.6696829795837402\n",
      "  48: TIME: 34.09 ETA: 1806.63 AE_LOSS: 0.9058 DC_LOSS: 1.4516 DC_ACC: 0.5241 GEN_LOSS: 0.7479\n",
      "        Mean cost of train: 0.6421841382980347\n",
      "        Mean cost of test: 0.5664952397346497\n",
      "        Mean cost of validation: 0.6603882312774658\n",
      "  49: TIME: 35.43 ETA: 1842.51 AE_LOSS: 0.9023 DC_LOSS: 1.3936 DC_ACC: 0.5247 GEN_LOSS: 0.7910\n",
      "        Mean cost of train: 0.621023416519165\n",
      "        Mean cost of test: 0.5706772804260254\n",
      "        Mean cost of validation: 0.6579004526138306\n",
      "  50: TIME: 35.03 ETA: 1786.34 AE_LOSS: 0.9107 DC_LOSS: 1.5001 DC_ACC: 0.5255 GEN_LOSS: 0.8095\n",
      "        Mean cost of train: 0.6062692999839783\n",
      "        Mean cost of test: 0.5540677309036255\n",
      "        Mean cost of validation: 0.652137279510498\n",
      "  51: TIME: 35.00 ETA: 1749.99 AE_LOSS: 0.9068 DC_LOSS: 1.4992 DC_ACC: 0.5266 GEN_LOSS: 0.7955\n",
      "        Mean cost of train: 0.6236475110054016\n",
      "        Mean cost of test: 0.5609304904937744\n",
      "        Mean cost of validation: 0.667389988899231\n",
      "  52: TIME: 34.51 ETA: 1691.05 AE_LOSS: 0.9069 DC_LOSS: 1.4310 DC_ACC: 0.5274 GEN_LOSS: 0.8149\n",
      "        Mean cost of train: 0.6024205088615417\n",
      "        Mean cost of test: 0.5626530051231384\n",
      "        Mean cost of validation: 0.6808297634124756\n",
      "  53: TIME: 34.71 ETA: 1666.32 AE_LOSS: 0.9079 DC_LOSS: 1.4746 DC_ACC: 0.5278 GEN_LOSS: 0.7690\n",
      "        Mean cost of train: 0.6152253150939941\n",
      "        Mean cost of test: 0.591899573802948\n",
      "        Mean cost of validation: 0.7233363389968872\n",
      "  54: TIME: 34.23 ETA: 1608.82 AE_LOSS: 0.9022 DC_LOSS: 1.4223 DC_ACC: 0.5288 GEN_LOSS: 0.7602\n",
      "        Mean cost of train: 0.6432852745056152\n",
      "        Mean cost of test: 0.5656022429466248\n",
      "        Mean cost of validation: 0.6861343383789062\n",
      "  55: TIME: 34.22 ETA: 1573.98 AE_LOSS: 0.9101 DC_LOSS: 1.4808 DC_ACC: 0.5292 GEN_LOSS: 0.7705\n",
      "        Mean cost of train: 0.6316484808921814\n",
      "        Mean cost of test: 0.5760362148284912\n",
      "        Mean cost of validation: 0.6673128008842468\n",
      "  56: TIME: 34.01 ETA: 1530.24 AE_LOSS: 0.9027 DC_LOSS: 1.4448 DC_ACC: 0.5292 GEN_LOSS: 0.7314\n",
      "        Mean cost of train: 0.6005185842514038\n",
      "        Mean cost of test: 0.535615086555481\n",
      "        Mean cost of validation: 0.6420317888259888\n",
      "  57: TIME: 34.09 ETA: 1499.90 AE_LOSS: 0.9013 DC_LOSS: 1.4360 DC_ACC: 0.5292 GEN_LOSS: 0.7178\n",
      "        Mean cost of train: 0.600868284702301\n",
      "        Mean cost of test: 0.5516836643218994\n",
      "        Mean cost of validation: 0.646018922328949\n",
      "  58: TIME: 34.22 ETA: 1471.44 AE_LOSS: 0.9052 DC_LOSS: 1.4202 DC_ACC: 0.5300 GEN_LOSS: 0.8325\n",
      "        Mean cost of train: 0.6434444785118103\n",
      "        Mean cost of test: 0.5773704648017883\n",
      "        Mean cost of validation: 0.6989849805831909\n",
      "  59: TIME: 33.98 ETA: 1427.01 AE_LOSS: 0.9103 DC_LOSS: 1.5054 DC_ACC: 0.5307 GEN_LOSS: 0.7500\n",
      "        Mean cost of train: 0.6406872868537903\n",
      "        Mean cost of test: 0.560025691986084\n",
      "        Mean cost of validation: 0.6599421501159668\n",
      "  60: TIME: 34.01 ETA: 1394.56 AE_LOSS: 0.9055 DC_LOSS: 1.4735 DC_ACC: 0.5311 GEN_LOSS: 0.7631\n",
      "        Mean cost of train: 0.6384623050689697\n",
      "        Mean cost of test: 0.5574460029602051\n",
      "        Mean cost of validation: 0.6675929427146912\n",
      "  61: TIME: 33.91 ETA: 1356.27 AE_LOSS: 0.9007 DC_LOSS: 1.4243 DC_ACC: 0.5313 GEN_LOSS: 0.7338\n",
      "        Mean cost of train: 0.6352980136871338\n",
      "        Mean cost of test: 0.5468423962593079\n",
      "        Mean cost of validation: 0.6435328125953674\n",
      "  62: TIME: 33.68 ETA: 1313.49 AE_LOSS: 0.9022 DC_LOSS: 1.4537 DC_ACC: 0.5316 GEN_LOSS: 0.7903\n",
      "        Mean cost of train: 0.649646520614624\n",
      "        Mean cost of test: 0.557961106300354\n",
      "        Mean cost of validation: 0.6868318319320679\n",
      "  63: TIME: 33.75 ETA: 1282.43 AE_LOSS: 0.8987 DC_LOSS: 1.4023 DC_ACC: 0.5321 GEN_LOSS: 0.7134\n",
      "        Mean cost of train: 0.6274136304855347\n",
      "        Mean cost of test: 0.5659635663032532\n",
      "        Mean cost of validation: 0.6876527070999146\n",
      "  64: TIME: 33.93 ETA: 1255.59 AE_LOSS: 0.9018 DC_LOSS: 1.4460 DC_ACC: 0.5326 GEN_LOSS: 0.8180\n",
      "        Mean cost of train: 0.6462567448616028\n",
      "        Mean cost of test: 0.563842236995697\n",
      "        Mean cost of validation: 0.6797296404838562\n",
      "  65: TIME: 33.62 ETA: 1210.49 AE_LOSS: 0.9018 DC_LOSS: 1.5150 DC_ACC: 0.5327 GEN_LOSS: 0.7846\n",
      "        Mean cost of train: 0.6164698600769043\n",
      "        Mean cost of test: 0.5472658276557922\n",
      "        Mean cost of validation: 0.6459071636199951\n",
      "  66: TIME: 33.38 ETA: 1168.14 AE_LOSS: 0.8994 DC_LOSS: 1.4397 DC_ACC: 0.5327 GEN_LOSS: 0.7280\n",
      "        Mean cost of train: 0.636349618434906\n",
      "        Mean cost of test: 0.5517053604125977\n",
      "        Mean cost of validation: 0.6320180296897888\n",
      "  67: TIME: 33.59 ETA: 1141.97 AE_LOSS: 0.9055 DC_LOSS: 1.4971 DC_ACC: 0.5331 GEN_LOSS: 0.7501\n",
      "        Mean cost of train: 0.625236988067627\n",
      "        Mean cost of test: 0.5737454891204834\n",
      "        Mean cost of validation: 0.6872933506965637\n",
      "  68: TIME: 33.45 ETA: 1103.84 AE_LOSS: 0.9002 DC_LOSS: 1.3467 DC_ACC: 0.5338 GEN_LOSS: 0.8057\n",
      "        Mean cost of train: 0.6350748538970947\n",
      "        Mean cost of test: 0.5693580508232117\n",
      "        Mean cost of validation: 0.6814962029457092\n",
      "  69: TIME: 33.32 ETA: 1066.16 AE_LOSS: 0.8976 DC_LOSS: 1.4861 DC_ACC: 0.5345 GEN_LOSS: 0.7021\n",
      "        Mean cost of train: 0.6146490573883057\n",
      "        Mean cost of test: 0.5599156618118286\n",
      "        Mean cost of validation: 0.6757045984268188\n",
      "  70: TIME: 33.33 ETA: 1033.29 AE_LOSS: 0.8953 DC_LOSS: 1.4608 DC_ACC: 0.5348 GEN_LOSS: 0.7763\n",
      "        Mean cost of train: 0.613216757774353\n",
      "        Mean cost of test: 0.5470463037490845\n",
      "        Mean cost of validation: 0.6432622671127319\n",
      "  71: TIME: 33.55 ETA: 1006.46 AE_LOSS: 0.8996 DC_LOSS: 1.4262 DC_ACC: 0.5349 GEN_LOSS: 0.7425\n",
      "        Mean cost of train: 0.6052708029747009\n",
      "        Mean cost of test: 0.5420191287994385\n",
      "        Mean cost of validation: 0.6479880213737488\n",
      "  72: TIME: 33.82 ETA: 980.77 AE_LOSS: 0.8952 DC_LOSS: 1.3816 DC_ACC: 0.5353 GEN_LOSS: 0.8463\n",
      "        Mean cost of train: 0.6510494351387024\n",
      "        Mean cost of test: 0.5421085357666016\n",
      "        Mean cost of validation: 0.6393516063690186\n",
      "  73: TIME: 33.73 ETA: 944.51 AE_LOSS: 0.8934 DC_LOSS: 1.4827 DC_ACC: 0.5353 GEN_LOSS: 0.7198\n",
      "        Mean cost of train: 0.6241898536682129\n",
      "        Mean cost of test: 0.5526914596557617\n",
      "        Mean cost of validation: 0.6485192775726318\n",
      "  74: TIME: 33.84 ETA: 913.78 AE_LOSS: 0.8915 DC_LOSS: 1.3469 DC_ACC: 0.5358 GEN_LOSS: 0.7695\n",
      "        Mean cost of train: 0.6311172842979431\n",
      "        Mean cost of test: 0.5594670176506042\n",
      "        Mean cost of validation: 0.6684991717338562\n",
      "  75: TIME: 33.91 ETA: 881.66 AE_LOSS: 0.8971 DC_LOSS: 1.4009 DC_ACC: 0.5364 GEN_LOSS: 0.8377\n",
      "        Mean cost of train: 0.6464207768440247\n",
      "        Mean cost of test: 0.565728485584259\n",
      "        Mean cost of validation: 0.6453416347503662\n",
      "  76: TIME: 33.74 ETA: 843.46 AE_LOSS: 0.8993 DC_LOSS: 1.5031 DC_ACC: 0.5365 GEN_LOSS: 0.7450\n",
      "        Mean cost of train: 0.6256788372993469\n",
      "        Mean cost of test: 0.5640429854393005\n",
      "        Mean cost of validation: 0.6818798780441284\n",
      "  77: TIME: 33.87 ETA: 812.76 AE_LOSS: 0.9106 DC_LOSS: 1.4648 DC_ACC: 0.5369 GEN_LOSS: 0.8093\n",
      "        Mean cost of train: 0.6433327794075012\n",
      "        Mean cost of test: 0.610991358757019\n",
      "        Mean cost of validation: 0.7213794589042664\n",
      "  78: TIME: 33.80 ETA: 777.40 AE_LOSS: 0.9164 DC_LOSS: 1.4784 DC_ACC: 0.5375 GEN_LOSS: 0.7634\n",
      "        Mean cost of train: 0.616324245929718\n",
      "        Mean cost of test: 0.5457334518432617\n",
      "        Mean cost of validation: 0.6481209397315979\n",
      "  79: TIME: 33.71 ETA: 741.67 AE_LOSS: 0.9004 DC_LOSS: 1.3904 DC_ACC: 0.5383 GEN_LOSS: 0.7625\n",
      "        Mean cost of train: 0.6207805871963501\n",
      "        Mean cost of test: 0.5532329082489014\n",
      "        Mean cost of validation: 0.6586265563964844\n",
      "  80: TIME: 33.67 ETA: 706.97 AE_LOSS: 0.9046 DC_LOSS: 1.3794 DC_ACC: 0.5391 GEN_LOSS: 0.9435\n",
      "        Mean cost of train: 0.6563944220542908\n",
      "        Mean cost of test: 0.5764647722244263\n",
      "        Mean cost of validation: 0.6805855631828308\n",
      "  81: TIME: 35.50 ETA: 709.91 AE_LOSS: 0.9112 DC_LOSS: 1.5867 DC_ACC: 0.5394 GEN_LOSS: 0.7814\n",
      "        Mean cost of train: 0.6869223713874817\n",
      "        Mean cost of test: 0.6227311491966248\n",
      "        Mean cost of validation: 0.736265242099762\n",
      "  82: TIME: 34.36 ETA: 652.82 AE_LOSS: 0.9071 DC_LOSS: 1.5785 DC_ACC: 0.5394 GEN_LOSS: 0.7339\n",
      "        Mean cost of train: 0.6286191344261169\n",
      "        Mean cost of test: 0.5533868670463562\n",
      "        Mean cost of validation: 0.6527904272079468\n",
      "  83: TIME: 34.70 ETA: 624.62 AE_LOSS: 0.9016 DC_LOSS: 1.4853 DC_ACC: 0.5390 GEN_LOSS: 0.7150\n",
      "        Mean cost of train: 0.61747145652771\n",
      "        Mean cost of test: 0.5588475465774536\n",
      "        Mean cost of validation: 0.676173746585846\n",
      "  84: TIME: 35.97 ETA: 611.56 AE_LOSS: 0.8934 DC_LOSS: 1.4156 DC_ACC: 0.5390 GEN_LOSS: 0.7758\n",
      "        Mean cost of train: 0.6125543713569641\n",
      "        Mean cost of test: 0.5655349493026733\n",
      "        Mean cost of validation: 0.663345992565155\n",
      "  85: TIME: 34.59 ETA: 553.37 AE_LOSS: 0.8990 DC_LOSS: 1.4591 DC_ACC: 0.5392 GEN_LOSS: 0.7539\n",
      "        Mean cost of train: 0.6050465106964111\n",
      "        Mean cost of test: 0.5668104290962219\n",
      "        Mean cost of validation: 0.6567218899726868\n",
      "  86: TIME: 33.48 ETA: 502.15 AE_LOSS: 0.8974 DC_LOSS: 1.4369 DC_ACC: 0.5394 GEN_LOSS: 0.7199\n",
      "        Mean cost of train: 0.6579711437225342\n",
      "        Mean cost of test: 0.5798627138137817\n",
      "        Mean cost of validation: 0.6917468905448914\n",
      "  87: TIME: 32.97 ETA: 461.59 AE_LOSS: 0.8988 DC_LOSS: 1.4068 DC_ACC: 0.5399 GEN_LOSS: 0.7819\n",
      "        Mean cost of train: 0.6450672149658203\n",
      "        Mean cost of test: 0.5694697499275208\n",
      "        Mean cost of validation: 0.6732487082481384\n",
      "  88: TIME: 33.24 ETA: 432.15 AE_LOSS: 0.9000 DC_LOSS: 1.4372 DC_ACC: 0.5399 GEN_LOSS: 0.7578\n",
      "        Mean cost of train: 0.6092574000358582\n",
      "        Mean cost of test: 0.5497056841850281\n",
      "        Mean cost of validation: 0.6426485180854797\n",
      "  89: TIME: 34.13 ETA: 409.58 AE_LOSS: 0.8927 DC_LOSS: 1.4480 DC_ACC: 0.5402 GEN_LOSS: 0.7158\n",
      "        Mean cost of train: 0.6035977005958557\n",
      "        Mean cost of test: 0.5472752451896667\n",
      "        Mean cost of validation: 0.6391603350639343\n",
      "  90: TIME: 34.71 ETA: 381.81 AE_LOSS: 0.8929 DC_LOSS: 1.3931 DC_ACC: 0.5406 GEN_LOSS: 0.7778\n",
      "        Mean cost of train: 0.6250953078269958\n",
      "        Mean cost of test: 0.5689866542816162\n",
      "        Mean cost of validation: 0.6749425530433655\n",
      "  91: TIME: 34.98 ETA: 349.83 AE_LOSS: 0.8951 DC_LOSS: 1.4442 DC_ACC: 0.5409 GEN_LOSS: 0.8093\n",
      "        Mean cost of train: 0.6133144497871399\n",
      "        Mean cost of test: 0.5531243085861206\n",
      "        Mean cost of validation: 0.6532949805259705\n",
      "  92: TIME: 34.67 ETA: 311.99 AE_LOSS: 0.8973 DC_LOSS: 1.5093 DC_ACC: 0.5414 GEN_LOSS: 0.7696\n",
      "        Mean cost of train: 0.6191965341567993\n",
      "        Mean cost of test: 0.5566595196723938\n",
      "        Mean cost of validation: 0.6543110609054565\n",
      "  93: TIME: 33.78 ETA: 270.23 AE_LOSS: 0.8915 DC_LOSS: 1.3629 DC_ACC: 0.5417 GEN_LOSS: 0.8489\n",
      "        Mean cost of train: 0.6466747522354126\n",
      "        Mean cost of test: 0.5608199834823608\n",
      "        Mean cost of validation: 0.6529654264450073\n",
      "  94: TIME: 33.47 ETA: 234.27 AE_LOSS: 0.8983 DC_LOSS: 1.4940 DC_ACC: 0.5419 GEN_LOSS: 0.7397\n",
      "        Mean cost of train: 0.6232972741127014\n",
      "        Mean cost of test: 0.5685950517654419\n",
      "        Mean cost of validation: 0.664886474609375\n",
      "  95: TIME: 33.49 ETA: 200.97 AE_LOSS: 0.8949 DC_LOSS: 1.4330 DC_ACC: 0.5419 GEN_LOSS: 0.7177\n",
      "        Mean cost of train: 0.6105875372886658\n",
      "        Mean cost of test: 0.5438042879104614\n",
      "        Mean cost of validation: 0.6355388760566711\n",
      "  96: TIME: 33.50 ETA: 167.50 AE_LOSS: 0.8948 DC_LOSS: 1.4262 DC_ACC: 0.5424 GEN_LOSS: 0.7843\n",
      "        Mean cost of train: 0.6397308111190796\n",
      "        Mean cost of test: 0.5789296627044678\n",
      "        Mean cost of validation: 0.6996262073516846\n",
      "  97: TIME: 33.40 ETA: 133.61 AE_LOSS: 0.8978 DC_LOSS: 1.4382 DC_ACC: 0.5426 GEN_LOSS: 0.7330\n",
      "        Mean cost of train: 0.6221997141838074\n",
      "        Mean cost of test: 0.558059811592102\n",
      "        Mean cost of validation: 0.6627746820449829\n",
      "  98: TIME: 33.62 ETA: 100.87 AE_LOSS: 0.8954 DC_LOSS: 1.4119 DC_ACC: 0.5426 GEN_LOSS: 0.7372\n",
      "        Mean cost of train: 0.6089918613433838\n",
      "        Mean cost of test: 0.5536478757858276\n",
      "        Mean cost of validation: 0.6651217937469482\n",
      "  99: TIME: 33.49 ETA: 66.98 AE_LOSS: 0.8919 DC_LOSS: 1.4175 DC_ACC: 0.5426 GEN_LOSS: 0.7635\n",
      "        Mean cost of train: 0.6082784533500671\n",
      "        Mean cost of test: 0.5838136672973633\n",
      "        Mean cost of validation: 0.699993908405304\n",
      " 100: TIME: 33.90 ETA: 33.90 AE_LOSS: 0.8894 DC_LOSS: 1.4032 DC_ACC: 0.5431 GEN_LOSS: 0.7691\n",
      "        Mean cost of train: 0.6404187083244324\n",
      "        Mean cost of test: 0.5687925815582275\n",
      "        Mean cost of validation: 0.6747596263885498\n"
     ]
    }
   ],
   "source": [
    "n_epochs = 100\n",
    "train_autoencoder_loss = []\n",
    "train_generator_loss = []\n",
    "train_discriminator_loss = []\n",
    "train_discriminator_acc = []\n",
    "\n",
    "test_cost = []\n",
    "train_cost = []\n",
    "validation_cost = []\n",
    "for epoch in range(n_epochs):\n",
    "    start = time.time()\n",
    "\n",
    "    epoch_ae_loss_avg = tf.metrics.Mean()\n",
    "    epoch_dc_loss_avg = tf.metrics.Mean()\n",
    "    epoch_dc_acc_avg = tf.metrics.Mean()\n",
    "    epoch_gen_loss_avg = tf.metrics.Mean()\n",
    "    for batch, (batch_x) in enumerate(train_dataset):\n",
    "        # -------------------------------------------------------------------------------------------------------------\n",
    "        # Calculate cyclic learning rate\n",
    "        # global_step = global_step + 1\n",
    "        # cycle = np.floor(1 + global_step / (2 * step_size))\n",
    "        # x_lr = np.abs(global_step / step_size - 2 * cycle + 1)\n",
    "        # clr = base_lr + (max_lr - base_lr) * max(0, 1 - x_lr)\n",
    "        # ae_optimizer.lr = clr\n",
    "        # dc_optimizer.lr = clr\n",
    "        # gen_optimizer.lr = clr\n",
    "\n",
    "        ae_loss, dc_loss, dc_acc, gen_loss = train_step(batch_x)\n",
    "\n",
    "        epoch_ae_loss_avg(ae_loss)\n",
    "        epoch_dc_loss_avg(dc_loss)\n",
    "        epoch_dc_acc_avg(dc_acc)\n",
    "        epoch_gen_loss_avg(gen_loss)\n",
    "\n",
    "    epoch_time = time.time() - start\n",
    "    print('{:4d}: TIME: {:.2f} ETA: {:.2f} AE_LOSS: {:.4f} DC_LOSS: {:.4f} DC_ACC: {:.4f} GEN_LOSS: {:.4f}' \\\n",
    "          .format(epoch+1, epoch_time,\n",
    "                  epoch_time * (n_epochs - epoch),\n",
    "                  epoch_ae_loss_avg.result(),\n",
    "                  epoch_dc_loss_avg.result(),\n",
    "                  epoch_dc_acc_avg.result(),\n",
    "                  epoch_gen_loss_avg.result()))\n",
    "    train_autoencoder_loss.append(epoch_ae_loss_avg.result())\n",
    "    train_generator_loss.append(epoch_gen_loss_avg.result())\n",
    "    train_discriminator_loss.append(epoch_dc_loss_avg.result())\n",
    "    train_discriminator_acc.append(epoch_dc_acc_avg.result())\n",
    "\n",
    "    # -------------------------------------------------------------------------------------------------------------\n",
    "    train_decoded = decoder(encoder(data_train, training=False), training=False)\n",
    "    cost_train = np.mean(np.abs(train_decoded - data_train), axis=1)\n",
    "    train_cost.append(cost_train)\n",
    "    print(f\"        Mean cost of train: {np.mean(np.abs(train_decoded - data_train))}\")\n",
    "\n",
    "    test_decoded = decoder(encoder(data_test, training=False), training=False)\n",
    "    cost_test = np.mean(np.abs(test_decoded - data_test), axis=1)\n",
    "    test_cost.append(cost_test)\n",
    "    print(f\"        Mean cost of test: {np.mean(np.abs(test_decoded - data_test))}\")\n",
    "\n",
    "    val_decoded = decoder(encoder(data_validation, training=False), training=False)\n",
    "    cost_val = np.mean(np.abs(val_decoded - data_validation), axis=1)\n",
    "    validation_cost.append(cost_val)\n",
    "    print(f\"        Mean cost of validation: {np.mean(np.abs(val_decoded - data_validation))}\")\n"
   ],
   "metadata": {
    "collapsed": false,
    "pycharm": {
     "name": "#%%\n"
    }
   }
  },
  {
   "cell_type": "code",
   "execution_count": 114,
   "outputs": [
    {
     "data": {
      "text/plain": "<Figure size 640x480 with 1 Axes>",
      "image/png": "[encoded data removed]"
     },
     "metadata": {},
     "output_type": "display_data"
    }
   ],
   "source": [
    "plt.plot(train_autoencoder_loss, label=\"autoencoder\")\n",
    "plt.plot(train_generator_loss, label=\"generator\")\n",
    "plt.plot(train_discriminator_loss, label=\"discriminator\")\n",
    "plt.legend()\n",
    "plt.show()"
   ],
   "metadata": {
    "collapsed": false,
    "pycharm": {
     "name": "#%%\n"
    }
   }
  },
  {
   "cell_type": "code",
   "execution_count": 115,
   "outputs": [],
   "source": [
    "test_cost_avg = [np.mean(np.abs(i)) for i in test_cost]\n",
    "train_cost_avg = [np.mean(np.abs(i)) for i in train_cost]\n",
    "validation_cost_avg = [np.mean(np.abs(i)) for i in validation_cost]"
   ],
   "metadata": {
    "collapsed": false,
    "pycharm": {
     "name": "#%%\n"
    }
   }
  },
  {
   "cell_type": "code",
   "execution_count": 116,
   "outputs": [
    {
     "data": {
      "text/plain": "<Figure size 640x480 with 1 Axes>",
      "image/png": "[encoded data removed]"
     },
     "metadata": {},
     "output_type": "display_data"
    }
   ],
   "source": [
    "plt.plot(test_cost_avg, label=\"test\")\n",
    "plt.plot(train_cost_avg, label=\"train\")\n",
    "plt.plot(validation_cost_avg, label=\"validation\")\n",
    "plt.legend()\n",
    "plt.show()"
   ],
   "metadata": {
    "collapsed": false,
    "pycharm": {
     "name": "#%%\n"
    }
   }
  },
  {
   "cell_type": "code",
   "execution_count": 16,
   "outputs": [],
   "source": [
    "data_train = data_train.reshape(data_train.shape[0], data_train.shape[1], data_train.shape[2], 1)\n",
    "\n",
    "input_shape = data_train.shape[1:]\n",
    "latent_shape = 2\n",
    "\n",
    "def make_encoder_model(z_size):\n",
    "    inputs = tf.keras.layers.Input(shape=input_shape)\n",
    "    if comment is True : print(f\"encoder input: {inputs.shape}\")\n",
    "    x = layers.Conv1D(32, 5, padding=\"same\", activation=\"relu\", input_shape=input_shape)(inputs)\n",
    "    x = layers.Conv1D(64, 5, strides=2, activation=\"relu\", padding=\"same\")(x)\n",
    "    x = layers.Conv1D(128, 5, strides=2, activation=\"relu\", padding=\"same\")(x)\n",
    "    x = layers.Flatten()(x)\n",
    "    z = layers.Dense(z_size, activation=\"linear\")(x)\n",
    "    if comment is True : print(f\"endoder output: {z.shape}\")\n",
    "\n",
    "    model = tf.keras.Model(inputs=inputs, outputs=z)\n",
    "    return model\n",
    "\n",
    "def make_decoder_model(z_size):\n",
    "    encoded = tf.keras.Input(shape=z_size)\n",
    "    if comment is True : print(f\"decoder input: {encoded.shape}\")\n",
    "    x = layers.Dense(12*23*128)(encoded)\n",
    "    x = layers.Reshape((12, 23, 128))(x)\n",
    "    x = layers.Conv1D(64, 5, activation=\"relu\", padding=\"same\")(x)\n",
    "    x = layers.UpSampling2D()(x)\n",
    "    x = layers.Conv1D(32, 5, activation=\"relu\", padding=\"same\")(x)\n",
    "    x = layers.UpSampling2D()(x)\n",
    "    reconstruction = layers.Conv1D(1, 7, activation=\"sigmoid\")(x)\n",
    "    if comment is True : print(f\"decoder output: {reconstruction.shape}\")\n",
    "    decoder = tf.keras.Model(inputs=encoded, outputs=reconstruction)\n",
    "    return decoder\n",
    "\n",
    "def make_discriminator_model(z_size):\n",
    "    encoded = tf.keras.Input(shape=(z_size, ))\n",
    "    if comment is True : print(f\"discriminator input: {encoded.shape}\")\n",
    "    x = layers.Dense(63, activation=\"relu\", input_shape=(1, latent_shape))(encoded)\n",
    "    x = layers.Dense(32, activation=\"relu\")(x)\n",
    "    x = layers.Dense(1, activation=\"sigmoid\")(x)\n",
    "    prediction = tf.keras.layers.LeakyReLU(0.2)(x)\n",
    "    if comment is True : print(f\"discriminator output: {prediction.shape}\")\n",
    "    model = tf.keras.Model(inputs=encoded, outputs=prediction)\n",
    "    return model"
   ],
   "metadata": {
    "collapsed": false,
    "pycharm": {
     "name": "#%%\n"
    }
   }
  }
 ],
 "metadata": {
  "kernelspec": {
   "display_name": "Python 3",
   "language": "python",
   "name": "python3"
  },
  "language_info": {
   "codemirror_mode": {
    "name": "ipython",
    "version": 2
   },
   "file_extension": ".py",
   "mimetype": "text/x-python",
   "name": "python",
   "nbconvert_exporter": "python",
   "pygments_lexer": "ipython2",
   "version": "2.7.6"
  }
 },
 "nbformat": 4,
 "nbformat_minor": 0
}