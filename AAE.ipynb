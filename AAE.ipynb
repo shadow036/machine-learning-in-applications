{
 "cells": [
  {
   "cell_type": "code",
   "execution_count": 2,
   "metadata": {
    "collapsed": true
   },
   "outputs": [],
   "source": [
    "import time\n",
    "from pathlib import Path\n",
    "\n",
    "import matplotlib.pyplot as plt\n",
    "from matplotlib import gridspec\n",
    "import matplotlib.patches as mpatches\n",
    "import numpy as np\n",
    "import tensorflow as tf\n",
    "\n",
    "\n",
    "import pandas as pd\n",
    "import seaborn as sns\n",
    "from sklearn import preprocessing"
   ]
  },
  {
   "cell_type": "code",
   "execution_count": 3,
   "outputs": [],
   "source": [
    "try:\n",
    "    # enable all GPUS\n",
    "    tf.config.set_visible_devices([], 'GPU')\n",
    "    visible_devices = tf.config.get_visible_devices()\n",
    "    for device in visible_devices:\n",
    "        assert device.device_type == 'GPU'\n",
    "except:\n",
    "    # Invalid device or cannot modify virtual devices once initialized.\n",
    "    pass"
   ],
   "metadata": {
    "collapsed": false,
    "pycharm": {
     "name": "#%%\n"
    }
   }
  },
  {
   "cell_type": "code",
   "execution_count": 4,
   "outputs": [],
   "source": [
    "DATA_DIR_SLOW = \"/Users/kedi/Desktop/polito lectures and notes/ML in App/project/KukaVelocityDataset/KukaSlow.npy\"\n",
    "DATA_DIR_NORMAL = \"/Users/kedi/Desktop/polito lectures and notes/ML in App/project/KukaVelocityDataset/KukaNormal.npy\"\n",
    "DATA_DIR_C_NAMES = \"/Users/kedi/Desktop/polito lectures and notes/ML in App/project/KukaVelocityDataset/KukaColumnNames.npy\"\n",
    "\n",
    "# Set style for matplotlib\n",
    "plt.style.use(\"Solarize_Light2\")"
   ],
   "metadata": {
    "collapsed": false,
    "pycharm": {
     "name": "#%%\n"
    }
   }
  },
  {
   "cell_type": "code",
   "execution_count": 5,
   "outputs": [],
   "source": [
    "data_normal = np.load(DATA_DIR_NORMAL)\n",
    "data_slow = np.load(DATA_DIR_SLOW)\n",
    "column_names = np.load(DATA_DIR_C_NAMES)"
   ],
   "metadata": {
    "collapsed": false,
    "pycharm": {
     "name": "#%%\n"
    }
   }
  },
  {
   "cell_type": "code",
   "execution_count": 6,
   "outputs": [
    {
     "name": "stdout",
     "output_type": "stream",
     "text": [
      "['action' 'machine_nameKuka Robot_apparent_power'\n",
      " 'machine_nameKuka Robot_current' 'machine_nameKuka Robot_frequency'\n",
      " 'machine_nameKuka Robot_phase_angle' 'machine_nameKuka Robot_power'\n",
      " 'machine_nameKuka Robot_power_factor'\n",
      " 'machine_nameKuka Robot_reactive_power' 'machine_nameKuka Robot_voltage'\n",
      " 'sensor_id1_AccX' 'sensor_id1_AccY' 'sensor_id1_AccZ' 'sensor_id1_GyroX'\n",
      " 'sensor_id1_GyroY' 'sensor_id1_GyroZ' 'sensor_id1_q1' 'sensor_id1_q2'\n",
      " 'sensor_id1_q3' 'sensor_id1_q4' 'sensor_id1_temp' 'sensor_id2_AccX'\n",
      " 'sensor_id2_AccY' 'sensor_id2_AccZ' 'sensor_id2_GyroX' 'sensor_id2_GyroY'\n",
      " 'sensor_id2_GyroZ' 'sensor_id2_q1' 'sensor_id2_q2' 'sensor_id2_q3'\n",
      " 'sensor_id2_q4' 'sensor_id2_temp' 'sensor_id3_AccX' 'sensor_id3_AccY'\n",
      " 'sensor_id3_AccZ' 'sensor_id3_GyroX' 'sensor_id3_GyroY'\n",
      " 'sensor_id3_GyroZ' 'sensor_id3_q1' 'sensor_id3_q2' 'sensor_id3_q3'\n",
      " 'sensor_id3_q4' 'sensor_id3_temp' 'sensor_id4_AccX' 'sensor_id4_AccY'\n",
      " 'sensor_id4_AccZ' 'sensor_id4_GyroX' 'sensor_id4_GyroY'\n",
      " 'sensor_id4_GyroZ' 'sensor_id4_q1' 'sensor_id4_q2' 'sensor_id4_q3'\n",
      " 'sensor_id4_q4' 'sensor_id4_temp' 'sensor_id5_AccX' 'sensor_id5_AccY'\n",
      " 'sensor_id5_AccZ' 'sensor_id5_GyroX' 'sensor_id5_GyroY'\n",
      " 'sensor_id5_GyroZ' 'sensor_id5_q1' 'sensor_id5_q2' 'sensor_id5_q3'\n",
      " 'sensor_id5_q4' 'sensor_id5_temp' 'sensor_id6_AccX' 'sensor_id6_AccY'\n",
      " 'sensor_id6_AccZ' 'sensor_id6_GyroX' 'sensor_id6_GyroY'\n",
      " 'sensor_id6_GyroZ' 'sensor_id6_q1' 'sensor_id6_q2' 'sensor_id6_q3'\n",
      " 'sensor_id6_q4' 'sensor_id6_temp' 'sensor_id7_AccX' 'sensor_id7_AccY'\n",
      " 'sensor_id7_AccZ' 'sensor_id7_GyroX' 'sensor_id7_GyroY'\n",
      " 'sensor_id7_GyroZ' 'sensor_id7_q1' 'sensor_id7_q2' 'sensor_id7_q3'\n",
      " 'sensor_id7_q4' 'sensor_id7_temp' 'anomaly']\n"
     ]
    }
   ],
   "source": [
    "print(column_names)"
   ],
   "metadata": {
    "collapsed": false,
    "pycharm": {
     "name": "#%%\n"
    }
   }
  },
  {
   "cell_type": "markdown",
   "source": [
    "## Dataset Setup"
   ],
   "metadata": {
    "collapsed": false
   }
  },
  {
   "cell_type": "code",
   "execution_count": 7,
   "outputs": [],
   "source": [
    "# Get labels from data slow\n",
    "label_slow = data_slow[:,-1:]\n",
    "data_slow = data_slow[:,:-1]"
   ],
   "metadata": {
    "collapsed": false,
    "pycharm": {
     "name": "#%%\n"
    }
   }
  },
  {
   "cell_type": "code",
   "execution_count": 8,
   "outputs": [],
   "source": [
    "# Normalization train on train set transform both\n",
    "scaler = preprocessing.StandardScaler().fit(data_normal)\n",
    "data_train_scaled = scaler.transform(data_normal)\n",
    "data_test_scaled = scaler.transform(data_slow) #"
   ],
   "metadata": {
    "collapsed": false,
    "pycharm": {
     "name": "#%%\n"
    }
   }
  },
  {
   "cell_type": "code",
   "execution_count": 9,
   "outputs": [
    {
     "name": "stdout",
     "output_type": "stream",
     "text": [
      "train data shape: (233742, 50, 86) \n",
      " test data shape: (41488, 50, 86) \n"
     ]
    }
   ],
   "source": [
    "#windows of 50 with stride 1\n",
    "width_window = 50\n",
    "data_train_all = np.array([data_train_scaled[i:i+width_window,:] for i in range(0, len(data_train_scaled)-width_window)])\n",
    "data_test_all = np.array([data_test_scaled[i:i+width_window,:] for i in range(0, len(data_test_scaled)-width_window)])\n",
    "print(f\"train data shape: {data_train_all.shape} \\n test data shape: {data_test_all.shape} \")"
   ],
   "metadata": {
    "collapsed": false,
    "pycharm": {
     "name": "#%%\n"
    }
   }
  },
  {
   "cell_type": "code",
   "execution_count": 10,
   "outputs": [
    {
     "name": "stdout",
     "output_type": "stream",
     "text": [
      "train data shape: (23374, 50, 86) \n",
      "test data shape: (4148, 50, 86) \n",
      "label shape: (4148, 1) \n",
      "\n",
      "test data prepared: (8296, 50, 86) \n",
      "label prepared: (8296, 1) \n",
      "\n",
      "data validation: (4675, 50, 86)\n"
     ]
    }
   ],
   "source": [
    "percentage = 0.10\n",
    "N = 2\n",
    "\n",
    "# take part of data to gather results faster\n",
    "data_train = data_train_all[0:int(percentage*data_train_all.shape[0]),:,:]\n",
    "data_test = data_test_all[0:int(percentage*data_test_all.shape[0]),:,:]\n",
    "\n",
    "# mixed test data 50-50\n",
    "data_test_mixed = np.zeros((2*data_test.shape[0], data_test.shape[1], data_test.shape[2]))\n",
    "data_test_mixed[0:int(data_test.shape[0]),:,:] += data_test\n",
    "data_test_mixed[int(data_test.shape[0]):,:,:] += data_train[-int(data_test.shape[0]):,:,:]\n",
    "\n",
    "# set labels\n",
    "label_test = label_slow[0:data_test.shape[0]]\n",
    "label_test_mixed = np.zeros((data_test_mixed.shape[0], 1))\n",
    "label_test_mixed[0:label_test.shape[0]] += label_test\n",
    "\n",
    "# Validation data\n",
    "data_validation = data_train_all[int(percentage*data_train_all.shape[0]*N): int(percentage*data_train_all.shape[0]*(N+0.2)),:,:]\n",
    "\n",
    "\n",
    "print(f\"train data shape: {data_train.shape} \\ntest data shape: {data_test.shape} \\nlabel shape: {label_test.shape} \\n\\ntest data prepared: {data_test_mixed.shape} \\nlabel prepared: {label_test_mixed.shape} \\n\\ndata validation: {data_validation.shape}\")"
   ],
   "metadata": {
    "collapsed": false,
    "pycharm": {
     "name": "#%%\n"
    }
   }
  },
  {
   "cell_type": "code",
   "execution_count": 11,
   "outputs": [],
   "source": [
    "# Run if you want ram to free\n",
    "data_train_all = 0\n",
    "data_train_all = 0"
   ],
   "metadata": {
    "collapsed": false,
    "pycharm": {
     "name": "#%%\n"
    }
   }
  },
  {
   "cell_type": "markdown",
   "source": [
    "## Model"
   ],
   "metadata": {
    "collapsed": false
   }
  },
  {
   "cell_type": "code",
   "execution_count": 13,
   "outputs": [],
   "source": [
    "batch_size = 256\n",
    "comment = False\n",
    "\n",
    "train_dataset = tf.data.Dataset.from_tensor_slices(data_train)\n",
    "train_dataset = train_dataset.batch(batch_size)"
   ],
   "metadata": {
    "collapsed": false,
    "pycharm": {
     "name": "#%%\n"
    }
   }
  },
  {
   "cell_type": "code",
   "execution_count": 14,
   "outputs": [],
   "source": [
    "def make_encoder_model(z_size):\n",
    "    inputs = tf.keras.layers.Input(shape=(50, 86))\n",
    "    if comment is True : print(f\"encoder input: {inputs.shape}\")\n",
    "    x = tf.keras.layers.Conv1D(filters=128, kernel_size=7, strides=2, padding='same')(inputs)\n",
    "    x = tf.keras.layers.LeakyReLU(0.2)(x)\n",
    "    x = tf.keras.layers.Conv1D(filters=128, kernel_size=7, strides=2, padding='same')(x)\n",
    "    x = tf.keras.layers.BatchNormalization()(x)\n",
    "    x = tf.keras.layers.LeakyReLU(0.2)(x)\n",
    "    x = tf.keras.layers.Conv1D(filters=256, kernel_size=7, strides=2, padding='same')(x)\n",
    "    x = tf.keras.layers.BatchNormalization()(x)\n",
    "    x = tf.keras.layers.LeakyReLU(0.2)(x)\n",
    "    x = tf.keras.layers.Conv1D(filters=256, kernel_size=7, strides=2, padding='same')(x)\n",
    "    x = tf.keras.layers.BatchNormalization()(x)\n",
    "    x = tf.keras.layers.LeakyReLU(0.2)(x)\n",
    "    x = tf.keras.layers.Conv1D(filters=256, kernel_size=7, strides=2, padding='same')(x)\n",
    "    x = tf.keras.layers.BatchNormalization()(x)\n",
    "    x = tf.keras.layers.LeakyReLU(0.2)(x)\n",
    "    z = tf.keras.layers.Conv1D(filters=z_size, kernel_size=7, strides=2, padding='same')(x)\n",
    "    if comment is True : print(f\"endoder output: {z.shape}\")\n",
    "\n",
    "    model = tf.keras.Model(inputs=inputs, outputs=z)\n",
    "    return model\n",
    "\n",
    "def make_decoder_model(z_size):\n",
    "    encoded = tf.keras.Input(shape=(1, z_size))\n",
    "    if comment is True : print(f\"decoder input: {encoded.shape}\")\n",
    "\n",
    "    x = tf.keras.layers.Conv1D(256, kernel_size=7, padding='same', activation='relu')(encoded)\n",
    "    x = tf.keras.layers.UpSampling1D(2)(x)\n",
    "    x = tf.keras.layers.Conv1D(256, kernel_size=7, padding='same', activation='relu')(x)\n",
    "    x = tf.keras.layers.UpSampling1D(2)(x)\n",
    "    x = tf.keras.layers.Conv1D(256, kernel_size=7, padding='same', activation='relu')(x)\n",
    "    x = tf.keras.layers.UpSampling1D(2)(x)\n",
    "    x = tf.keras.layers.Conv1D(128, kernel_size=7, padding='same', activation='relu')(x)\n",
    "    x = tf.keras.layers.UpSampling1D(2)(x)\n",
    "    x = tf.keras.layers.Conv1D(128, kernel_size=7, padding='same', activation='relu')(x)\n",
    "    x = tf.keras.layers.UpSampling1D(2)(x)\n",
    "    x = tf.keras.layers.Conv1D(86, kernel_size=7, activation='relu')(x)\n",
    "    x = tf.keras.layers.UpSampling1D(2)(x)\n",
    "\n",
    "    reconstruction = tf.keras.layers.Conv1D(filters=86, kernel_size=3, activation='sigmoid')(x)\n",
    "    if comment is True : print(f\"decoder output: {reconstruction.shape}\")\n",
    "    decoder = tf.keras.Model(inputs=encoded, outputs=reconstruction)\n",
    "    return decoder\n",
    "\n",
    "def make_discriminator_model(z_size):\n",
    "    encoded = tf.keras.Input(shape=(1, z_size))\n",
    "    if comment is True : print(f\"discriminator input: {encoded.shape}\")\n",
    "    x = tf.keras.layers.Dense(128)(encoded)\n",
    "    x = tf.keras.layers.LeakyReLU(0.2)(x)\n",
    "    x = tf.keras.layers.Dense(128)(x)\n",
    "    x = tf.keras.layers.LeakyReLU(0.2)(x)\n",
    "    prediction = tf.keras.layers.Dense(1)(x)\n",
    "    if comment is True : print(f\"discriminator output: {prediction.shape}\")\n",
    "    model = tf.keras.Model(inputs=encoded, outputs=prediction)\n",
    "    return model"
   ],
   "metadata": {
    "collapsed": false,
    "pycharm": {
     "name": "#%%\n"
    }
   }
  },
  {
   "cell_type": "code",
   "execution_count": 22,
   "outputs": [],
   "source": [
    "z_dim = 512\n",
    "encoder = make_encoder_model(z_dim)\n",
    "decoder = make_decoder_model(z_dim)\n",
    "discriminator = make_discriminator_model(z_dim)"
   ],
   "metadata": {
    "collapsed": false,
    "pycharm": {
     "name": "#%%\n"
    }
   }
  },
  {
   "cell_type": "code",
   "execution_count": 23,
   "outputs": [],
   "source": [
    "# Define loss functions\n",
    "ae_loss_weight = 1.\n",
    "gen_loss_weight = 1.\n",
    "dc_loss_weight = 1.\n",
    "\n",
    "cross_entropy = tf.keras.losses.BinaryCrossentropy(from_logits=True)\n",
    "mse = tf.keras.losses.MeanSquaredError()\n",
    "accuracy = tf.keras.metrics.BinaryAccuracy()"
   ],
   "metadata": {
    "collapsed": false,
    "pycharm": {
     "name": "#%%\n"
    }
   }
  },
  {
   "cell_type": "code",
   "execution_count": 17,
   "outputs": [],
   "source": [
    "def autoencoder_loss(inputs, reconstruction, loss_weight):\n",
    "    return loss_weight * mse(inputs, reconstruction)\n",
    "\n",
    "\n",
    "def discriminator_loss(real_output, fake_output, loss_weight):\n",
    "    loss_real = cross_entropy(tf.ones_like(real_output), real_output)\n",
    "    loss_fake = cross_entropy(tf.zeros_like(fake_output), fake_output)\n",
    "    return loss_weight * (loss_fake + loss_real)\n",
    "\n",
    "\n",
    "def generator_loss(fake_output, loss_weight):\n",
    "    return loss_weight * cross_entropy(tf.ones_like(fake_output), fake_output)"
   ],
   "metadata": {
    "collapsed": false,
    "pycharm": {
     "name": "#%%\n"
    }
   }
  },
  {
   "cell_type": "code",
   "execution_count": 24,
   "outputs": [],
   "source": [
    "base_lr = 0.000001\n",
    "max_lr = 0.00001\n",
    "\n",
    "n_samples = data_train.shape[0]\n",
    "step_size = 2 * np.ceil(n_samples / batch_size)\n",
    "global_step = 0"
   ],
   "metadata": {
    "collapsed": false,
    "pycharm": {
     "name": "#%%\n"
    }
   }
  },
  {
   "cell_type": "code",
   "execution_count": 25,
   "outputs": [],
   "source": [
    "ae_optimizer = tf.keras.optimizers.Adam(learning_rate=base_lr)\n",
    "dc_optimizer = tf.keras.optimizers.Adam(learning_rate=base_lr)\n",
    "gen_optimizer = tf.keras.optimizers.Adam(learning_rate=base_lr)"
   ],
   "metadata": {
    "collapsed": false,
    "pycharm": {
     "name": "#%%\n"
    }
   }
  },
  {
   "cell_type": "code",
   "execution_count": 20,
   "outputs": [],
   "source": [
    "def train_step(batch_x):\n",
    "    # -------------------------------------------------------------------------------------------------------------\n",
    "    # Autoencoder\n",
    "    with tf.GradientTape() as ae_tape:\n",
    "        encoder_output = encoder(batch_x, training=True)\n",
    "        decoder_output = decoder(encoder_output, training=True)\n",
    "\n",
    "        if comment is True : print(f\"Train step: \\nbatch_x: {batch_x.shape}, decoder_output: {decoder_output.shape}\")\n",
    "        # Autoencoder loss\n",
    "        ae_loss = autoencoder_loss(batch_x, decoder_output, ae_loss_weight)\n",
    "\n",
    "    ae_grads = ae_tape.gradient(ae_loss, encoder.trainable_variables + decoder.trainable_variables)\n",
    "    ae_optimizer.apply_gradients(zip(ae_grads, encoder.trainable_variables + decoder.trainable_variables))\n",
    "\n",
    "    # -------------------------------------------------------------------------------------------------------------\n",
    "    # Discriminator\n",
    "    with tf.GradientTape() as dc_tape:\n",
    "        real_distribution = tf.random.normal([batch_x.shape[0], 1, z_dim], mean=0.0, stddev=1.0)\n",
    "        encoder_output = encoder(batch_x, training=True)\n",
    "\n",
    "        dc_real = discriminator(real_distribution, training=True)\n",
    "        dc_fake = discriminator(encoder_output, training=True)\n",
    "\n",
    "        # Discriminator Loss\n",
    "        dc_loss = discriminator_loss(dc_real, dc_fake, dc_loss_weight)\n",
    "\n",
    "        # Discriminator Acc\n",
    "        dc_acc = accuracy(tf.concat([tf.ones_like(dc_real), tf.zeros_like(dc_fake)], axis=0),\n",
    "                          tf.concat([dc_real, dc_fake], axis=0))\n",
    "\n",
    "    dc_grads = dc_tape.gradient(dc_loss, discriminator.trainable_variables)\n",
    "    dc_optimizer.apply_gradients(zip(dc_grads, discriminator.trainable_variables))\n",
    "\n",
    "    # -------------------------------------------------------------------------------------------------------------\n",
    "    # Generator (Encoder)\n",
    "    with tf.GradientTape() as gen_tape:\n",
    "        encoder_output = encoder(batch_x, training=True)\n",
    "        dc_fake = discriminator(encoder_output, training=True)\n",
    "\n",
    "        # Generator loss\n",
    "        gen_loss = generator_loss(dc_fake, gen_loss_weight)\n",
    "\n",
    "    gen_grads = gen_tape.gradient(gen_loss, encoder.trainable_variables)\n",
    "    gen_optimizer.apply_gradients(zip(gen_grads, encoder.trainable_variables))\n",
    "\n",
    "    return ae_loss, dc_loss, dc_acc, gen_loss"
   ],
   "metadata": {
    "collapsed": false,
    "pycharm": {
     "name": "#%%\n"
    }
   }
  },
  {
   "cell_type": "code",
   "execution_count": 26,
   "outputs": [
    {
     "name": "stdout",
     "output_type": "stream",
     "text": [
      "   1: TIME: 60.63 ETA: 6063.18 AE_LOSS: 1.4257 DC_LOSS: 1.5954 DC_ACC: 0.6305 GEN_LOSS: 0.3754\n",
      "Mean cost of test: 0.740725576877594\n",
      "Mean cost of validation: 0.7859328985214233\n",
      "   2: TIME: 58.77 ETA: 5818.26 AE_LOSS: 1.3328 DC_LOSS: 3.1758 DC_ACC: 0.4694 GEN_LOSS: 0.0758\n",
      "Mean cost of test: 0.6677078604698181\n",
      "Mean cost of validation: 0.7268118262290955\n",
      "   3: TIME: 60.03 ETA: 5883.04 AE_LOSS: 1.1446 DC_LOSS: 3.3890 DC_ACC: 0.4279 GEN_LOSS: 0.0544\n",
      "Mean cost of test: 0.6200154423713684\n",
      "Mean cost of validation: 0.6796141862869263\n",
      "   4: TIME: 61.06 ETA: 5923.12 AE_LOSS: 1.0968 DC_LOSS: 3.2127 DC_ACC: 0.4063 GEN_LOSS: 0.0642\n",
      "Mean cost of test: 0.6005900502204895\n",
      "Mean cost of validation: 0.6615731120109558\n",
      "   5: TIME: 60.51 ETA: 5809.13 AE_LOSS: 1.0779 DC_LOSS: 3.1639 DC_ACC: 0.3932 GEN_LOSS: 0.0675\n",
      "Mean cost of test: 0.5873546004295349\n",
      "Mean cost of validation: 0.649929404258728\n",
      "   6: TIME: 58.91 ETA: 5596.63 AE_LOSS: 1.0638 DC_LOSS: 3.0593 DC_ACC: 0.3833 GEN_LOSS: 0.0777\n",
      "Mean cost of test: 0.5835732817649841\n",
      "Mean cost of validation: 0.6417909860610962\n",
      "   7: TIME: 60.48 ETA: 5684.85 AE_LOSS: 1.0626 DC_LOSS: 2.9795 DC_ACC: 0.3755 GEN_LOSS: 0.0851\n",
      "Mean cost of test: 0.579208493232727\n",
      "Mean cost of validation: 0.6423081159591675\n",
      "   8: TIME: 60.41 ETA: 5618.49 AE_LOSS: 1.0601 DC_LOSS: 2.8751 DC_ACC: 0.3687 GEN_LOSS: 0.0928\n",
      "Mean cost of test: 0.578934907913208\n",
      "Mean cost of validation: 0.6423338651657104\n",
      "   9: TIME: 62.41 ETA: 5742.13 AE_LOSS: 1.0589 DC_LOSS: 2.8087 DC_ACC: 0.3638 GEN_LOSS: 0.0992\n",
      "Mean cost of test: 0.5832829475402832\n",
      "Mean cost of validation: 0.6408493518829346\n",
      "  10: TIME: 63.07 ETA: 5738.92 AE_LOSS: 1.0601 DC_LOSS: 2.6912 DC_ACC: 0.3603 GEN_LOSS: 0.1130\n",
      "Mean cost of test: 0.5855571627616882\n",
      "Mean cost of validation: 0.6438406109809875\n",
      "  11: TIME: 62.14 ETA: 5592.42 AE_LOSS: 1.0605 DC_LOSS: 2.4901 DC_ACC: 0.3582 GEN_LOSS: 0.1383\n",
      "Mean cost of test: 0.5845761895179749\n",
      "Mean cost of validation: 0.645092248916626\n",
      "  12: TIME: 62.58 ETA: 5569.65 AE_LOSS: 1.0589 DC_LOSS: 2.3260 DC_ACC: 0.3571 GEN_LOSS: 0.1594\n",
      "Mean cost of test: 0.5822466015815735\n",
      "Mean cost of validation: 0.6427460312843323\n",
      "  13: TIME: 63.35 ETA: 5574.52 AE_LOSS: 1.0573 DC_LOSS: 2.2535 DC_ACC: 0.3566 GEN_LOSS: 0.1705\n",
      "Mean cost of test: 0.5872791409492493\n",
      "Mean cost of validation: 0.6413136720657349\n",
      "  14: TIME: 62.79 ETA: 5462.86 AE_LOSS: 1.0581 DC_LOSS: 2.1709 DC_ACC: 0.3565 GEN_LOSS: 0.1871\n",
      "Mean cost of test: 0.5933070778846741\n",
      "Mean cost of validation: 0.6461805701255798\n",
      "  15: TIME: 61.60 ETA: 5297.26 AE_LOSS: 1.0584 DC_LOSS: 2.0898 DC_ACC: 0.3574 GEN_LOSS: 0.2002\n",
      "Mean cost of test: 0.5932601690292358\n",
      "Mean cost of validation: 0.6477524042129517\n",
      "  16: TIME: 61.18 ETA: 5200.58 AE_LOSS: 1.0572 DC_LOSS: 2.1078 DC_ACC: 0.3588 GEN_LOSS: 0.1926\n",
      "Mean cost of test: 0.5863921046257019\n",
      "Mean cost of validation: 0.6427955031394958\n",
      "  17: TIME: 61.33 ETA: 5151.81 AE_LOSS: 1.0558 DC_LOSS: 2.1084 DC_ACC: 0.3603 GEN_LOSS: 0.1907\n",
      "Mean cost of test: 0.5934812426567078\n",
      "Mean cost of validation: 0.6456964015960693\n",
      "  18: TIME: 62.40 ETA: 5179.58 AE_LOSS: 1.0564 DC_LOSS: 2.1716 DC_ACC: 0.3619 GEN_LOSS: 0.1803\n",
      "Mean cost of test: 0.5938229560852051\n",
      "Mean cost of validation: 0.6455698013305664\n",
      "  19: TIME: 61.28 ETA: 5024.69 AE_LOSS: 1.0568 DC_LOSS: 2.0996 DC_ACC: 0.3635 GEN_LOSS: 0.1930\n",
      "Mean cost of test: 0.5945916175842285\n",
      "Mean cost of validation: 0.6477717757225037\n",
      "  20: TIME: 61.12 ETA: 4950.46 AE_LOSS: 1.0556 DC_LOSS: 2.1317 DC_ACC: 0.3651 GEN_LOSS: 0.1858\n",
      "Mean cost of test: 0.5872507691383362\n",
      "Mean cost of validation: 0.6425688862800598\n",
      "  21: TIME: 61.60 ETA: 4927.66 AE_LOSS: 1.0542 DC_LOSS: 2.2449 DC_ACC: 0.3666 GEN_LOSS: 0.1672\n",
      "Mean cost of test: 0.5914242267608643\n",
      "Mean cost of validation: 0.6437159776687622\n",
      "  22: TIME: 61.52 ETA: 4860.40 AE_LOSS: 1.0544 DC_LOSS: 2.5734 DC_ACC: 0.3680 GEN_LOSS: 0.1211\n",
      "Mean cost of test: 0.5861856937408447\n",
      "Mean cost of validation: 0.6397297978401184\n",
      "  23: TIME: 62.53 ETA: 4877.47 AE_LOSS: 1.0527 DC_LOSS: 2.7218 DC_ACC: 0.3694 GEN_LOSS: 0.1018\n",
      "Mean cost of test: 0.5795297622680664\n",
      "Mean cost of validation: 0.6368227005004883\n",
      "  24: TIME: 61.50 ETA: 4735.41 AE_LOSS: 1.0498 DC_LOSS: 2.7126 DC_ACC: 0.3705 GEN_LOSS: 0.1016\n",
      "Mean cost of test: 0.5731597542762756\n",
      "Mean cost of validation: 0.6327349543571472\n",
      "  25: TIME: 62.97 ETA: 4786.07 AE_LOSS: 1.0480 DC_LOSS: 2.7881 DC_ACC: 0.3714 GEN_LOSS: 0.0945\n",
      "Mean cost of test: 0.575718879699707\n",
      "Mean cost of validation: 0.6316565275192261\n",
      "  26: TIME: 62.43 ETA: 4682.40 AE_LOSS: 1.0473 DC_LOSS: 3.0305 DC_ACC: 0.3722 GEN_LOSS: 0.0743\n",
      "Mean cost of test: 0.5740196108818054\n",
      "Mean cost of validation: 0.6308332681655884\n",
      "  27: TIME: 61.73 ETA: 4568.36 AE_LOSS: 1.0464 DC_LOSS: 3.3858 DC_ACC: 0.3729 GEN_LOSS: 0.0532\n",
      "Mean cost of test: 0.5695785284042358\n",
      "Mean cost of validation: 0.6297111511230469\n",
      "  28: TIME: 63.24 ETA: 4616.23 AE_LOSS: 1.0445 DC_LOSS: 3.6180 DC_ACC: 0.3732 GEN_LOSS: 0.0420\n",
      "Mean cost of test: 0.5660260319709778\n",
      "Mean cost of validation: 0.6280991435050964\n",
      "  29: TIME: 62.48 ETA: 4498.48 AE_LOSS: 1.0422 DC_LOSS: 3.8493 DC_ACC: 0.3734 GEN_LOSS: 0.0344\n",
      "Mean cost of test: 0.5685750246047974\n",
      "Mean cost of validation: 0.6255480051040649\n",
      "  30: TIME: 62.94 ETA: 4468.71 AE_LOSS: 1.0385 DC_LOSS: 4.1885 DC_ACC: 0.3734 GEN_LOSS: 0.0264\n",
      "Mean cost of test: 0.5664264559745789\n",
      "Mean cost of validation: 0.6191899180412292\n",
      "  31: TIME: 63.16 ETA: 4421.36 AE_LOSS: 1.0322 DC_LOSS: 4.4669 DC_ACC: 0.3730 GEN_LOSS: 0.0201\n",
      "Mean cost of test: 0.5588033199310303\n",
      "Mean cost of validation: 0.616551399230957\n",
      "  32: TIME: 62.09 ETA: 4284.14 AE_LOSS: 1.0264 DC_LOSS: 4.6460 DC_ACC: 0.3722 GEN_LOSS: 0.0163\n",
      "Mean cost of test: 0.5535739660263062\n",
      "Mean cost of validation: 0.6131547689437866\n",
      "  33: TIME: 62.20 ETA: 4229.81 AE_LOSS: 1.0228 DC_LOSS: 4.7168 DC_ACC: 0.3712 GEN_LOSS: 0.0152\n",
      "Mean cost of test: 0.5572162866592407\n",
      "Mean cost of validation: 0.6090524792671204\n",
      "  34: TIME: 61.76 ETA: 4137.66 AE_LOSS: 1.0206 DC_LOSS: 4.9310 DC_ACC: 0.3698 GEN_LOSS: 0.0132\n",
      "Mean cost of test: 0.5630931258201599\n",
      "Mean cost of validation: 0.6043262481689453\n",
      "  35: TIME: 62.35 ETA: 4114.77 AE_LOSS: 1.0155 DC_LOSS: 4.8688 DC_ACC: 0.3677 GEN_LOSS: 0.0143\n",
      "Mean cost of test: 0.5603032112121582\n",
      "Mean cost of validation: 0.602947473526001\n",
      "  36: TIME: 61.36 ETA: 3988.56 AE_LOSS: 1.0120 DC_LOSS: 4.7648 DC_ACC: 0.3647 GEN_LOSS: 0.0160\n",
      "Mean cost of test: 0.5569615364074707\n",
      "Mean cost of validation: 0.6033419966697693\n",
      "  37: TIME: 61.19 ETA: 3916.35 AE_LOSS: 1.0099 DC_LOSS: 4.6960 DC_ACC: 0.3612 GEN_LOSS: 0.0172\n",
      "Mean cost of test: 0.5605222582817078\n",
      "Mean cost of validation: 0.6016810536384583\n",
      "  38: TIME: 61.03 ETA: 3844.87 AE_LOSS: 1.0098 DC_LOSS: 4.5608 DC_ACC: 0.3574 GEN_LOSS: 0.0210\n",
      "Mean cost of test: 0.5630855560302734\n",
      "Mean cost of validation: 0.6019484400749207\n",
      "  39: TIME: 60.81 ETA: 3770.28 AE_LOSS: 1.0098 DC_LOSS: 4.2031 DC_ACC: 0.3526 GEN_LOSS: 0.0319\n",
      "Mean cost of test: 0.5594385266304016\n",
      "Mean cost of validation: 0.6033585667610168\n",
      "  40: TIME: 60.89 ETA: 3714.47 AE_LOSS: 1.0078 DC_LOSS: 4.1274 DC_ACC: 0.3471 GEN_LOSS: 0.0345\n",
      "Mean cost of test: 0.556922197341919\n",
      "Mean cost of validation: 0.6036428809165955\n",
      "  41: TIME: 60.94 ETA: 3656.42 AE_LOSS: 1.0063 DC_LOSS: 4.1030 DC_ACC: 0.3414 GEN_LOSS: 0.0358\n",
      "Mean cost of test: 0.5600370764732361\n",
      "Mean cost of validation: 0.6032500863075256\n",
      "  42: TIME: 61.04 ETA: 3601.18 AE_LOSS: 1.0064 DC_LOSS: 4.1091 DC_ACC: 0.3356 GEN_LOSS: 0.0369\n",
      "Mean cost of test: 0.5625144839286804\n",
      "Mean cost of validation: 0.6040179133415222\n",
      "  43: TIME: 61.00 ETA: 3537.71 AE_LOSS: 1.0067 DC_LOSS: 4.0189 DC_ACC: 0.3298 GEN_LOSS: 0.0413\n",
      "Mean cost of test: 0.5595597624778748\n",
      "Mean cost of validation: 0.6051862835884094\n",
      "  44: TIME: 61.02 ETA: 3478.07 AE_LOSS: 1.0047 DC_LOSS: 3.9542 DC_ACC: 0.3241 GEN_LOSS: 0.0437\n",
      "Mean cost of test: 0.5581857562065125\n",
      "Mean cost of validation: 0.6059121489524841\n",
      "  45: TIME: 61.47 ETA: 3442.26 AE_LOSS: 1.0027 DC_LOSS: 3.8963 DC_ACC: 0.3185 GEN_LOSS: 0.0465\n",
      "Mean cost of test: 0.5607700943946838\n",
      "Mean cost of validation: 0.6046646237373352\n",
      "  46: TIME: 61.40 ETA: 3377.09 AE_LOSS: 1.0025 DC_LOSS: 3.8390 DC_ACC: 0.3131 GEN_LOSS: 0.0495\n",
      "Mean cost of test: 0.562394380569458\n",
      "Mean cost of validation: 0.6040805578231812\n",
      "  47: TIME: 61.32 ETA: 3311.45 AE_LOSS: 1.0029 DC_LOSS: 3.7167 DC_ACC: 0.3080 GEN_LOSS: 0.0558\n",
      "Mean cost of test: 0.5589487552642822\n",
      "Mean cost of validation: 0.6062686443328857\n",
      "  48: TIME: 62.95 ETA: 3336.23 AE_LOSS: 1.0014 DC_LOSS: 3.6066 DC_ACC: 0.3031 GEN_LOSS: 0.0611\n",
      "Mean cost of test: 0.5574276447296143\n",
      "Mean cost of validation: 0.6079525947570801\n",
      "  49: TIME: 62.93 ETA: 3272.25 AE_LOSS: 0.9999 DC_LOSS: 3.5485 DC_ACC: 0.2983 GEN_LOSS: 0.0648\n",
      "Mean cost of test: 0.5607981085777283\n",
      "Mean cost of validation: 0.6075732111930847\n",
      "  50: TIME: 62.84 ETA: 3204.77 AE_LOSS: 1.0000 DC_LOSS: 3.4558 DC_ACC: 0.2939 GEN_LOSS: 0.0713\n",
      "Mean cost of test: 0.5628066658973694\n",
      "Mean cost of validation: 0.6088606715202332\n",
      "  51: TIME: 62.90 ETA: 3144.85 AE_LOSS: 0.9828 DC_LOSS: 3.3354 DC_ACC: 0.2897 GEN_LOSS: 0.0806\n",
      "Mean cost of test: 0.556728720664978\n",
      "Mean cost of validation: 0.5968749523162842\n",
      "  52: TIME: 62.76 ETA: 3075.06 AE_LOSS: 0.9729 DC_LOSS: 3.3027 DC_ACC: 0.2856 GEN_LOSS: 0.0833\n",
      "Mean cost of test: 0.5562587976455688\n",
      "Mean cost of validation: 0.5995891094207764\n",
      "  53: TIME: 62.87 ETA: 3017.86 AE_LOSS: 0.9709 DC_LOSS: 3.3149 DC_ACC: 0.2818 GEN_LOSS: 0.0825\n",
      "Mean cost of test: 0.5611187815666199\n",
      "Mean cost of validation: 0.5997933745384216\n",
      "  54: TIME: 62.83 ETA: 2952.91 AE_LOSS: 0.9708 DC_LOSS: 3.4219 DC_ACC: 0.2781 GEN_LOSS: 0.0749\n",
      "Mean cost of test: 0.5648171305656433\n",
      "Mean cost of validation: 0.5999038219451904\n",
      "  55: TIME: 62.70 ETA: 2884.14 AE_LOSS: 0.9705 DC_LOSS: 3.5206 DC_ACC: 0.2744 GEN_LOSS: 0.0679\n",
      "Mean cost of test: 0.5592640042304993\n",
      "Mean cost of validation: 0.6007428169250488\n",
      "  56: TIME: 62.80 ETA: 2825.93 AE_LOSS: 0.9692 DC_LOSS: 3.5176 DC_ACC: 0.2708 GEN_LOSS: 0.0680\n",
      "Mean cost of test: 0.5581235885620117\n",
      "Mean cost of validation: 0.6006806492805481\n",
      "  57: TIME: 62.74 ETA: 2760.36 AE_LOSS: 0.9678 DC_LOSS: 3.5092 DC_ACC: 0.2673 GEN_LOSS: 0.0690\n",
      "Mean cost of test: 0.5614358186721802\n",
      "Mean cost of validation: 0.5986884236335754\n",
      "  58: TIME: 62.65 ETA: 2693.80 AE_LOSS: 0.9682 DC_LOSS: 3.4851 DC_ACC: 0.2638 GEN_LOSS: 0.0725\n",
      "Mean cost of test: 0.5616530776023865\n",
      "Mean cost of validation: 0.5962455868721008\n",
      "  59: TIME: 62.81 ETA: 2638.02 AE_LOSS: 0.9685 DC_LOSS: 3.4764 DC_ACC: 0.2603 GEN_LOSS: 0.0751\n",
      "Mean cost of test: 0.5572803020477295\n",
      "Mean cost of validation: 0.5976713299751282\n",
      "  60: TIME: 62.70 ETA: 2570.81 AE_LOSS: 0.9678 DC_LOSS: 3.5097 DC_ACC: 0.2567 GEN_LOSS: 0.0732\n",
      "Mean cost of test: 0.5569761395454407\n",
      "Mean cost of validation: 0.5976946353912354\n",
      "learning rate changed!\n",
      "  61: TIME: 62.78 ETA: 2511.34 AE_LOSS: 0.9665 DC_LOSS: 3.5218 DC_ACC: 0.2531 GEN_LOSS: 0.0728\n",
      "Mean cost of test: 0.5596117973327637\n",
      "Mean cost of validation: 0.5966928005218506\n",
      "  62: TIME: 62.79 ETA: 2448.80 AE_LOSS: 0.9676 DC_LOSS: 3.5448 DC_ACC: 0.2496 GEN_LOSS: 0.0717\n",
      "Mean cost of test: 0.5580597519874573\n",
      "Mean cost of validation: 0.5982872247695923\n",
      "  63: TIME: 62.65 ETA: 2380.60 AE_LOSS: 0.9660 DC_LOSS: 3.5550 DC_ACC: 0.2462 GEN_LOSS: 0.0716\n",
      "Mean cost of test: 0.5614997148513794\n",
      "Mean cost of validation: 0.5975202322006226\n",
      "  64: TIME: 62.70 ETA: 2319.80 AE_LOSS: 0.9674 DC_LOSS: 3.5863 DC_ACC: 0.2428 GEN_LOSS: 0.0699\n",
      "Mean cost of test: 0.5591034293174744\n",
      "Mean cost of validation: 0.599059522151947\n",
      "  65: TIME: 62.73 ETA: 2258.21 AE_LOSS: 0.9658 DC_LOSS: 3.6114 DC_ACC: 0.2395 GEN_LOSS: 0.0687\n",
      "Mean cost of test: 0.562972903251648\n",
      "Mean cost of validation: 0.598365843296051\n",
      "  66: TIME: 62.54 ETA: 2188.87 AE_LOSS: 0.9673 DC_LOSS: 3.6798 DC_ACC: 0.2363 GEN_LOSS: 0.0651\n",
      "Mean cost of test: 0.5603519082069397\n",
      "Mean cost of validation: 0.5996406078338623\n",
      "  67: TIME: 62.48 ETA: 2124.38 AE_LOSS: 0.9657 DC_LOSS: 3.7103 DC_ACC: 0.2331 GEN_LOSS: 0.0633\n",
      "Mean cost of test: 0.5640389919281006\n",
      "Mean cost of validation: 0.5988478064537048\n",
      "  68: TIME: 63.65 ETA: 2100.39 AE_LOSS: 0.9672 DC_LOSS: 3.7716 DC_ACC: 0.2300 GEN_LOSS: 0.0599\n",
      "Mean cost of test: 0.5612436532974243\n",
      "Mean cost of validation: 0.6000238656997681\n",
      "  69: TIME: 65.09 ETA: 2082.82 AE_LOSS: 0.9655 DC_LOSS: 3.7963 DC_ACC: 0.2269 GEN_LOSS: 0.0586\n",
      "Mean cost of test: 0.56541907787323\n",
      "Mean cost of validation: 0.5996788144111633\n",
      "  70: TIME: 62.81 ETA: 1947.19 AE_LOSS: 0.9670 DC_LOSS: 3.8370 DC_ACC: 0.2239 GEN_LOSS: 0.0567\n",
      "Mean cost of test: 0.5624842643737793\n",
      "Mean cost of validation: 0.6009433269500732\n",
      "  71: TIME: 62.35 ETA: 1870.58 AE_LOSS: 0.9653 DC_LOSS: 3.8518 DC_ACC: 0.2209 GEN_LOSS: 0.0563\n",
      "Mean cost of test: 0.5673774480819702\n",
      "Mean cost of validation: 0.6013137698173523\n",
      "  72: TIME: 61.93 ETA: 1796.09 AE_LOSS: 0.9663 DC_LOSS: 3.8834 DC_ACC: 0.2180 GEN_LOSS: 0.0551\n",
      "Mean cost of test: 0.5650865435600281\n",
      "Mean cost of validation: 0.6033989191055298\n",
      "  73: TIME: 62.21 ETA: 1741.88 AE_LOSS: 0.9637 DC_LOSS: 3.8764 DC_ACC: 0.2152 GEN_LOSS: 0.0555\n",
      "Mean cost of test: 0.5699964761734009\n",
      "Mean cost of validation: 0.6033592820167542\n",
      "  74: TIME: 61.30 ETA: 1655.18 AE_LOSS: 0.9647 DC_LOSS: 3.8773 DC_ACC: 0.2124 GEN_LOSS: 0.0560\n",
      "Mean cost of test: 0.5657603144645691\n",
      "Mean cost of validation: 0.6047312021255493\n",
      "  75: TIME: 61.62 ETA: 1602.09 AE_LOSS: 0.9628 DC_LOSS: 3.8560 DC_ACC: 0.2097 GEN_LOSS: 0.0571\n",
      "Mean cost of test: 0.5706339478492737\n",
      "Mean cost of validation: 0.6048948168754578\n",
      "  76: TIME: 61.61 ETA: 1540.32 AE_LOSS: 0.9643 DC_LOSS: 3.8375 DC_ACC: 0.2070 GEN_LOSS: 0.0584\n",
      "Mean cost of test: 0.5668838024139404\n",
      "Mean cost of validation: 0.6063440442085266\n",
      "  77: TIME: 61.87 ETA: 1484.99 AE_LOSS: 0.9625 DC_LOSS: 3.8266 DC_ACC: 0.2044 GEN_LOSS: 0.0591\n",
      "Mean cost of test: 0.5715469121932983\n",
      "Mean cost of validation: 0.6065422892570496\n",
      "  78: TIME: 61.44 ETA: 1413.07 AE_LOSS: 0.9640 DC_LOSS: 3.8377 DC_ACC: 0.2018 GEN_LOSS: 0.0585\n",
      "Mean cost of test: 0.5675980448722839\n",
      "Mean cost of validation: 0.607312798500061\n",
      "  79: TIME: 62.31 ETA: 1370.89 AE_LOSS: 0.9623 DC_LOSS: 3.8417 DC_ACC: 0.1993 GEN_LOSS: 0.0582\n",
      "Mean cost of test: 0.5713140368461609\n",
      "Mean cost of validation: 0.606514573097229\n",
      "  80: TIME: 61.70 ETA: 1295.62 AE_LOSS: 0.9636 DC_LOSS: 3.8517 DC_ACC: 0.1969 GEN_LOSS: 0.0577\n",
      "Mean cost of test: 0.5665065050125122\n",
      "Mean cost of validation: 0.6060154438018799\n",
      "  81: TIME: 63.41 ETA: 1268.14 AE_LOSS: 0.9618 DC_LOSS: 3.8339 DC_ACC: 0.1945 GEN_LOSS: 0.0589\n",
      "Mean cost of test: 0.570514976978302\n",
      "Mean cost of validation: 0.6057504415512085\n",
      "  82: TIME: 62.00 ETA: 1178.03 AE_LOSS: 0.9631 DC_LOSS: 3.7844 DC_ACC: 0.1922 GEN_LOSS: 0.0618\n",
      "Mean cost of test: 0.5661345720291138\n",
      "Mean cost of validation: 0.6055510640144348\n",
      "  83: TIME: 61.60 ETA: 1108.72 AE_LOSS: 0.9614 DC_LOSS: 3.7455 DC_ACC: 0.1899 GEN_LOSS: 0.0645\n",
      "Mean cost of test: 0.5696808695793152\n",
      "Mean cost of validation: 0.6045843362808228\n",
      "  84: TIME: 62.67 ETA: 1065.43 AE_LOSS: 0.9628 DC_LOSS: 3.6677 DC_ACC: 0.1877 GEN_LOSS: 0.0698\n",
      "Mean cost of test: 0.5650013089179993\n",
      "Mean cost of validation: 0.6041305065155029\n",
      "  85: TIME: 62.09 ETA: 993.43 AE_LOSS: 0.9610 DC_LOSS: 3.6145 DC_ACC: 0.1855 GEN_LOSS: 0.0738\n",
      "Mean cost of test: 0.5688594579696655\n",
      "Mean cost of validation: 0.6031933426856995\n",
      "  86: TIME: 64.56 ETA: 968.43 AE_LOSS: 0.9625 DC_LOSS: 3.5163 DC_ACC: 0.1834 GEN_LOSS: 0.0813\n",
      "Mean cost of test: 0.5640516877174377\n",
      "Mean cost of validation: 0.6028013229370117\n",
      "  87: TIME: 63.15 ETA: 884.17 AE_LOSS: 0.9608 DC_LOSS: 3.4558 DC_ACC: 0.1813 GEN_LOSS: 0.0864\n",
      "Mean cost of test: 0.5673800110816956\n",
      "Mean cost of validation: 0.6010524034500122\n",
      "  88: TIME: 61.93 ETA: 805.09 AE_LOSS: 0.9623 DC_LOSS: 3.3704 DC_ACC: 0.1792 GEN_LOSS: 0.0945\n",
      "Mean cost of test: 0.5624278783798218\n",
      "Mean cost of validation: 0.6009690761566162\n",
      "  89: TIME: 61.29 ETA: 735.52 AE_LOSS: 0.9606 DC_LOSS: 3.3396 DC_ACC: 0.1773 GEN_LOSS: 0.0975\n",
      "Mean cost of test: 0.5642804503440857\n",
      "Mean cost of validation: 0.5977187752723694\n",
      "  90: TIME: 61.14 ETA: 672.50 AE_LOSS: 0.9621 DC_LOSS: 3.3308 DC_ACC: 0.1753 GEN_LOSS: 0.0985\n",
      "Mean cost of test: 0.5594062805175781\n",
      "Mean cost of validation: 0.5984053015708923\n",
      "  91: TIME: 61.07 ETA: 610.66 AE_LOSS: 0.9604 DC_LOSS: 3.3340 DC_ACC: 0.1734 GEN_LOSS: 0.0986\n",
      "Mean cost of test: 0.5629631280899048\n",
      "Mean cost of validation: 0.5967249274253845\n",
      "  92: TIME: 61.58 ETA: 554.21 AE_LOSS: 0.9618 DC_LOSS: 3.3256 DC_ACC: 0.1716 GEN_LOSS: 0.0996\n",
      "Mean cost of test: 0.5577781796455383\n",
      "Mean cost of validation: 0.5965485572814941\n",
      "  93: TIME: 62.11 ETA: 496.92 AE_LOSS: 0.9601 DC_LOSS: 3.3141 DC_ACC: 0.1698 GEN_LOSS: 0.1013\n",
      "Mean cost of test: 0.5602631568908691\n",
      "Mean cost of validation: 0.5940384268760681\n",
      "  94: TIME: 62.20 ETA: 435.37 AE_LOSS: 0.9614 DC_LOSS: 3.2817 DC_ACC: 0.1680 GEN_LOSS: 0.1055\n",
      "Mean cost of test: 0.5553944110870361\n",
      "Mean cost of validation: 0.5946706533432007\n",
      "  95: TIME: 62.17 ETA: 373.03 AE_LOSS: 0.9596 DC_LOSS: 3.2581 DC_ACC: 0.1662 GEN_LOSS: 0.1085\n",
      "Mean cost of test: 0.5583354830741882\n",
      "Mean cost of validation: 0.5924339294433594\n",
      "  96: TIME: 61.96 ETA: 309.78 AE_LOSS: 0.9611 DC_LOSS: 3.2333 DC_ACC: 0.1645 GEN_LOSS: 0.1118\n",
      "Mean cost of test: 0.5554702281951904\n",
      "Mean cost of validation: 0.5944184064865112\n",
      "  97: TIME: 62.03 ETA: 248.13 AE_LOSS: 0.9593 DC_LOSS: 3.2440 DC_ACC: 0.1629 GEN_LOSS: 0.1111\n",
      "Mean cost of test: 0.5593502521514893\n",
      "Mean cost of validation: 0.5933098793029785\n",
      "  98: TIME: 61.82 ETA: 185.45 AE_LOSS: 0.9609 DC_LOSS: 3.2866 DC_ACC: 0.1612 GEN_LOSS: 0.1075\n",
      "Mean cost of test: 0.5564454197883606\n",
      "Mean cost of validation: 0.5960063934326172\n",
      "  99: TIME: 62.17 ETA: 124.33 AE_LOSS: 0.9592 DC_LOSS: 3.3180 DC_ACC: 0.1596 GEN_LOSS: 0.1052\n",
      "Mean cost of test: 0.5607427358627319\n",
      "Mean cost of validation: 0.595943033695221\n",
      " 100: TIME: 62.37 ETA: 62.37 AE_LOSS: 0.9608 DC_LOSS: 3.3782 DC_ACC: 0.1581 GEN_LOSS: 0.1008\n",
      "Mean cost of test: 0.5570043325424194\n",
      "Mean cost of validation: 0.5979198813438416\n"
     ]
    }
   ],
   "source": [
    "n_epochs = 100\n",
    "train_autoencoder_loss = []\n",
    "train_generator_loss = []\n",
    "train_discriminator_loss = []\n",
    "train_discriminator_acc = []\n",
    "\n",
    "test_cost = []\n",
    "validation_cost = []\n",
    "for epoch in range(n_epochs):\n",
    "    start = time.time()\n",
    "\n",
    "    # Learning rate schedule\n",
    "    if epoch in [60, 100, 300]:\n",
    "        base_lr = base_lr / 2\n",
    "        max_lr = max_lr / 2\n",
    "        step_size = step_size / 2\n",
    "\n",
    "        print('learning rate changed!')\n",
    "\n",
    "    epoch_ae_loss_avg = tf.metrics.Mean()\n",
    "    epoch_dc_loss_avg = tf.metrics.Mean()\n",
    "    epoch_dc_acc_avg = tf.metrics.Mean()\n",
    "    epoch_gen_loss_avg = tf.metrics.Mean()\n",
    "    for batch, (batch_x) in enumerate(train_dataset):\n",
    "        # -------------------------------------------------------------------------------------------------------------\n",
    "        # Calculate cyclic learning rate\n",
    "        global_step = global_step + 1\n",
    "        cycle = np.floor(1 + global_step / (2 * step_size))\n",
    "        x_lr = np.abs(global_step / step_size - 2 * cycle + 1)\n",
    "        clr = base_lr + (max_lr - base_lr) * max(0, 1 - x_lr)\n",
    "        ae_optimizer.lr = clr\n",
    "        dc_optimizer.lr = clr\n",
    "        gen_optimizer.lr = clr\n",
    "\n",
    "        ae_loss, dc_loss, dc_acc, gen_loss = train_step(batch_x)\n",
    "\n",
    "        epoch_ae_loss_avg(ae_loss)\n",
    "        epoch_dc_loss_avg(dc_loss)\n",
    "        epoch_dc_acc_avg(dc_acc)\n",
    "        epoch_gen_loss_avg(gen_loss)\n",
    "\n",
    "    epoch_time = time.time() - start\n",
    "    print('{:4d}: TIME: {:.2f} ETA: {:.2f} AE_LOSS: {:.4f} DC_LOSS: {:.4f} DC_ACC: {:.4f} GEN_LOSS: {:.4f}' \\\n",
    "          .format(epoch+1, epoch_time,\n",
    "                  epoch_time * (n_epochs - epoch),\n",
    "                  epoch_ae_loss_avg.result(),\n",
    "                  epoch_dc_loss_avg.result(),\n",
    "                  epoch_dc_acc_avg.result(),\n",
    "                  epoch_gen_loss_avg.result()))\n",
    "    train_autoencoder_loss.append(epoch_ae_loss_avg.result())\n",
    "    train_generator_loss.append(epoch_gen_loss_avg.result())\n",
    "    train_discriminator_loss.append(epoch_dc_loss_avg.result())\n",
    "    train_discriminator_acc.append(epoch_dc_acc_avg.result())\n",
    "\n",
    "    # -------------------------------------------------------------------------------------------------------------\n",
    "    test_decoded = decoder(encoder(data_test, training=False), training=False)\n",
    "    cost_test = np.mean(np.abs(test_decoded - data_test), axis=1)\n",
    "    test_cost.append(cost_test)\n",
    "    print(f\"Mean cost of test: {np.mean(cost_test)}\")\n",
    "\n",
    "    val_decoded = decoder(encoder(data_validation, training=False), training=False)\n",
    "    cost_val = np.mean(np.abs(val_decoded - data_validation), axis=1)\n",
    "    validation_cost.append(cost_val)\n",
    "    print(f\"Mean cost of validation: {np.mean(cost_val)}\")\n",
    "    \"\"\"\n",
    "    # -------------------------------------------------------------------------------------------------------------\n",
    "    if epoch % 10 == 0:\n",
    "        # Latent Space\n",
    "        x_test_encoded = encoder(data_test, training=False)\n",
    "        label_list = list(label_test)\n",
    "\n",
    "        fig = plt.figure()\n",
    "        classes = set(label_list)\n",
    "        colormap = plt.cm.rainbow(np.linspace(0, 1, len(classes)))\n",
    "        kwargs = {'alpha': 0.8, 'c': [colormap[i] for i in label_list]}\n",
    "        ax = plt.subplot(111, aspect='equal')\n",
    "        box = ax.get_position()\n",
    "        ax.set_position([box.x0, box.y0, box.width * 0.8, box.height])\n",
    "        handles = [mpatches.Circle((0, 0), label=class_, color=colormap[i])\n",
    "                   for i, class_ in enumerate(classes)]\n",
    "        ax.legend(handles=handles, shadow=True, bbox_to_anchor=(1.05, 0.45),\n",
    "                  fancybox=True, loc='center left')\n",
    "        plt.scatter(x_test_encoded[:, :, :, 0], x_test_encoded[:, :, :, 1], s=2, **kwargs)\n",
    "        ax.set_xlim([-3, 3])\n",
    "        ax.set_ylim([-3, 3])\n",
    "\n",
    "        #plt.savefig(latent_space_dir / ('epoch_%d.png' % epoch))\n",
    "        plt.close('all')\n",
    "\n",
    "        # Reconstruction\n",
    "        n_digits = 20  # how many digits we will display\n",
    "        x_test_decoded = decoder(encoder(data_test[:n_digits], training=False), training=False)\n",
    "        x_test_decoded = np.reshape(x_test_decoded, [-1, 28, 28]) * 255\n",
    "        fig = plt.figure(figsize=(20, 4))\n",
    "        for i in range(n_digits):\n",
    "            # display original\n",
    "            ax = plt.subplot(2, n_digits, i + 1)\n",
    "            plt.imshow(data_test[i].reshape(28, 28))\n",
    "            plt.gray()\n",
    "            ax.get_xaxis().set_visible(False)\n",
    "            ax.get_yaxis().set_visible(False)\n",
    "\n",
    "            # display reconstruction\n",
    "            ax = plt.subplot(2, n_digits, i + 1 + n_digits)\n",
    "            plt.imshow(x_test_decoded[i])\n",
    "            plt.gray()\n",
    "            ax.get_xaxis().set_visible(False)\n",
    "            ax.get_yaxis().set_visible(False)\n",
    "\n",
    "        plt.savefig(reconstruction_dir / ('epoch_%d.png' % epoch))\n",
    "        plt.close('all')\n",
    "\n",
    "        # Sampling\n",
    "        x_points = np.linspace(-3, 3, 20).astype(np.float32)\n",
    "        y_points = np.linspace(-3, 3, 20).astype(np.float32)\n",
    "\n",
    "        nx, ny = len(x_points), len(y_points)\n",
    "        plt.subplot()\n",
    "        gs = gridspec.GridSpec(nx, ny, hspace=0.05, wspace=0.05)\n",
    "\n",
    "        for i, g in enumerate(gs):\n",
    "            z = np.concatenate(([x_points[int(i / ny)]], [y_points[int(i % nx)]]))\n",
    "            z = np.reshape(z, (1, 1, 1, 2))\n",
    "            x = decoder(z, training=False).numpy()\n",
    "            ax = plt.subplot(g)\n",
    "            img = np.array(x.tolist()).reshape(28, 28)\n",
    "            ax.imshow(img, cmap='gray')\n",
    "            ax.set_xticks([])\n",
    "            ax.set_yticks([])\n",
    "            ax.set_aspect('auto')\n",
    "        plt.savefig(sampling_dir / ('epoch_%d.png' % epoch))\n",
    "        plt.close('all')\n",
    "    \"\"\"\n"
   ],
   "metadata": {
    "collapsed": false,
    "pycharm": {
     "name": "#%%\n"
    }
   }
  },
  {
   "cell_type": "code",
   "execution_count": 27,
   "outputs": [
    {
     "data": {
      "text/plain": "<Figure size 640x480 with 1 Axes>",
      "image/png": "[encoded data removed]"
     },
     "metadata": {},
     "output_type": "display_data"
    }
   ],
   "source": [
    "plt.plot(train_autoencoder_loss, label=\"autoencoder\")\n",
    "plt.plot(train_generator_loss, label=\"generator\")\n",
    "plt.plot(train_discriminator_loss, label=\"discriminator\")\n",
    "plt.legend()\n",
    "plt.show()"
   ],
   "metadata": {
    "collapsed": false,
    "pycharm": {
     "name": "#%%\n"
    }
   }
  },
  {
   "cell_type": "code",
   "execution_count": 34,
   "outputs": [
    {
     "data": {
      "text/plain": "<Figure size 640x480 with 1 Axes>",
      "image/png": "[encoded data removed]"
     },
     "metadata": {},
     "output_type": "display_data"
    }
   ],
   "source": [
    "plt.plot(np.mean(test_cost, axis=0), label=\"test\")\n",
    "plt.plot(np.mean(validation_cost, axis=0), label=\"validation\")\n",
    "plt.legend()\n",
    "plt.show()"
   ],
   "metadata": {
    "collapsed": false,
    "pycharm": {
     "name": "#%%\n"
    }
   }
  }
 ],
 "metadata": {
  "kernelspec": {
   "display_name": "Python 3",
   "language": "python",
   "name": "python3"
  },
  "language_info": {
   "codemirror_mode": {
    "name": "ipython",
    "version": 2
   },
   "file_extension": ".py",
   "mimetype": "text/x-python",
   "name": "python",
   "nbconvert_exporter": "python",
   "pygments_lexer": "ipython2",
   "version": "2.7.6"
  }
 },
 "nbformat": 4,
 "nbformat_minor": 0
}