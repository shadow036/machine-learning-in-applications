{
 "cells": [
  {
   "cell_type": "code",
   "execution_count": null,
   "metadata": {
    "collapsed": true
   },
   "outputs": [],
   "source": [
    "class AAE_generator(tf.keras.Model):\n",
    "    def __init__(\n",
    "        self,\n",
    "        encoding_dims,\n",
    "        input_size,\n",
    "        input_channels,\n",
    "        step_channels=16,\n",
    "        non_linearity=tf.keras.layers.LeakyReLU(0.2)):\n",
    "        super(AAE_generator, self).__init__(encoding_dims)\n",
    "        # Encoder Part\n",
    "        encoder = [Sequential(tf.keras.layers.Conv1D(input_channels, 5, 2), non_linearity)]\n",
    "        size = input_size // 2\n",
    "        channels = step_channels\n",
    "        while size > 1:\n",
    "            encoder.append(Sequential(layers=[tf.keras.layers.Conv1D(channels, 5, 2),\n",
    "                                    tf.keras.layers.BatchNormalization(),\n",
    "                                    non_linearity] ))\n",
    "            channels *= 4\n",
    "            size = size // 4\n",
    "        self.encoder = Sequential(layers=encoder)\n",
    "        self.encoder_fc = tfl.layers.Linear(channels, encoding_dims)  # Can add a Tanh non-linearity if training is unstable as noise prior is Gaussian\n",
    "\n",
    "        # Decoder Part\n",
    "        self.decoder_fc = tfl.layers.Linear(encoding_dims, step_channels)\n",
    "        decoder = []\n",
    "        size = 1\n",
    "        channels = step_channels\n",
    "        while size < input_size // 2:\n",
    "            decoder.append(Sequential(layers=[tf.keras.layers.Conv1DTranspose(channels, 5, 2),\n",
    "                                    tf.keras.layers.BatchNormalization(),\n",
    "                                    non_linearity] ))\n",
    "            channels *= 4\n",
    "            size *= 4\n",
    "        decoder.append(tf.keras.layers.Conv1DTranspose(channels, 5, 2))\n",
    "        self.decoder = Sequential(layers=decoder)\n",
    "\n",
    "    def sample(self, noise):\n",
    "        noise = self.decoder_fc(noise)\n",
    "        noise = noise.view(-1, noise.size(1), 1, 1)\n",
    "        return self.decoder(noise)\n",
    "\n",
    "\n",
    "    def call(self, inputs):\n",
    "        x = self.encoder(inputs)\n",
    "        encoded = self.encoder_fc(x)\n",
    "\n",
    "        x = self.decoder_fc(encoded)\n",
    "        x = self.decoder(x)\n",
    "        return x"
   ]
  },
  {
   "cell_type": "code",
   "execution_count": null,
   "outputs": [],
   "source": [
    "learning_rate = 0.001\n",
    "model = AAE_generator(encoding_dims, input_size, input_channels)\n",
    "model.compile(optimizer=tf.optimizers.Adam(learning_rate),\n",
    "              loss=tf.keras.losses.CategoricalCrossentropy())"
   ],
   "metadata": {
    "collapsed": false,
    "pycharm": {
     "name": "#%%\n"
    }
   }
  },
  {
   "cell_type": "code",
   "execution_count": null,
   "outputs": [],
   "source": [],
   "metadata": {
    "collapsed": false,
    "pycharm": {
     "name": "#%%\n"
    }
   }
  }
 ],
 "metadata": {
  "kernelspec": {
   "display_name": "Python 3",
   "language": "python",
   "name": "python3"
  },
  "language_info": {
   "codemirror_mode": {
    "name": "ipython",
    "version": 2
   },
   "file_extension": ".py",
   "mimetype": "text/x-python",
   "name": "python",
   "nbconvert_exporter": "python",
   "pygments_lexer": "ipython2",
   "version": "2.7.6"
  }
 },
 "nbformat": 4,
 "nbformat_minor": 0
}