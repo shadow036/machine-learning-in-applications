{
 "nbformat": 4,
 "nbformat_minor": 0,
 "metadata": {
  "colab": {
   "provenance": [],
   "gpuType": "T4"
  },
  "kernelspec": {
   "name": "python3",
   "display_name": "Python 3"
  },
  "language_info": {
   "name": "python"
  },
  "accelerator": "GPU",
  "gpuClass": "standard"
 },
 "cells": [
  {
   "cell_type": "code",
   "source": [
    "from google.colab import drive\n",
    "drive.mount('/content/drive')"
   ],
   "metadata": {
    "colab": {
     "base_uri": "https://localhost:8080/"
    },
    "id": "CrKuWPxmAZ_r",
    "outputId": "b3ba6081-b895-448f-a1b8-d19a9cc78643"
   },
   "execution_count": 1,
   "outputs": [
    {
     "output_type": "stream",
     "name": "stdout",
     "text": [
      "Mounted at /content/drive\n"
     ]
    }
   ]
  },
  {
   "cell_type": "markdown",
   "source": [
    "### Import Libraries"
   ],
   "metadata": {
    "id": "PFfnc1EeA8E2"
   }
  },
  {
   "cell_type": "code",
   "source": [
    "import numpy as np\n",
    "import pandas as pd\n",
    "import seaborn as sns\n",
    "import tensorflow as tf\n",
    "import matplotlib.cm as cm\n",
    "import plotly.express as px\n",
    "import matplotlib.pyplot as plt\n",
    "\n",
    "from sklearn import metrics\n",
    "from sklearn.metrics import accuracy_score\n",
    "from keras.models import Model\n",
    "from keras import layers, losses\n",
    "\n",
    "\n",
    "from keras.models import Sequential\n",
    "from keras.layers import InputLayer, LSTM, Dense, RepeatVector, TimeDistributed\n",
    "from keras.utils import plot_model"
   ],
   "metadata": {
    "id": "aV3fE09m_fz1"
   },
   "execution_count": 4,
   "outputs": []
  },
  {
   "cell_type": "markdown",
   "source": [
    "### Load data"
   ],
   "metadata": {
    "id": "gvY1e06-BB-O"
   }
  },
  {
   "cell_type": "code",
   "source": [
    "DATA_DIR_NORMAL = \"/Users/kedi/Desktop/polito lectures and notes/ML in App/project/data/anomalyDetection_Normal.npy\"\n",
    "DATA_DIR_ISSUE = \"/Users/kedi/Desktop/polito lectures and notes/ML in App/project/data/anomalyDetection_Issue.npy\"\n",
    "\n",
    "# Set style for matplotlib\n",
    "plt.style.use(\"Solarize_Light2\")"
   ],
   "metadata": {
    "id": "6u0YeqEz_yIO"
   },
   "execution_count": 5,
   "outputs": []
  },
  {
   "cell_type": "code",
   "source": [
    "data_normal = np.load(DATA_DIR_NORMAL)\n",
    "data_issue = np.load(DATA_DIR_ISSUE)\n",
    "\n",
    "data_normal = data_normal.reshape((data_normal.shape[0], data_normal.shape[1], 1))\n",
    "data_issue = data_issue.reshape((data_issue.shape[0], data_issue.shape[1], 1))"
   ],
   "metadata": {
    "id": "kwJwVKvIAdSn"
   },
   "execution_count": 6,
   "outputs": []
  },
  {
   "cell_type": "markdown",
   "source": [
    "## Model"
   ],
   "metadata": {
    "id": "5CayHdG4BYez"
   }
  },
  {
   "cell_type": "code",
   "execution_count": 8,
   "outputs": [],
   "source": [
    "try:\n",
    "    # Disable all GPUS\n",
    "    tf.config.set_visible_devices([], 'GPU')\n",
    "    visible_devices = tf.config.get_visible_devices()\n",
    "    for device in visible_devices:\n",
    "        assert device.device_type != 'GPU'\n",
    "except:\n",
    "    # Invalid device or cannot modify virtual devices once initialized.\n",
    "    pass"
   ],
   "metadata": {
    "collapsed": false,
    "pycharm": {
     "name": "#%%\n"
    }
   }
  },
  {
   "cell_type": "code",
   "source": [
    "input_shape = (data_normal.shape[1:])\n",
    "# define model\n",
    "model = Sequential()\n",
    "model.add(LSTM(200, activation='relu', input_shape=input_shape, kernel_initializer=\"random_normal\", bias_initializer='zeros'))\n",
    "model.add(RepeatVector(input_shape[0]))\n",
    "model.add(LSTM(200, activation='relu', return_sequences=True, kernel_initializer=\"random_normal\", bias_initializer='zeros'))\n",
    "model.add(TimeDistributed(Dense(1)))\n",
    "model.compile(optimizer='adam', loss='mse')\n",
    "model.summary()"
   ],
   "metadata": {
    "colab": {
     "base_uri": "https://localhost:8080/"
    },
    "id": "8pKJW-whS3s6",
    "outputId": "7dd79aaf-8673-44cd-b6be-b43a17baec72"
   },
   "execution_count": 52,
   "outputs": [
    {
     "name": "stdout",
     "output_type": "stream",
     "text": [
      "Model: \"sequential_18\"\n",
      "_________________________________________________________________\n",
      " Layer (type)                Output Shape              Param #   \n",
      "=================================================================\n",
      " lstm_8 (LSTM)               (None, 200)               161600    \n",
      "                                                                 \n",
      " repeat_vector_4 (RepeatVect  (None, 85, 200)          0         \n",
      " or)                                                             \n",
      "                                                                 \n",
      " lstm_9 (LSTM)               (None, 85, 200)           320800    \n",
      "                                                                 \n",
      " time_distributed_4 (TimeDis  (None, 85, 1)            201       \n",
      " tributed)                                                       \n",
      "                                                                 \n",
      "=================================================================\n",
      "Total params: 482,601\n",
      "Trainable params: 482,601\n",
      "Non-trainable params: 0\n",
      "_________________________________________________________________\n"
     ]
    }
   ]
  },
  {
   "cell_type": "code",
   "execution_count": 29,
   "outputs": [
    {
     "name": "stdout",
     "output_type": "stream",
     "text": [
      "Epoch 1/20\n",
      "32/32 [==============================] - 6s 151ms/step - loss: 0.2819\n",
      "Epoch 2/20\n",
      "32/32 [==============================] - 5s 166ms/step - loss: 0.2812\n",
      "Epoch 3/20\n",
      "32/32 [==============================] - 6s 172ms/step - loss: 0.2828\n",
      "Epoch 4/20\n",
      "32/32 [==============================] - 6s 189ms/step - loss: 0.2809\n",
      "Epoch 5/20\n",
      "32/32 [==============================] - 6s 190ms/step - loss: 54.9586\n",
      "Epoch 6/20\n",
      "32/32 [==============================] - 6s 187ms/step - loss: 0.2840\n",
      "Epoch 7/20\n",
      "32/32 [==============================] - 6s 190ms/step - loss: 0.2808\n",
      "Epoch 8/20\n",
      "32/32 [==============================] - 6s 185ms/step - loss: 0.2798\n",
      "Epoch 9/20\n",
      "32/32 [==============================] - 6s 184ms/step - loss: 0.2625\n",
      "Epoch 10/20\n",
      "32/32 [==============================] - 6s 182ms/step - loss: 0.2303\n",
      "Epoch 11/20\n",
      "32/32 [==============================] - 6s 183ms/step - loss: 0.2208\n",
      "Epoch 12/20\n",
      "32/32 [==============================] - 6s 184ms/step - loss: 0.2172\n",
      "Epoch 13/20\n",
      "32/32 [==============================] - 6s 184ms/step - loss: 0.2138\n",
      "Epoch 14/20\n",
      "32/32 [==============================] - 6s 191ms/step - loss: 0.2105\n",
      "Epoch 15/20\n",
      "32/32 [==============================] - 6s 201ms/step - loss: 0.2046\n",
      "Epoch 16/20\n",
      "32/32 [==============================] - 6s 189ms/step - loss: 0.2028\n",
      "Epoch 17/20\n",
      "32/32 [==============================] - 6s 197ms/step - loss: 0.1993\n",
      "Epoch 18/20\n",
      "32/32 [==============================] - 6s 186ms/step - loss: 0.2014\n",
      "Epoch 19/20\n",
      "32/32 [==============================] - 6s 191ms/step - loss: 0.1895\n",
      "Epoch 20/20\n",
      "32/32 [==============================] - 6s 189ms/step - loss: 0.1908\n"
     ]
    },
    {
     "data": {
      "text/plain": "<keras.callbacks.History at 0x2c68384c0>"
     },
     "execution_count": 29,
     "metadata": {},
     "output_type": "execute_result"
    }
   ],
   "source": [
    "# should not be trained\n",
    "model.fit(data_normal, data_normal, epochs=20)"
   ],
   "metadata": {
    "collapsed": false,
    "pycharm": {
     "name": "#%%\n"
    }
   }
  },
  {
   "cell_type": "code",
   "source": [
    "y_train = model.predict(data_normal)\n",
    "\n",
    "cost_train = y_train - data_normal\n",
    "print(np.round(cost_train,3), f\"mean: {np.round(cost_train.mean(),3)}\")"
   ],
   "metadata": {
    "colab": {
     "base_uri": "https://localhost:8080/"
    },
    "id": "VFD4D9zmNHOM",
    "outputId": "c7693e4c-208e-4f13-b17f-685030283a87"
   },
   "execution_count": 53,
   "outputs": [
    {
     "name": "stdout",
     "output_type": "stream",
     "text": [
      "32/32 [==============================] - 2s 44ms/step\n",
      "[[[ 0.871]\n",
      "  [ 0.452]\n",
      "  [ 0.007]\n",
      "  ...\n",
      "  [ 0.888]\n",
      "  [-0.218]\n",
      "  [ 1.007]]\n",
      "\n",
      " [[ 0.871]\n",
      "  [ 0.452]\n",
      "  [ 0.007]\n",
      "  ...\n",
      "  [ 0.888]\n",
      "  [-0.218]\n",
      "  [ 1.007]]\n",
      "\n",
      " [[ 0.871]\n",
      "  [ 0.452]\n",
      "  [ 0.007]\n",
      "  ...\n",
      "  [ 0.888]\n",
      "  [-0.218]\n",
      "  [ 1.007]]\n",
      "\n",
      " ...\n",
      "\n",
      " [[ 0.618]\n",
      "  [ 0.657]\n",
      "  [ 0.507]\n",
      "  ...\n",
      "  [ 0.989]\n",
      "  [ 0.204]\n",
      "  [ 1.008]]\n",
      "\n",
      " [[ 0.618]\n",
      "  [ 0.657]\n",
      "  [ 0.507]\n",
      "  ...\n",
      "  [ 0.995]\n",
      "  [ 0.275]\n",
      "  [ 1.008]]\n",
      "\n",
      " [[ 0.618]\n",
      "  [ 0.657]\n",
      "  [ 0.507]\n",
      "  ...\n",
      "  [ 0.997]\n",
      "  [ 0.307]\n",
      "  [ 1.008]]] mean: 0.09000000357627869\n"
     ]
    }
   ]
  },
  {
   "cell_type": "code",
   "source": [
    "y_test = model.predict(data_issue)\n",
    "\n",
    "cost_test = y_test - data_issue\n",
    "print(np.round(cost_test,3), f\"mean: {cost_test.mean()}\")"
   ],
   "metadata": {
    "colab": {
     "base_uri": "https://localhost:8080/"
    },
    "id": "-nUNI73OOQ-U",
    "outputId": "8faf6a3e-f4da-4f7c-f60b-2e6e7bca2419",
    "pycharm": {
     "name": "#%%\n"
    }
   },
   "execution_count": 54,
   "outputs": [
    {
     "name": "stdout",
     "output_type": "stream",
     "text": [
      "13/13 [==============================] - 1s 42ms/step\n",
      "[[[-0.169]\n",
      "  [-0.054]\n",
      "  [ 0.52 ]\n",
      "  ...\n",
      "  [-0.744]\n",
      "  [-0.665]\n",
      "  [ 1.369]]\n",
      "\n",
      " [[-0.169]\n",
      "  [-0.054]\n",
      "  [ 0.52 ]\n",
      "  ...\n",
      "  [-0.746]\n",
      "  [-0.663]\n",
      "  [ 1.369]]\n",
      "\n",
      " [[ 0.256]\n",
      "  [ 0.135]\n",
      "  [ 0.52 ]\n",
      "  ...\n",
      "  [-0.746]\n",
      "  [-0.664]\n",
      "  [ 1.369]]\n",
      "\n",
      " ...\n",
      "\n",
      " [[ 0.576]\n",
      "  [ 0.383]\n",
      "  [ 0.52 ]\n",
      "  ...\n",
      "  [-0.454]\n",
      "  [-0.882]\n",
      "  [ 1.369]]\n",
      "\n",
      " [[ 0.576]\n",
      "  [ 0.383]\n",
      "  [ 0.52 ]\n",
      "  ...\n",
      "  [-0.41 ]\n",
      "  [-0.902]\n",
      "  [ 1.369]]\n",
      "\n",
      " [[ 0.576]\n",
      "  [ 0.383]\n",
      "  [ 0.52 ]\n",
      "  ...\n",
      "  [-0.375]\n",
      "  [-0.917]\n",
      "  [ 1.369]]] mean: 0.0955331102013588\n"
     ]
    }
   ]
  }
 ]
}