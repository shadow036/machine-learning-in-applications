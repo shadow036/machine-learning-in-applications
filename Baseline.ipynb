{
 "nbformat": 4,
 "nbformat_minor": 0,
 "metadata": {
  "colab": {
   "provenance": [],
   "gpuType": "T4"
  },
  "kernelspec": {
   "name": "python3",
   "display_name": "Python 3"
  },
  "language_info": {
   "name": "python"
  },
  "accelerator": "GPU",
  "gpuClass": "standard"
 },
 "cells": [
  {
   "cell_type": "markdown",
   "source": [
    "### Import Libraries"
   ],
   "metadata": {
    "id": "PFfnc1EeA8E2"
   }
  },
  {
   "cell_type": "code",
   "source": [
    "import numpy as np\n",
    "import pandas as pd\n",
    "import seaborn as sns\n",
    "import tensorflow as tf\n",
    "import matplotlib.cm as cm\n",
    "import plotly.express as px\n",
    "import matplotlib.pyplot as plt\n",
    "\n",
    "from sklearn import metrics\n",
    "from sklearn.metrics import accuracy_score\n",
    "from keras.models import Model\n",
    "from keras import layers, losses\n",
    "\n",
    "\n",
    "from keras.models import Sequential\n",
    "from keras.layers import InputLayer, LSTM, Dense, RepeatVector, TimeDistributed\n",
    "from keras.utils import plot_model"
   ],
   "metadata": {
    "id": "aV3fE09m_fz1"
   },
   "execution_count": 1,
   "outputs": []
  },
  {
   "cell_type": "code",
   "execution_count": 2,
   "outputs": [],
   "source": [
    "try:\n",
    "    # Disable all GPUS\n",
    "    tf.config.set_visible_devices([], 'GPU')\n",
    "    visible_devices = tf.config.get_visible_devices()\n",
    "    for device in visible_devices:\n",
    "        assert device.device_type != 'GPU'\n",
    "except:\n",
    "    # Invalid device or cannot modify virtual devices once initialized.\n",
    "    pass"
   ],
   "metadata": {
    "collapsed": false,
    "pycharm": {
     "name": "#%%\n"
    }
   }
  },
  {
   "cell_type": "markdown",
   "source": [
    "### Load data"
   ],
   "metadata": {
    "id": "gvY1e06-BB-O"
   }
  },
  {
   "cell_type": "code",
   "source": [
    "DATA_DIR_NORMAL = \"/Users/kedi/Desktop/polito lectures and notes/ML in App/project/data/anomalyDetection_Normal.npy\"\n",
    "DATA_DIR_ISSUE = \"/Users/kedi/Desktop/polito lectures and notes/ML in App/project/data/anomalyDetection_Issue.npy\"\n",
    "\n",
    "# Set style for matplotlib\n",
    "plt.style.use(\"Solarize_Light2\")"
   ],
   "metadata": {
    "id": "6u0YeqEz_yIO"
   },
   "execution_count": 3,
   "outputs": []
  },
  {
   "cell_type": "code",
   "source": [
    "data_normal = np.load(DATA_DIR_NORMAL)\n",
    "data_issue = np.load(DATA_DIR_ISSUE)\n",
    "\n",
    "data_normal = data_normal.reshape((data_normal.shape[0], data_normal.shape[1], 1))\n",
    "data_issue = data_issue.reshape((data_issue.shape[0], data_issue.shape[1], 1))"
   ],
   "metadata": {
    "id": "kwJwVKvIAdSn"
   },
   "execution_count": 4,
   "outputs": []
  },
  {
   "cell_type": "markdown",
   "source": [
    "## Model"
   ],
   "metadata": {
    "id": "5CayHdG4BYez"
   }
  },
  {
   "cell_type": "code",
   "source": [
    "input_shape = (data_normal.shape[1:])\n",
    "# define model\n",
    "model = Sequential()\n",
    "model.add(LSTM(85, activation='relu', input_shape=input_shape, kernel_initializer=\"random_normal\", bias_initializer='zeros'))\n",
    "model.add(RepeatVector(input_shape[0]))\n",
    "model.add(LSTM(85, activation='relu', return_sequences=True, kernel_initializer=\"random_normal\", bias_initializer='zeros'))\n",
    "model.add(TimeDistributed(Dense(1)))\n",
    "model.compile(optimizer='adam', loss='mse')\n",
    "model.summary()"
   ],
   "metadata": {
    "colab": {
     "base_uri": "https://localhost:8080/"
    },
    "id": "8pKJW-whS3s6",
    "outputId": "7dd79aaf-8673-44cd-b6be-b43a17baec72"
   },
   "execution_count": 14,
   "outputs": [
    {
     "name": "stdout",
     "output_type": "stream",
     "text": [
      "Model: \"sequential_1\"\n",
      "_________________________________________________________________\n",
      " Layer (type)                Output Shape              Param #   \n",
      "=================================================================\n",
      " lstm_2 (LSTM)               (None, 85)                29580     \n",
      "                                                                 \n",
      " repeat_vector_1 (RepeatVect  (None, 85, 85)           0         \n",
      " or)                                                             \n",
      "                                                                 \n",
      " lstm_3 (LSTM)               (None, 85, 85)            58140     \n",
      "                                                                 \n",
      " time_distributed_1 (TimeDis  (None, 85, 1)            86        \n",
      " tributed)                                                       \n",
      "                                                                 \n",
      "=================================================================\n",
      "Total params: 87,806\n",
      "Trainable params: 87,806\n",
      "Non-trainable params: 0\n",
      "_________________________________________________________________\n"
     ]
    }
   ]
  },
  {
   "cell_type": "code",
   "execution_count": 13,
   "outputs": [],
   "source": [
    "try:\n",
    "    # Disable all GPUS\n",
    "    tf.config.set_visible_devices([], 'GPU')\n",
    "    visible_devices = tf.config.get_visible_devices()\n",
    "    for device in visible_devices:\n",
    "        assert device.device_type == 'GPU'\n",
    "except:\n",
    "    # Invalid device or cannot modify virtual devices once initialized.\n",
    "    pass"
   ],
   "metadata": {
    "collapsed": false,
    "pycharm": {
     "name": "#%%\n"
    }
   }
  },
  {
   "cell_type": "code",
   "execution_count": 18,
   "outputs": [
    {
     "name": "stdout",
     "output_type": "stream",
     "text": [
      "Num GPUs Available:  1\n",
      "Epoch 1/100\n",
      "32/32 [==============================] - 2s 63ms/step - loss: 0.2080\n",
      "Epoch 2/100\n",
      "32/32 [==============================] - 2s 62ms/step - loss: 0.2029\n",
      "Epoch 3/100\n",
      "32/32 [==============================] - 2s 62ms/step - loss: 0.2001\n",
      "Epoch 4/100\n",
      "32/32 [==============================] - 2s 63ms/step - loss: 0.1945\n",
      "Epoch 5/100\n",
      "32/32 [==============================] - 2s 63ms/step - loss: 0.1954\n",
      "Epoch 6/100\n",
      "32/32 [==============================] - 2s 62ms/step - loss: 0.1958\n",
      "Epoch 7/100\n",
      "32/32 [==============================] - 2s 63ms/step - loss: 0.1883\n",
      "Epoch 8/100\n",
      "32/32 [==============================] - 2s 63ms/step - loss: 0.1874\n",
      "Epoch 9/100\n",
      "32/32 [==============================] - 2s 62ms/step - loss: 0.1785\n",
      "Epoch 10/100\n",
      "32/32 [==============================] - 2s 66ms/step - loss: 0.1824\n",
      "Epoch 11/100\n",
      "32/32 [==============================] - 2s 63ms/step - loss: 0.1729\n",
      "Epoch 12/100\n",
      "32/32 [==============================] - 2s 63ms/step - loss: 0.1905\n",
      "Epoch 13/100\n",
      "32/32 [==============================] - 2s 63ms/step - loss: 0.1970\n",
      "Epoch 14/100\n",
      "32/32 [==============================] - 2s 63ms/step - loss: 0.1716\n",
      "Epoch 15/100\n",
      "32/32 [==============================] - 2s 63ms/step - loss: 0.1641\n",
      "Epoch 16/100\n",
      "32/32 [==============================] - 2s 62ms/step - loss: 0.2040\n",
      "Epoch 17/100\n",
      "32/32 [==============================] - 2s 63ms/step - loss: 0.2036\n",
      "Epoch 18/100\n",
      "32/32 [==============================] - 2s 64ms/step - loss: 0.1920\n",
      "Epoch 19/100\n",
      "32/32 [==============================] - 2s 63ms/step - loss: 0.1862\n",
      "Epoch 20/100\n",
      "32/32 [==============================] - 2s 64ms/step - loss: 0.1786\n",
      "Epoch 21/100\n",
      "32/32 [==============================] - 2s 64ms/step - loss: 0.1682\n",
      "Epoch 22/100\n",
      "32/32 [==============================] - 2s 63ms/step - loss: 0.1703\n",
      "Epoch 23/100\n",
      "32/32 [==============================] - 2s 62ms/step - loss: 0.2574\n",
      "Epoch 24/100\n",
      "32/32 [==============================] - 2s 64ms/step - loss: 0.2288\n",
      "Epoch 25/100\n",
      "32/32 [==============================] - 2s 63ms/step - loss: 0.2110\n",
      "Epoch 26/100\n",
      "32/32 [==============================] - 2s 63ms/step - loss: 0.2021\n",
      "Epoch 27/100\n",
      "32/32 [==============================] - 2s 63ms/step - loss: 0.1981\n",
      "Epoch 28/100\n",
      "32/32 [==============================] - 2s 64ms/step - loss: 0.1937\n",
      "Epoch 29/100\n",
      "32/32 [==============================] - 2s 63ms/step - loss: 0.2054\n",
      "Epoch 30/100\n",
      "32/32 [==============================] - 2s 64ms/step - loss: 0.1938\n",
      "Epoch 31/100\n",
      "32/32 [==============================] - 2s 63ms/step - loss: 0.1886\n",
      "Epoch 32/100\n",
      "32/32 [==============================] - 2s 63ms/step - loss: 0.1880\n",
      "Epoch 33/100\n",
      "32/32 [==============================] - 2s 63ms/step - loss: 0.1833\n",
      "Epoch 34/100\n",
      "32/32 [==============================] - 2s 64ms/step - loss: 0.1822\n",
      "Epoch 35/100\n",
      "32/32 [==============================] - 2s 69ms/step - loss: 0.1853\n",
      "Epoch 36/100\n",
      "32/32 [==============================] - 2s 65ms/step - loss: 0.1717\n",
      "Epoch 37/100\n",
      "32/32 [==============================] - 2s 64ms/step - loss: 0.1769\n",
      "Epoch 38/100\n",
      "32/32 [==============================] - 2s 63ms/step - loss: 0.2097\n",
      "Epoch 39/100\n",
      "32/32 [==============================] - 2s 64ms/step - loss: 0.2197\n",
      "Epoch 40/100\n",
      "32/32 [==============================] - 2s 66ms/step - loss: 0.2086\n",
      "Epoch 41/100\n",
      "32/32 [==============================] - 2s 64ms/step - loss: 0.2017\n",
      "Epoch 42/100\n",
      "32/32 [==============================] - 2s 69ms/step - loss: 0.1975\n",
      "Epoch 43/100\n",
      "32/32 [==============================] - 2s 64ms/step - loss: 0.1926\n",
      "Epoch 44/100\n",
      "32/32 [==============================] - 2s 63ms/step - loss: 0.1845\n",
      "Epoch 45/100\n",
      "32/32 [==============================] - 2s 63ms/step - loss: 0.1808\n",
      "Epoch 46/100\n",
      "32/32 [==============================] - 2s 63ms/step - loss: 0.1681\n",
      "Epoch 47/100\n",
      "32/32 [==============================] - 2s 65ms/step - loss: 0.2040\n",
      "Epoch 48/100\n",
      "32/32 [==============================] - 2s 66ms/step - loss: 0.1951\n",
      "Epoch 49/100\n",
      "32/32 [==============================] - 2s 64ms/step - loss: 0.2282\n",
      "Epoch 50/100\n",
      "32/32 [==============================] - 2s 64ms/step - loss: 0.2376\n",
      "Epoch 51/100\n",
      "32/32 [==============================] - 2s 65ms/step - loss: 0.2196\n",
      "Epoch 52/100\n",
      "32/32 [==============================] - 2s 65ms/step - loss: 0.2062\n",
      "Epoch 53/100\n",
      "32/32 [==============================] - 2s 66ms/step - loss: 0.1940\n",
      "Epoch 54/100\n",
      "32/32 [==============================] - 2s 66ms/step - loss: 0.1822\n",
      "Epoch 55/100\n",
      "32/32 [==============================] - 2s 68ms/step - loss: 0.1761\n",
      "Epoch 56/100\n",
      "32/32 [==============================] - 2s 65ms/step - loss: 0.1740\n",
      "Epoch 57/100\n",
      "32/32 [==============================] - 2s 63ms/step - loss: 0.1744\n",
      "Epoch 58/100\n",
      "32/32 [==============================] - 2s 66ms/step - loss: 0.1699\n",
      "Epoch 59/100\n",
      "32/32 [==============================] - 2s 64ms/step - loss: 0.1775\n",
      "Epoch 60/100\n",
      "32/32 [==============================] - 2s 64ms/step - loss: 0.1721\n",
      "Epoch 61/100\n",
      "32/32 [==============================] - 2s 64ms/step - loss: 0.1514\n",
      "Epoch 62/100\n",
      "32/32 [==============================] - 2s 64ms/step - loss: 0.1821\n",
      "Epoch 63/100\n",
      "32/32 [==============================] - 2s 63ms/step - loss: 0.2201\n",
      "Epoch 64/100\n",
      "32/32 [==============================] - 2s 63ms/step - loss: 0.2499\n",
      "Epoch 65/100\n",
      "32/32 [==============================] - 2s 62ms/step - loss: 0.2172\n",
      "Epoch 66/100\n",
      "32/32 [==============================] - 2s 62ms/step - loss: 0.2017\n",
      "Epoch 67/100\n",
      "32/32 [==============================] - 2s 71ms/step - loss: 0.1877\n",
      "Epoch 68/100\n",
      "32/32 [==============================] - 2s 62ms/step - loss: 0.1803\n",
      "Epoch 69/100\n",
      "32/32 [==============================] - 2s 62ms/step - loss: 0.1834\n",
      "Epoch 70/100\n",
      "32/32 [==============================] - 2s 62ms/step - loss: 0.1907\n",
      "Epoch 71/100\n",
      "32/32 [==============================] - 2s 62ms/step - loss: 0.1770\n",
      "Epoch 72/100\n",
      "32/32 [==============================] - 2s 62ms/step - loss: 0.1976\n",
      "Epoch 73/100\n",
      "32/32 [==============================] - 2s 63ms/step - loss: 0.1764\n",
      "Epoch 74/100\n",
      "32/32 [==============================] - 2s 63ms/step - loss: 0.1713\n",
      "Epoch 75/100\n",
      "32/32 [==============================] - 2s 62ms/step - loss: 0.1752\n",
      "Epoch 76/100\n",
      "32/32 [==============================] - 2s 63ms/step - loss: 0.2186\n",
      "Epoch 77/100\n",
      "32/32 [==============================] - 2s 63ms/step - loss: 0.1816\n",
      "Epoch 78/100\n",
      "32/32 [==============================] - 2s 62ms/step - loss: 0.1720\n",
      "Epoch 79/100\n",
      "32/32 [==============================] - 2s 62ms/step - loss: 0.1680\n",
      "Epoch 80/100\n",
      "32/32 [==============================] - 2s 64ms/step - loss: 0.1668\n",
      "Epoch 81/100\n",
      "32/32 [==============================] - 2s 63ms/step - loss: 0.1651\n",
      "Epoch 82/100\n",
      "32/32 [==============================] - 2s 64ms/step - loss: 0.1691\n",
      "Epoch 83/100\n",
      "32/32 [==============================] - 2s 63ms/step - loss: 0.1725\n",
      "Epoch 84/100\n",
      "32/32 [==============================] - 2s 62ms/step - loss: 0.1707\n",
      "Epoch 85/100\n",
      "32/32 [==============================] - 2s 63ms/step - loss: 0.1866\n",
      "Epoch 86/100\n",
      "32/32 [==============================] - 2s 62ms/step - loss: 0.1721\n",
      "Epoch 87/100\n",
      "32/32 [==============================] - 2s 62ms/step - loss: 0.1629\n",
      "Epoch 88/100\n",
      "32/32 [==============================] - 2s 64ms/step - loss: 0.1669\n",
      "Epoch 89/100\n",
      "32/32 [==============================] - 2s 63ms/step - loss: 0.1781\n",
      "Epoch 90/100\n",
      "32/32 [==============================] - 2s 63ms/step - loss: 0.1619\n",
      "Epoch 91/100\n",
      "32/32 [==============================] - 2s 66ms/step - loss: 0.1711\n",
      "Epoch 92/100\n",
      "32/32 [==============================] - 2s 63ms/step - loss: 0.1711\n",
      "Epoch 93/100\n",
      "32/32 [==============================] - 2s 64ms/step - loss: 0.1588\n",
      "Epoch 94/100\n",
      "32/32 [==============================] - 2s 62ms/step - loss: 0.1569\n",
      "Epoch 95/100\n",
      "32/32 [==============================] - 2s 62ms/step - loss: 0.1544\n",
      "Epoch 96/100\n",
      "32/32 [==============================] - 2s 62ms/step - loss: 0.1754\n",
      "Epoch 97/100\n",
      "32/32 [==============================] - 2s 62ms/step - loss: 0.1590\n",
      "Epoch 98/100\n",
      "32/32 [==============================] - 2s 62ms/step - loss: 0.1530\n",
      "Epoch 99/100\n",
      "32/32 [==============================] - 2s 63ms/step - loss: 0.1807\n",
      "Epoch 100/100\n",
      "32/32 [==============================] - 2s 62ms/step - loss: 0.1850\n"
     ]
    }
   ],
   "source": [
    "# should not be trained\n",
    "with tf.device('/GPU'):\n",
    "    print(\"Num GPUs Available: \", len(tf.config.list_physical_devices('GPU')))\n",
    "    model.fit(data_normal, data_normal, epochs=100)"
   ],
   "metadata": {
    "collapsed": false,
    "pycharm": {
     "name": "#%%\n"
    }
   }
  },
  {
   "cell_type": "code",
   "source": [
    "y_train = model.predict(data_normal)\n",
    "\n",
    "cost_train = y_train - data_normal\n",
    "print(np.round(cost_train,3), f\"mean: {np.round(cost_train.mean(),3)}\")"
   ],
   "metadata": {
    "colab": {
     "base_uri": "https://localhost:8080/"
    },
    "id": "VFD4D9zmNHOM",
    "outputId": "c7693e4c-208e-4f13-b17f-685030283a87"
   },
   "execution_count": 19,
   "outputs": [
    {
     "name": "stdout",
     "output_type": "stream",
     "text": [
      "32/32 [==============================] - 1s 18ms/step\n",
      "[[[ 0.668]\n",
      "  [ 0.275]\n",
      "  [-0.138]\n",
      "  ...\n",
      "  [ 0.61 ]\n",
      "  [-0.586]\n",
      "  [ 0.607]]\n",
      "\n",
      " [[ 0.668]\n",
      "  [ 0.275]\n",
      "  [-0.138]\n",
      "  ...\n",
      "  [ 0.61 ]\n",
      "  [-0.586]\n",
      "  [ 0.607]]\n",
      "\n",
      " [[ 0.668]\n",
      "  [ 0.275]\n",
      "  [-0.138]\n",
      "  ...\n",
      "  [ 0.61 ]\n",
      "  [-0.586]\n",
      "  [ 0.607]]\n",
      "\n",
      " ...\n",
      "\n",
      " [[ 0.416]\n",
      "  [ 0.482]\n",
      "  [ 0.366]\n",
      "  ...\n",
      "  [ 0.698]\n",
      "  [-0.17 ]\n",
      "  [ 0.599]]\n",
      "\n",
      " [[ 0.417]\n",
      "  [ 0.483]\n",
      "  [ 0.366]\n",
      "  ...\n",
      "  [ 0.707]\n",
      "  [-0.096]\n",
      "  [ 0.603]]\n",
      "\n",
      " [[ 0.417]\n",
      "  [ 0.483]\n",
      "  [ 0.366]\n",
      "  ...\n",
      "  [ 0.711]\n",
      "  [-0.064]\n",
      "  [ 0.604]]] mean: 0.004999999888241291\n"
     ]
    }
   ]
  },
  {
   "cell_type": "code",
   "source": [
    "y_test = model.predict(data_issue)\n",
    "\n",
    "cost_test = y_test - data_issue\n",
    "print(np.round(cost_test,3), f\"mean: {cost_test.mean()}\")"
   ],
   "metadata": {
    "colab": {
     "base_uri": "https://localhost:8080/"
    },
    "id": "-nUNI73OOQ-U",
    "outputId": "8faf6a3e-f4da-4f7c-f60b-2e6e7bca2419",
    "pycharm": {
     "name": "#%%\n"
    }
   },
   "execution_count": 20,
   "outputs": [
    {
     "name": "stdout",
     "output_type": "stream",
     "text": [
      "13/13 [==============================] - 0s 19ms/step\n",
      "[[[-0.374]\n",
      "  [-0.232]\n",
      "  [ 0.375]\n",
      "  ...\n",
      "  [-1.075]\n",
      "  [-1.066]\n",
      "  [ 0.925]]\n",
      "\n",
      " [[-0.374]\n",
      "  [-0.232]\n",
      "  [ 0.375]\n",
      "  ...\n",
      "  [-1.077]\n",
      "  [-1.065]\n",
      "  [ 0.925]]\n",
      "\n",
      " [[ 0.05 ]\n",
      "  [-0.042]\n",
      "  [ 0.375]\n",
      "  ...\n",
      "  [-1.077]\n",
      "  [-1.065]\n",
      "  [ 0.925]]\n",
      "\n",
      " ...\n",
      "\n",
      " [[ 0.371]\n",
      "  [ 0.205]\n",
      "  [ 0.375]\n",
      "  ...\n",
      "  [-0.79 ]\n",
      "  [-1.286]\n",
      "  [ 0.921]]\n",
      "\n",
      " [[ 0.371]\n",
      "  [ 0.205]\n",
      "  [ 0.375]\n",
      "  ...\n",
      "  [-0.747]\n",
      "  [-1.306]\n",
      "  [ 0.921]]\n",
      "\n",
      " [[ 0.371]\n",
      "  [ 0.205]\n",
      "  [ 0.375]\n",
      "  ...\n",
      "  [-0.71 ]\n",
      "  [-1.32 ]\n",
      "  [ 0.921]]] mean: 0.02613138221204281\n"
     ]
    }
   ]
  }
 ]
}