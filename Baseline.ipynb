{
  "nbformat": 4,
  "nbformat_minor": 0,
  "metadata": {
    "colab": {
      "provenance": [],
      "gpuType": "T4"
    },
    "kernelspec": {
      "name": "python3",
      "display_name": "Python 3"
    },
    "language_info": {
      "name": "python"
    },
    "accelerator": "GPU",
    "gpuClass": "standard"
  },
  "cells": [
    {
      "cell_type": "code",
      "source": [
        "from google.colab import drive\n",
        "drive.mount('/content/drive')"
      ],
      "metadata": {
        "colab": {
          "base_uri": "https://localhost:8080/"
        },
        "id": "CrKuWPxmAZ_r",
        "outputId": "b3ba6081-b895-448f-a1b8-d19a9cc78643"
      },
      "execution_count": 1,
      "outputs": [
        {
          "output_type": "stream",
          "name": "stdout",
          "text": [
            "Mounted at /content/drive\n"
          ]
        }
      ]
    },
    {
      "cell_type": "markdown",
      "source": [
        "### Import Libraries"
      ],
      "metadata": {
        "id": "PFfnc1EeA8E2"
      }
    },
    {
      "cell_type": "code",
      "source": [
        "import numpy as np\n",
        "import pandas as pd\n",
        "import seaborn as sns\n",
        "import tensorflow as tf\n",
        "import matplotlib.cm as cm\n",
        "import plotly.express as px\n",
        "import matplotlib.pyplot as plt\n",
        "\n",
        "from sklearn import metrics\n",
        "from sklearn.metrics import accuracy_score\n",
        "from tensorflow.keras.models import Model\n",
        "from tensorflow.keras import layers, losses\n",
        "\n",
        "\n",
        "from keras.models import Sequential\n",
        "from keras.layers import LSTM\n",
        "from keras.layers import Dense\n",
        "from keras.layers import RepeatVector\n",
        "from keras.layers import TimeDistributed\n",
        "from keras.utils import plot_model"
      ],
      "metadata": {
        "id": "aV3fE09m_fz1"
      },
      "execution_count": 2,
      "outputs": []
    },
    {
      "cell_type": "markdown",
      "source": [
        "### Load data"
      ],
      "metadata": {
        "id": "gvY1e06-BB-O"
      }
    },
    {
      "cell_type": "code",
      "source": [
        "DATA_DIR_NORMAL = \"/content/drive/MyDrive/MLinApp_course***/AM/data/anomalyDetection_Normal.npy\"\n",
        "DATA_DIR_ISSUE = \"/content/drive/MyDrive/MLinApp_course***/AM/data/anomalyDetection_Issue.npy\"\n",
        "\n",
        "# Set style for matplotlib\n",
        "plt.style.use(\"Solarize_Light2\")"
      ],
      "metadata": {
        "id": "6u0YeqEz_yIO"
      },
      "execution_count": 3,
      "outputs": []
    },
    {
      "cell_type": "code",
      "source": [
        "data_normal = np.load(DATA_DIR_NORMAL)\n",
        "data_issue = np.load(DATA_DIR_ISSUE)\n",
        "\n",
        "data_normal = data_normal.reshape((data_normal.shape[0], data_normal.shape[1], 1))\n",
        "data_issue = data_issue.reshape((data_issue.shape[0], data_issue.shape[1], 1))"
      ],
      "metadata": {
        "id": "kwJwVKvIAdSn"
      },
      "execution_count": 4,
      "outputs": []
    },
    {
      "cell_type": "markdown",
      "source": [
        "## Model"
      ],
      "metadata": {
        "id": "5CayHdG4BYez"
      }
    },
    {
      "cell_type": "code",
      "source": [
        "input_shape = (data_normal.shape[1:])\n",
        "# define model\n",
        "model = Sequential()\n",
        "model.add(LSTM(100, activation='relu', input_shape=(input_shape)))\n",
        "model.add(RepeatVector(input_shape[0]))\n",
        "model.add(LSTM(100, activation='relu', return_sequences=True))\n",
        "model.add(TimeDistributed(Dense(2)))\n",
        "model.compile(optimizer='adam', loss='mse', metrics='mae')\n",
        "model.summary()"
      ],
      "metadata": {
        "colab": {
          "base_uri": "https://localhost:8080/"
        },
        "id": "8pKJW-whS3s6",
        "outputId": "7dd79aaf-8673-44cd-b6be-b43a17baec72"
      },
      "execution_count": 5,
      "outputs": [
        {
          "output_type": "stream",
          "name": "stderr",
          "text": [
            "WARNING:tensorflow:Layer lstm will not use cuDNN kernels since it doesn't meet the criteria. It will use a generic GPU kernel as fallback when running on GPU.\n",
            "WARNING:tensorflow:Layer lstm_1 will not use cuDNN kernels since it doesn't meet the criteria. It will use a generic GPU kernel as fallback when running on GPU.\n"
          ]
        },
        {
          "output_type": "stream",
          "name": "stdout",
          "text": [
            "Model: \"sequential\"\n",
            "_________________________________________________________________\n",
            " Layer (type)                Output Shape              Param #   \n",
            "=================================================================\n",
            " lstm (LSTM)                 (None, 100)               40800     \n",
            "                                                                 \n",
            " repeat_vector (RepeatVector  (None, 85, 100)          0         \n",
            " )                                                               \n",
            "                                                                 \n",
            " lstm_1 (LSTM)               (None, 85, 100)           80400     \n",
            "                                                                 \n",
            " time_distributed (TimeDistr  (None, 85, 2)            202       \n",
            " ibuted)                                                         \n",
            "                                                                 \n",
            "=================================================================\n",
            "Total params: 121,402\n",
            "Trainable params: 121,402\n",
            "Non-trainable params: 0\n",
            "_________________________________________________________________\n"
          ]
        }
      ]
    },
    {
      "cell_type": "code",
      "source": [
        "model.fit(data_normal, data_normal, epochs=100)"
      ],
      "metadata": {
        "colab": {
          "base_uri": "https://localhost:8080/"
        },
        "id": "JScVO1Y7H7fx",
        "outputId": "3ef63e4d-d755-4b3a-a5a9-b4c4ee84a2ff"
      },
      "execution_count": null,
      "outputs": [
        {
          "output_type": "stream",
          "name": "stdout",
          "text": [
            "Epoch 1/100\n",
            "32/32 [==============================] - 25s 533ms/step - loss: 0.2820 - mae: 0.4138\n",
            "Epoch 2/100\n",
            "32/32 [==============================] - 10s 301ms/step - loss: 0.2814 - mae: 0.4140\n",
            "Epoch 3/100\n",
            "32/32 [==============================] - 10s 326ms/step - loss: 0.2810 - mae: 0.4125\n",
            "Epoch 4/100\n",
            "32/32 [==============================] - 10s 328ms/step - loss: 0.2786 - mae: 0.4075\n",
            "Epoch 5/100\n",
            "32/32 [==============================] - 8s 259ms/step - loss: 0.2806 - mae: 0.4122\n",
            "Epoch 6/100\n",
            "32/32 [==============================] - 10s 326ms/step - loss: 0.2697 - mae: 0.3997\n",
            "Epoch 7/100\n",
            "32/32 [==============================] - 11s 332ms/step - loss: 0.2448 - mae: 0.3800\n",
            "Epoch 8/100\n",
            "32/32 [==============================] - 9s 281ms/step - loss: 0.2217 - mae: 0.3655\n",
            "Epoch 9/100\n",
            "32/32 [==============================] - 9s 285ms/step - loss: 0.2182 - mae: 0.3621\n",
            "Epoch 10/100\n",
            "12/32 [==========>...................] - ETA: 5s - loss: 0.2157 - mae: 0.3583"
          ]
        }
      ]
    },
    {
      "cell_type": "code",
      "source": [
        "y_train = model.predict(data_normal)"
      ],
      "metadata": {
        "colab": {
          "base_uri": "https://localhost:8080/"
        },
        "id": "VFD4D9zmNHOM",
        "outputId": "c7693e4c-208e-4f13-b17f-685030283a87"
      },
      "execution_count": 59,
      "outputs": [
        {
          "output_type": "stream",
          "name": "stdout",
          "text": [
            "32/32 [==============================] - 2s 45ms/step\n"
          ]
        }
      ]
    },
    {
      "cell_type": "code",
      "source": [
        "y_train[0][0:10] - data_normal[0][0:10]"
      ],
      "metadata": {
        "colab": {
          "base_uri": "https://localhost:8080/"
        },
        "id": "fyoJxfs3OIqk",
        "outputId": "a734c392-0537-4a52-a0f8-0ff30fa7d243"
      },
      "execution_count": 60,
      "outputs": [
        {
          "output_type": "execute_result",
          "data": {
            "text/plain": [
              "array([[ 0.7721039 ],\n",
              "       [ 0.3505633 ],\n",
              "       [-0.09241026],\n",
              "       [ 0.7873119 ],\n",
              "       [ 0.8855103 ],\n",
              "       [ 0.7648237 ],\n",
              "       [-0.11371455],\n",
              "       [ 0.01654077],\n",
              "       [ 0.00854427],\n",
              "       [-0.05025525]], dtype=float32)"
            ]
          },
          "metadata": {},
          "execution_count": 60
        }
      ]
    },
    {
      "cell_type": "code",
      "source": [
        "y_test = model.predict(data_issue)\n",
        "\n",
        "y_test[0][0:10] - data_issue[0][0:10]"
      ],
      "metadata": {
        "colab": {
          "base_uri": "https://localhost:8080/"
        },
        "id": "-nUNI73OOQ-U",
        "outputId": "8faf6a3e-f4da-4f7c-f60b-2e6e7bca2419"
      },
      "execution_count": 61,
      "outputs": [
        {
          "output_type": "stream",
          "name": "stdout",
          "text": [
            "13/13 [==============================] - 1s 53ms/step\n"
          ]
        },
        {
          "output_type": "execute_result",
          "data": {
            "text/plain": [
              "array([[-0.26956728],\n",
              "       [-0.15687355],\n",
              "       [ 0.4190607 ],\n",
              "       [-0.30636466],\n",
              "       [-0.21807292],\n",
              "       [-0.4718401 ],\n",
              "       [ 0.55456746],\n",
              "       [-0.74894303],\n",
              "       [ 0.03146162],\n",
              "       [-0.07448705]], dtype=float32)"
            ]
          },
          "metadata": {},
          "execution_count": 61
        }
      ]
    },
    {
      "cell_type": "code",
      "source": [],
      "metadata": {
        "id": "xFAx57PQT7Wx"
      },
      "execution_count": null,
      "outputs": []
    }
  ]
}