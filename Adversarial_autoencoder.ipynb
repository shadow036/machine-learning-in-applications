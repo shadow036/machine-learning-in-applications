{
 "cells": [
  {
   "cell_type": "code",
   "execution_count": 1,
   "outputs": [],
   "source": [
    "import time\n",
    "import os\n",
    "from pathlib import Path\n",
    "\n",
    "import matplotlib.pyplot as plt\n",
    "from matplotlib import gridspec\n",
    "import matplotlib.patches as mpatches\n",
    "import numpy as np\n",
    "import tensorflow as tf\n",
    "\n",
    "\n",
    "import pandas as pd\n",
    "import seaborn as sns\n",
    "from sklearn import preprocessing\n",
    "from keras import layers, losses\n",
    "from keras.models import Sequential\n",
    "from sklearn import metrics\n",
    "from tqdm import tqdm\n",
    "from keras.optimizers import Adam\n",
    "from keras.layers import InputLayer, LSTM, Dense, RepeatVector, TimeDistributed, LayerNormalization, Dropout\n",
    "from keras.models import Model"
   ],
   "metadata": {
    "collapsed": false,
    "pycharm": {
     "name": "#%%\n"
    }
   }
  },
  {
   "cell_type": "code",
   "execution_count": 3,
   "outputs": [],
   "source": [
    "try:\n",
    "    # enable all GPUS\n",
    "    tf.config.set_visible_devices([], 'GPU')\n",
    "    visible_devices = tf.config.get_visible_devices()\n",
    "    for device in visible_devices:\n",
    "        assert device.device_type == 'GPU'\n",
    "except:\n",
    "    # Invalid device or cannot modify virtual devices once initialized.\n",
    "    pass"
   ],
   "metadata": {
    "collapsed": false,
    "pycharm": {
     "name": "#%%\n"
    }
   }
  },
  {
   "cell_type": "markdown",
   "source": [
    "## Data Loading"
   ],
   "metadata": {
    "collapsed": false
   }
  },
  {
   "cell_type": "code",
   "execution_count": 4,
   "outputs": [],
   "source": [
    "# Set the directories\n",
    "DATA_DIR_SLOW = \"/Users/kedi/Desktop/polito lectures and notes/ML in App/project/KukaVelocityDataset/KukaSlow.npy\"\n",
    "DATA_DIR_NORMAL = \"/Users/kedi/Desktop/polito lectures and notes/ML in App/project/KukaVelocityDataset/KukaNormal.npy\"\n",
    "DATA_DIR_C_NAMES = \"/Users/kedi/Desktop/polito lectures and notes/ML in App/project/KukaVelocityDataset/KukaColumnNames.npy\"\n",
    "\n",
    "# Set style for matplotlib\n",
    "plt.style.use(\"Solarize_Light2\")"
   ],
   "metadata": {
    "collapsed": false,
    "pycharm": {
     "name": "#%%\n"
    }
   }
  },
  {
   "cell_type": "code",
   "execution_count": 5,
   "outputs": [],
   "source": [
    "# Load the files\n",
    "data_normal = np.load(DATA_DIR_NORMAL)\n",
    "data_slow = np.load(DATA_DIR_SLOW)\n",
    "column_names = np.load(DATA_DIR_C_NAMES)"
   ],
   "metadata": {
    "collapsed": false,
    "pycharm": {
     "name": "#%%\n"
    }
   }
  },
  {
   "cell_type": "code",
   "execution_count": 6,
   "outputs": [
    {
     "name": "stdout",
     "output_type": "stream",
     "text": [
      "['action' 'machine_nameKuka Robot_apparent_power'\n",
      " 'machine_nameKuka Robot_current' 'machine_nameKuka Robot_frequency'\n",
      " 'machine_nameKuka Robot_phase_angle' 'machine_nameKuka Robot_power'\n",
      " 'machine_nameKuka Robot_power_factor'\n",
      " 'machine_nameKuka Robot_reactive_power' 'machine_nameKuka Robot_voltage'\n",
      " 'sensor_id1_AccX' 'sensor_id1_AccY' 'sensor_id1_AccZ' 'sensor_id1_GyroX'\n",
      " 'sensor_id1_GyroY' 'sensor_id1_GyroZ' 'sensor_id1_q1' 'sensor_id1_q2'\n",
      " 'sensor_id1_q3' 'sensor_id1_q4' 'sensor_id1_temp' 'sensor_id2_AccX'\n",
      " 'sensor_id2_AccY' 'sensor_id2_AccZ' 'sensor_id2_GyroX' 'sensor_id2_GyroY'\n",
      " 'sensor_id2_GyroZ' 'sensor_id2_q1' 'sensor_id2_q2' 'sensor_id2_q3'\n",
      " 'sensor_id2_q4' 'sensor_id2_temp' 'sensor_id3_AccX' 'sensor_id3_AccY'\n",
      " 'sensor_id3_AccZ' 'sensor_id3_GyroX' 'sensor_id3_GyroY'\n",
      " 'sensor_id3_GyroZ' 'sensor_id3_q1' 'sensor_id3_q2' 'sensor_id3_q3'\n",
      " 'sensor_id3_q4' 'sensor_id3_temp' 'sensor_id4_AccX' 'sensor_id4_AccY'\n",
      " 'sensor_id4_AccZ' 'sensor_id4_GyroX' 'sensor_id4_GyroY'\n",
      " 'sensor_id4_GyroZ' 'sensor_id4_q1' 'sensor_id4_q2' 'sensor_id4_q3'\n",
      " 'sensor_id4_q4' 'sensor_id4_temp' 'sensor_id5_AccX' 'sensor_id5_AccY'\n",
      " 'sensor_id5_AccZ' 'sensor_id5_GyroX' 'sensor_id5_GyroY'\n",
      " 'sensor_id5_GyroZ' 'sensor_id5_q1' 'sensor_id5_q2' 'sensor_id5_q3'\n",
      " 'sensor_id5_q4' 'sensor_id5_temp' 'sensor_id6_AccX' 'sensor_id6_AccY'\n",
      " 'sensor_id6_AccZ' 'sensor_id6_GyroX' 'sensor_id6_GyroY'\n",
      " 'sensor_id6_GyroZ' 'sensor_id6_q1' 'sensor_id6_q2' 'sensor_id6_q3'\n",
      " 'sensor_id6_q4' 'sensor_id6_temp' 'sensor_id7_AccX' 'sensor_id7_AccY'\n",
      " 'sensor_id7_AccZ' 'sensor_id7_GyroX' 'sensor_id7_GyroY'\n",
      " 'sensor_id7_GyroZ' 'sensor_id7_q1' 'sensor_id7_q2' 'sensor_id7_q3'\n",
      " 'sensor_id7_q4' 'sensor_id7_temp' 'anomaly']\n"
     ]
    }
   ],
   "source": [
    "# Check the column names\n",
    "print(column_names)"
   ],
   "metadata": {
    "collapsed": false,
    "pycharm": {
     "name": "#%%\n"
    }
   }
  },
  {
   "cell_type": "markdown",
   "source": [
    "## Data Setup"
   ],
   "metadata": {
    "collapsed": false
   }
  },
  {
   "cell_type": "code",
   "execution_count": 7,
   "outputs": [],
   "source": [
    "# prepare labels and separate them from data-slow\n",
    "label_slow = data_slow[:,-1:] - 1\n",
    "data_slow = data_slow[:,:-1]"
   ],
   "metadata": {
    "collapsed": false,
    "pycharm": {
     "name": "#%%\n"
    }
   }
  },
  {
   "cell_type": "code",
   "execution_count": 8,
   "outputs": [
    {
     "name": "stdout",
     "output_type": "stream",
     "text": [
      "{3: [5, array([49.902534, 49.951218, 50.      , 50.048878, 50.097847])], 30: [1, array([144.12])], 41: [2, array([120.3 , 144.12])], 52: [3, array([-175.86,    9.59,  144.12])], 63: [1, array([144.12])], 74: [1, array([180.24])], 85: [1, array([180.24])]} 7\n"
     ]
    }
   ],
   "source": [
    "# Find the features that have less variable values than given threshold\n",
    "threshold = 31\n",
    "\n",
    "unique = {}\n",
    "for i in range(data_normal.shape[1]):\n",
    "    classes = np.unique(data_normal[:,i])\n",
    "    if len(classes) < threshold:\n",
    "        unique[i] = [len(classes) , classes]\n",
    "print(unique, len(unique))\n",
    "delete_list = []\n",
    "for i in range(data_normal.shape[1]):\n",
    "    if i not in unique.keys():\n",
    "        delete_list.append(False)\n",
    "    else:\n",
    "        delete_list.append(True)"
   ],
   "metadata": {
    "collapsed": false,
    "pycharm": {
     "name": "#%%\n"
    }
   }
  },
  {
   "cell_type": "code",
   "execution_count": 9,
   "outputs": [
    {
     "name": "stdout",
     "output_type": "stream",
     "text": [
      "Shape of slow data after basic feature selection: (41538, 79) \n",
      "For normal data: (233792, 79)\n"
     ]
    }
   ],
   "source": [
    "# Take the features less variable than given threshold\n",
    "data_normal_dr = np.delete(data_normal, delete_list, axis=1)\n",
    "data_slow_dr = np.delete(data_slow, delete_list, axis=1)\n",
    "print(f\"Shape of slow data after basic feature selection: {data_slow_dr.shape} \\nFor normal data: {data_normal_dr.shape}\")"
   ],
   "metadata": {
    "collapsed": false,
    "pycharm": {
     "name": "#%%\n"
    }
   }
  },
  {
   "cell_type": "code",
   "execution_count": 10,
   "outputs": [],
   "source": [
    "# Normalization train on train set transform both\n",
    "scaler = preprocessing.StandardScaler().fit(data_normal_dr)\n",
    "data_train_scaled = scaler.transform(data_normal_dr)\n",
    "data_test_scaled = scaler.transform(data_slow_dr)"
   ],
   "metadata": {
    "collapsed": false,
    "pycharm": {
     "name": "#%%\n"
    }
   }
  },
  {
   "cell_type": "code",
   "execution_count": 11,
   "outputs": [
    {
     "name": "stdout",
     "output_type": "stream",
     "text": [
      "train data shape: (233744, 48, 79) \n",
      " test data shape: (41490, 48, 79) \n"
     ]
    }
   ],
   "source": [
    "#windows of 48 with stride 1\n",
    "width_window = 48\n",
    "data_train_all = np.array([data_train_scaled[i:i+width_window,:] for i in range(0, len(data_train_scaled)-width_window)])\n",
    "data_test_all = np.array([data_test_scaled[i:i+width_window,:] for i in range(0, len(data_test_scaled)-width_window)])\n",
    "print(f\"train data shape: {data_train_all.shape} \\n test data shape: {data_test_all.shape} \")"
   ],
   "metadata": {
    "collapsed": false,
    "pycharm": {
     "name": "#%%\n"
    }
   }
  },
  {
   "cell_type": "code",
   "execution_count": 12,
   "outputs": [
    {
     "name": "stdout",
     "output_type": "stream",
     "text": [
      "train data shape: (233744, 48, 79) \n",
      "\n"
     ]
    }
   ],
   "source": [
    "# Shuffle the data\n",
    "mix_data = True\n",
    "seed = 0\n",
    "if mix_data:\n",
    "    data_train_all = tf.random.shuffle(data_train_all)\n",
    "print(f\"train data shape: {data_train_all.shape} \\n\")"
   ],
   "metadata": {
    "collapsed": false,
    "pycharm": {
     "name": "#%%\n"
    }
   }
  },
  {
   "cell_type": "code",
   "execution_count": 46,
   "outputs": [
    {
     "name": "stdout",
     "output_type": "stream",
     "text": [
      "train data shape: (140246, 48, 79) \n",
      "test data shape: (41490, 48, 79) \n",
      "label shape: (41490, 1) \n",
      "\n",
      "test data prepared: (82980, 48, 79) \n",
      "label prepared: (82980, 1) \n",
      "\n",
      "data validation: (46749, 48, 79)\n"
     ]
    }
   ],
   "source": [
    "# First 60 percent for training, 20 percent for validation between 60-80, 20 percent for test from 80-100\n",
    "percentage_train = 0.6\n",
    "percentage_test = 1.\n",
    "validation = [0.60, 0.80]\n",
    "test = 0.80\n",
    "\n",
    "# take part of data to gather results faster\n",
    "data_train = data_train_all[0:int(percentage_train*data_train_all.shape[0]),:,:]\n",
    "data_test = data_test_all[0:int(percentage_test*data_test_all.shape[0]),:,:]\n",
    "\n",
    "# mixed test data 50-50\n",
    "data_test_mixed = np.zeros((2*data_test.shape[0], data_test.shape[1], data_test.shape[2]))\n",
    "data_test_mixed[0:int(data_test.shape[0]),:,:] += data_test\n",
    "data_test_mixed[int(data_test.shape[0]):,:,:] += data_train_all[int(test*data_train_all.shape[0]): int(test*data_train_all.shape[0])+data_test.shape[0],:,:]\n",
    "\n",
    "# set labels\n",
    "label_test = label_slow[0:data_test.shape[0]]\n",
    "label_test_mixed = np.zeros((data_test_mixed.shape[0], 1))\n",
    "label_test_mixed[0:label_test.shape[0]] += label_test\n",
    "\n",
    "# Validation data\n",
    "data_validation = data_train_all[int(validation[0]*data_train_all.shape[0]): int(validation[1]*data_train_all.shape[0]),:,:]\n",
    "\n",
    "\n",
    "print(f\"train data shape: {data_train.shape} \\ntest data shape: {data_test.shape} \\nlabel shape: {label_test.shape} \\n\\ntest data prepared: {data_test_mixed.shape} \\nlabel prepared: {label_test_mixed.shape} \\n\\ndata validation: {data_validation.shape}\")"
   ],
   "metadata": {
    "collapsed": false,
    "pycharm": {
     "name": "#%%\n"
    }
   }
  },
  {
   "cell_type": "markdown",
   "source": [
    "## Model"
   ],
   "metadata": {
    "collapsed": false
   }
  },
  {
   "cell_type": "code",
   "execution_count": 14,
   "outputs": [],
   "source": [
    "# set these variables before model creation\n",
    "\n",
    "latent_size = 10\n",
    "input_shape = data_train.shape[1:]\n",
    "n_features = data_train.shape[2]\n",
    "width_window = 48\n",
    "dropout = False\n",
    "layer_norm = True"
   ],
   "metadata": {
    "collapsed": false,
    "pycharm": {
     "name": "#%%\n"
    }
   }
  },
  {
   "cell_type": "code",
   "execution_count": 15,
   "outputs": [],
   "source": [
    "# Autoencoder class\n",
    "class Autoencoder(Model):\n",
    "  def __init__(self, encoder, decoder, latent_dim):\n",
    "    super(Autoencoder, self).__init__()\n",
    "    self.latent_dim = latent_dim\n",
    "    self.encoder = encoder\n",
    "    self.decoder = decoder\n",
    "\n",
    "  def call(self, x):\n",
    "    encoded = self.encoder(x)\n",
    "    decoded = self.decoder(encoded)\n",
    "    return decoded"
   ],
   "metadata": {
    "collapsed": false,
    "pycharm": {
     "name": "#%%\n"
    }
   }
  },
  {
   "cell_type": "code",
   "execution_count": 32,
   "outputs": [],
   "source": [
    "# Encoder, Decoder, Discriminator functions\n",
    "\n",
    "def build_model_enc():\n",
    "    model = Sequential()\n",
    "    model.add(LSTM(latent_size*16, activation='relu', input_shape=input_shape, return_sequences=True, recurrent_initializer='random_normal'))\n",
    "    if layer_norm : model.add(LayerNormalization())\n",
    "    if dropout : model.add(Dropout(0.2))\n",
    "    model.add(LSTM(latent_size*8, activation='relu', return_sequences=True, recurrent_initializer='random_normal'))\n",
    "    if layer_norm : model.add(LayerNormalization())\n",
    "    if dropout : model.add(Dropout(0.2))\n",
    "    model.add(LSTM(latent_size*4, activation='relu', return_sequences=True, recurrent_initializer='random_normal'))\n",
    "    if layer_norm : model.add(LayerNormalization())\n",
    "    if dropout : model.add(Dropout(0.2))\n",
    "    model.add(LSTM(latent_size*2, activation='relu', return_sequences=True, recurrent_initializer='random_normal'))\n",
    "    if layer_norm : model.add(LayerNormalization())\n",
    "    if dropout : model.add(Dropout(0.2))\n",
    "    model.add(LSTM(latent_size, activation='relu', return_sequences=False, recurrent_initializer='random_normal'))\n",
    "    if layer_norm : model.add(LayerNormalization())\n",
    "    if dropout : model.add(Dropout(0.2))\n",
    "    model.add(RepeatVector(width_window))\n",
    "    return model\n",
    "\n",
    "def build_model_dec():\n",
    "    model = Sequential()\n",
    "\n",
    "    model.add(LSTM(latent_size, activation='relu', return_sequences=True, recurrent_initializer='random_normal'))\n",
    "    if layer_norm : model.add(LayerNormalization())\n",
    "    if dropout : model.add(Dropout(0.2))\n",
    "    model.add(LSTM(latent_size*2, activation='relu', return_sequences=True, recurrent_initializer='random_normal'))\n",
    "    if layer_norm : model.add(LayerNormalization())\n",
    "    if dropout : model.add(Dropout(0.2))\n",
    "    model.add(LSTM(latent_size*4, activation='relu', return_sequences=True, recurrent_initializer='random_normal'))\n",
    "    if layer_norm : model.add(LayerNormalization())\n",
    "    if dropout : model.add(Dropout(0.2))\n",
    "    model.add(LSTM(latent_size*8, activation='relu', return_sequences=True, recurrent_initializer='random_normal'))\n",
    "    if layer_norm : model.add(LayerNormalization())\n",
    "    if dropout : model.add(Dropout(0.2))\n",
    "    model.add(LSTM(latent_size*16, activation='relu', return_sequences=True, recurrent_initializer='random_normal'))\n",
    "    if layer_norm : model.add(LayerNormalization())\n",
    "    if dropout : model.add(Dropout(0.2))\n",
    "    model.add(TimeDistributed(Dense(units=n_features)))\n",
    "    return model\n",
    "\n",
    "\n",
    "def make_discriminator_z_model():\n",
    "    encoded = tf.keras.Input(shape=(width_window, latent_size))\n",
    "    x = tf.keras.layers.Dense(128)(encoded)\n",
    "    x = tf.keras.layers.LeakyReLU(0.2)(x)\n",
    "    x = tf.keras.layers.Dense(128)(x)\n",
    "    x = tf.keras.layers.LeakyReLU(0.2)(x)\n",
    "    prediction = tf.keras.layers.Dense(1)(x)\n",
    "    model = tf.keras.Model(inputs=encoded, outputs=prediction)\n",
    "    return model\n",
    "\n",
    "\n",
    "def make_discriminator_x_model():\n",
    "    inputs = tf.keras.layers.Input(shape=(width_window, 79))\n",
    "\n",
    "    x = tf.keras.layers.Conv1D(filters=16, kernel_size=4, strides=2, padding='same')(inputs)\n",
    "    x = tf.keras.layers.LeakyReLU(0.2)(x)\n",
    "    x = tf.keras.layers.Conv1D(filters=28, kernel_size=4, strides=2, padding='same')(x)\n",
    "    x = tf.keras.layers.BatchNormalization()(x)\n",
    "    x = tf.keras.layers.LeakyReLU(0.2)(x)\n",
    "    x = tf.keras.layers.Conv1D(filters=48, kernel_size=4, strides=2, padding='same')(x)\n",
    "    x = tf.keras.layers.BatchNormalization()(x)\n",
    "    x = tf.keras.layers.LeakyReLU(0.2)(x)\n",
    "    z = tf.keras.layers.Conv1D(filters=1, kernel_size=4, strides=1, padding='valid')(x)\n",
    "\n",
    "    model = tf.keras.Model(inputs=inputs, outputs=z)\n",
    "    return model\n",
    "\n",
    "\n",
    "\n",
    "\n",
    "# def build_model_disc_z():\n",
    "#     model = Sequential()\n",
    "#     #model.add(layers.Dense(256, activation=\"relu\", input_shape=(width_window, latent_size)))\n",
    "#     model.add(layers.Dense(64, activation=\"relu\", input_shape=(width_window, latent_size)))\n",
    "#     model.add(layers.Dense(64, activation=\"relu\"))\n",
    "#     #model.add(layers.Dense(16, activation=\"relu\"))\n",
    "#     model.add(layers.Dense(1, activation=\"sigmoid\"))\n",
    "#     return model\n",
    "#\n",
    "# def build_model_disc_x():\n",
    "#     model = Sequential()\n",
    "#     #model.add(layers.Dense(256, activation=\"relu\", input_shape=(width_window, latent_size)))\n",
    "#     model.add(layers.Dense(64, activation=\"relu\", input_shape=input_shape))\n",
    "#     model.add(layers.Dense(64, activation=\"relu\"))\n",
    "#     #model.add(layers.Dense(16, activation=\"relu\"))\n",
    "#     model.add(layers.Dense(1, activation=\"sigmoid\"))\n",
    "#     return model"
   ],
   "metadata": {
    "collapsed": false,
    "pycharm": {
     "name": "#%%\n"
    }
   }
  },
  {
   "cell_type": "markdown",
   "source": [
    "## Adversarial Autoencoder - Build Models & Create loss functions"
   ],
   "metadata": {
    "collapsed": false
   }
  },
  {
   "cell_type": "code",
   "execution_count": 33,
   "outputs": [],
   "source": [
    "# build functions for models\n",
    "\n",
    "def build_models():\n",
    "    model_enc = build_model_enc()\n",
    "    model_dec = build_model_dec()\n",
    "    discriminator_z = make_discriminator_z_model()\n",
    "    discriminator_x = make_discriminator_x_model()\n",
    "\n",
    "    model_ae = Autoencoder(model_enc, model_dec, latent_size)\n",
    "    model_ae.build(input_shape=(None, input_shape[0], input_shape[1]))\n",
    "\n",
    "    return model_ae, discriminator_z, discriminator_x\n",
    "\n",
    "def build_aae():\n",
    "    model_ae, discriminator_z, discriminator_x = build_models()\n",
    "\n",
    "    ae_optimizer = Adam(learning_rate=learning_rate_ae)\n",
    "    dc_z_optimizer = Adam(learning_rate=learning_rate_disc)\n",
    "    gen_z_optimizer = Adam(learning_rate=learning_rate_gen)\n",
    "    dc_x_optimizer = Adam(learning_rate=learning_rate_disc)\n",
    "    gen_x_optimizer = Adam(learning_rate=learning_rate_gen)\n",
    "\n",
    "    try:\n",
    "        with tf.device('/GPU'):\n",
    "            #data_train = tf.convert_to_tensor(data_train, dtype=tf.int32)\n",
    "\n",
    "            # discriminator z\n",
    "            discriminator_z = discriminator_z\n",
    "            discriminator_z.compile(optimizer=dc_z_optimizer, loss=discriminator_loss)\n",
    "            discriminator_z.summary()\n",
    "\n",
    "            # discriminator x\n",
    "            discriminator_x = discriminator_x\n",
    "            discriminator_x.compile(optimizer=dc_x_optimizer, loss=discriminator_loss)\n",
    "            discriminator_x.summary()\n",
    "\n",
    "            # auto encoder\n",
    "            model_ae = model_ae\n",
    "            model_ae.compile(optimizer=ae_optimizer, loss=autoencoder_loss)\n",
    "            model_ae.summary()\n",
    "    except RuntimeError as e:\n",
    "        print(e)\n",
    "    return model_ae , discriminator_z, discriminator_x, ae_optimizer, dc_z_optimizer, gen_z_optimizer, dc_x_optimizer, gen_x_optimizer"
   ],
   "metadata": {
    "collapsed": false,
    "pycharm": {
     "name": "#%%\n"
    }
   }
  },
  {
   "cell_type": "code",
   "execution_count": 34,
   "outputs": [],
   "source": [
    "# Optimizers\n",
    "cross_entropy = tf.keras.losses.BinaryCrossentropy() #from_logits=True\n",
    "mse = tf.keras.losses.MeanSquaredError()\n",
    "accuracy = tf.keras.metrics.BinaryAccuracy()\n",
    "\n",
    "# Loss functions for autoencoder, discriminator and generator\n",
    "def autoencoder_loss(inputs, reconstruction, loss_weight):\n",
    "    weighted_mse_loss =  loss_weight * mse(inputs, reconstruction)\n",
    "    return weighted_mse_loss\n",
    "\n",
    "def discriminator_loss(real_output, fake_output, loss_weight):\n",
    "    loss_real = cross_entropy(tf.ones_like(real_output), real_output)\n",
    "    loss_fake = cross_entropy(tf.zeros_like(fake_output), fake_output)\n",
    "    weighted_c_e = loss_weight * (loss_fake + loss_real)\n",
    "    return weighted_c_e\n",
    "\n",
    "def generator_loss(fake_output, loss_weight):\n",
    "    weighted_c_e = loss_weight * cross_entropy(tf.ones_like(fake_output), fake_output)\n",
    "    return weighted_c_e"
   ],
   "metadata": {
    "collapsed": false,
    "pycharm": {
     "name": "#%%\n"
    }
   }
  },
  {
   "cell_type": "code",
   "execution_count": 35,
   "outputs": [],
   "source": [
    "# Train function for optimizing gradients for each batch\n",
    "comment = False\n",
    "def train_step(batch_x):\n",
    "    ae_loss, dc_z_loss, dc_z_acc, gen_z_loss, dc_x_loss, dc_x_acc, gen_x_loss = 0,0,0,0,0,0,0\n",
    "    # -------------------------------------------------------------------------------------------------------------\n",
    "    # Autoencoder\n",
    "    with tf.GradientTape() as ae_tape:\n",
    "        encoded = model_ae.encoder(batch_x, training=True)\n",
    "        decoded = model_ae.decoder(encoded, training=True)\n",
    "\n",
    "        if comment is True : print(f\"Train step: \\nbatch_x: {batch_x.shape}, decoded: {decoded.shape}\")\n",
    "        # Autoencoder loss\n",
    "        ae_loss = autoencoder_loss(batch_x, decoded, ae_loss_weight)\n",
    "\n",
    "    ae_grads = ae_tape.gradient(ae_loss, model_ae.encoder.trainable_variables + model_ae.decoder.trainable_variables)\n",
    "    ae_optimizer.apply_gradients(zip(ae_grads, model_ae.encoder.trainable_variables + model_ae.decoder.trainable_variables))\n",
    "\n",
    "    # -------------------------------------------------------------------------------------------------------------\n",
    "    if Z:\n",
    "        # Discriminator Z\n",
    "        with tf.GradientTape() as dc_tape_z:\n",
    "            real_distribution = tf.random.normal([batch_x.shape[0], width_window, latent_size], mean=0.0, stddev=1.0)\n",
    "            encoded = model_ae.encoder(batch_x, training=True)\n",
    "\n",
    "            dc_real = discriminator_z(real_distribution, training=True)\n",
    "            dc_fake = discriminator_z(encoded, training=True)\n",
    "\n",
    "            # Discriminator Loss\n",
    "            dc_z_loss = discriminator_loss(dc_real, dc_fake, dc_loss_weight)\n",
    "\n",
    "            # Discriminator Acc\n",
    "            dc_z_acc = accuracy(tf.concat([tf.ones_like(dc_real), tf.zeros_like(dc_fake)], axis=0),\n",
    "                              tf.concat([dc_real, dc_fake], axis=0))\n",
    "\n",
    "        dc_grads_z = dc_tape_z.gradient(dc_z_loss, discriminator_z.trainable_variables)\n",
    "        dc_z_optimizer.apply_gradients(zip(dc_grads_z, discriminator_z.trainable_variables))\n",
    "\n",
    "        # -------------------------------------------------------------------------------------------------------------\n",
    "        # Generator (Encoder) Z\n",
    "        with tf.GradientTape() as gen_tape_z:\n",
    "            encoded = model_ae.encoder(batch_x, training=True)\n",
    "            gen_output = discriminator_z(encoded, training=True)\n",
    "\n",
    "            # Generator loss\n",
    "            gen_z_loss = generator_loss(gen_output, gen_loss_weight)\n",
    "\n",
    "        gen_grads_z = gen_tape_z.gradient(gen_z_loss, model_ae.encoder.trainable_variables)\n",
    "        gen_z_optimizer.apply_gradients(zip(gen_grads_z, model_ae.encoder.trainable_variables))\n",
    "        # -------------------------------------------------------------------------------------------------------------\n",
    "    if X:\n",
    "        # Discriminator X\n",
    "        with tf.GradientTape() as dc_tape_x:\n",
    "            real_distribution = tf.random.normal([batch_x.shape[0], width_window, latent_size], mean=0.0, stddev=1.0)\n",
    "            encoded = model_ae.encoder(batch_x, training=True)\n",
    "            decoded = model_ae.decoder(encoded, training=True)\n",
    "\n",
    "            x_real_dist = discriminator_x(batch_x, training=True)\n",
    "            x_const_dist = discriminator_x(decoded, training=True)\n",
    "\n",
    "            # Discriminator Loss\n",
    "            dc_x_loss = discriminator_loss(x_real_dist, x_const_dist, dc_loss_weight)\n",
    "\n",
    "            # Discriminator Acc\n",
    "            dc_x_acc = accuracy(tf.concat([tf.ones_like(x_real_dist), tf.zeros_like(x_const_dist)], axis=0),\n",
    "                              tf.concat([x_real_dist, x_const_dist], axis=0))\n",
    "\n",
    "        dc_grads_x = dc_tape_x.gradient(dc_x_loss, discriminator_x.trainable_variables)\n",
    "        dc_x_optimizer.apply_gradients(zip(dc_grads_x, discriminator_x.trainable_variables))\n",
    "\n",
    "        # -------------------------------------------------------------------------------------------------------------\n",
    "        # Generator (Encoder) X\n",
    "        with tf.GradientTape() as gen_tap_x:\n",
    "            encoded = model_ae.encoder(batch_x, training=True)\n",
    "            decoded = model_ae.decoder(encoded, training=True)\n",
    "\n",
    "            gen_output = discriminator_x(decoded, training=True)\n",
    "\n",
    "            # Generator loss\n",
    "            gen_x_loss = generator_loss(gen_output, gen_loss_weight)\n",
    "\n",
    "        gen_grads_x = gen_tap_x.gradient(gen_x_loss, model_ae.decoder.trainable_variables)\n",
    "        gen_x_optimizer.apply_gradients(zip(gen_grads_x, model_ae.decoder.trainable_variables))\n",
    "\n",
    "    return ae_loss, dc_z_loss, dc_z_acc, gen_z_loss, dc_x_loss, dc_x_acc, gen_x_loss"
   ],
   "metadata": {
    "collapsed": false,
    "pycharm": {
     "name": "#%%\n"
    }
   }
  },
  {
   "cell_type": "code",
   "execution_count": 49,
   "outputs": [
    {
     "name": "stdout",
     "output_type": "stream",
     "text": [
      "Model: \"model_28\"\n",
      "_________________________________________________________________\n",
      " Layer (type)                Output Shape              Param #   \n",
      "=================================================================\n",
      " input_29 (InputLayer)       [(None, 48, 10)]          0         \n",
      "                                                                 \n",
      " dense_57 (Dense)            (None, 48, 128)           1408      \n",
      "                                                                 \n",
      " leaky_re_lu_70 (LeakyReLU)  (None, 48, 128)           0         \n",
      "                                                                 \n",
      " dense_58 (Dense)            (None, 48, 128)           16512     \n",
      "                                                                 \n",
      " leaky_re_lu_71 (LeakyReLU)  (None, 48, 128)           0         \n",
      "                                                                 \n",
      " dense_59 (Dense)            (None, 48, 1)             129       \n",
      "                                                                 \n",
      "=================================================================\n",
      "Total params: 18,049\n",
      "Trainable params: 18,049\n",
      "Non-trainable params: 0\n",
      "_________________________________________________________________\n",
      "Model: \"model_29\"\n",
      "_________________________________________________________________\n",
      " Layer (type)                Output Shape              Param #   \n",
      "=================================================================\n",
      " input_30 (InputLayer)       [(None, 48, 79)]          0         \n",
      "                                                                 \n",
      " conv1d_56 (Conv1D)          (None, 24, 16)            5072      \n",
      "                                                                 \n",
      " leaky_re_lu_72 (LeakyReLU)  (None, 24, 16)            0         \n",
      "                                                                 \n",
      " conv1d_57 (Conv1D)          (None, 12, 28)            1820      \n",
      "                                                                 \n",
      " batch_normalization_28 (Bat  (None, 12, 28)           112       \n",
      " chNormalization)                                                \n",
      "                                                                 \n",
      " leaky_re_lu_73 (LeakyReLU)  (None, 12, 28)            0         \n",
      "                                                                 \n",
      " conv1d_58 (Conv1D)          (None, 6, 48)             5424      \n",
      "                                                                 \n",
      " batch_normalization_29 (Bat  (None, 6, 48)            192       \n",
      " chNormalization)                                                \n",
      "                                                                 \n",
      " leaky_re_lu_74 (LeakyReLU)  (None, 6, 48)             0         \n",
      "                                                                 \n",
      " conv1d_59 (Conv1D)          (None, 3, 1)              193       \n",
      "                                                                 \n",
      "=================================================================\n",
      "Total params: 12,813\n",
      "Trainable params: 12,661\n",
      "Non-trainable params: 152\n",
      "_________________________________________________________________\n",
      "Model: \"autoencoder_14\"\n",
      "_________________________________________________________________\n",
      " Layer (type)                Output Shape              Param #   \n",
      "=================================================================\n",
      " sequential_28 (Sequential)  (None, 48, 10)            256820    \n",
      "                                                                 \n",
      " sequential_29 (Sequential)  (None, 48, 79)            219379    \n",
      "                                                                 \n",
      "=================================================================\n",
      "Total params: 476,199\n",
      "Trainable params: 476,199\n",
      "Non-trainable params: 0\n",
      "_________________________________________________________________\n"
     ]
    }
   ],
   "source": [
    "# Regularization on latent code (Z) and/or reconstructed time-series (X)\n",
    "X = True\n",
    "Z = False\n",
    "\n",
    "# Learning rates and loss weights to be able to keep balance between models\n",
    "learning_rate_ae = 1e-4\n",
    "learning_rate_gen = 5e-5\n",
    "learning_rate_disc = 5e-6\n",
    "max_learning_rate = 5e-5\n",
    "\n",
    "ae_loss_weight = 1.\n",
    "gen_loss_weight = 1.\n",
    "dc_loss_weight = 1.\n",
    "\n",
    "batch_size = 128\n",
    "\n",
    "# bould adversarial autoencoder\n",
    "model_ae , discriminator_z, discriminator_x, ae_optimizer, dc_z_optimizer, gen_z_optimizer, dc_x_optimizer, gen_x_optimizer = build_aae()\n",
    "\n",
    "# split to data to batches\n",
    "train_dataset = tf.data.Dataset.from_tensor_slices(data_train)\n",
    "train_dataset = train_dataset.batch(batch_size)"
   ],
   "metadata": {
    "collapsed": false,
    "pycharm": {
     "name": "#%%\n"
    }
   }
  },
  {
   "cell_type": "code",
   "execution_count": null,
   "outputs": [
    {
     "name": "stdout",
     "output_type": "stream",
     "text": [
      "Weights will be saved in: /Users/kedi/Desktop/polito lectures and notes/ML in App/project/checkpoints/30_10_5_layer_AAE_0\n"
     ]
    }
   ],
   "source": [
    "# And training phase\n",
    "n_epochs = 30\n",
    "train_autoencoder_loss = []\n",
    "train_generator_loss_z = []\n",
    "train_discriminator_loss_z = []\n",
    "train_discriminator_acc_z = []\n",
    "\n",
    "train_generator_loss_x = []\n",
    "train_discriminator_loss_x = []\n",
    "train_discriminator_acc_x = []\n",
    "\n",
    "# if validation information needed (it takes more time for training)\n",
    "# test_cost = []\n",
    "# train_cost = []\n",
    "# validation_cost = []\n",
    "\n",
    "# cyclic learning rate variables\n",
    "# n_samples = data_train.shape[0]\n",
    "# step_size = 2 * np.ceil(n_samples / batch_size)\n",
    "# global_step = 0\n",
    "\n",
    "# keep the best loss of autoencoder\n",
    "last_best = 9\n",
    "last_loss = 10\n",
    "shape = F\"{latent_size}_5_layer_AAE_0\"\n",
    "checkpoint_dir = \"/Users/kedi/Desktop/polito lectures and notes/ML in App/project/checkpoints\"\n",
    "model_dir = f\"{checkpoint_dir}/{n_epochs}_{shape}\"\n",
    "if not os.path.exists(model_dir):\n",
    "    os.mkdir(model_dir)\n",
    "print(f\"Weights will be saved in: {model_dir}\")\n",
    "for epoch in range(n_epochs):\n",
    "    start = time.time()\n",
    "\n",
    "    # Save the best model\n",
    "    if epoch != 0 and (last_best>last_loss):\n",
    "        best_path = f\"{model_dir}/best\"\n",
    "        if not os.path.exists(best_path):\n",
    "            os.mkdir(best_path)\n",
    "            os.mkdir(f\"{best_path}/AE\")\n",
    "            if X : os.mkdir(f\"{best_path}/DISC_X\")\n",
    "            if Z : os.mkdir(f\"{best_path}/DISC_Z\")\n",
    "\n",
    "        # Save the weight for future test and further training\n",
    "        model_ae.save_weights(f\"{best_path}/AE/model\")\n",
    "        if X : discriminator_x.save_weights(f\"{best_path}/DISC_X/model\")\n",
    "        if Z : discriminator_z.save_weights(f\"{best_path}/DISC_Z/model\")\n",
    "\n",
    "        print(f\"Saved! AE loss has been decreased from {last_best} to {epoch_ae_loss_avg.result()}.\")\n",
    "        last_best = epoch_ae_loss_avg.result()\n",
    "\n",
    "\n",
    "    # Save every 5 epoch\n",
    "    elif epoch != 0 and epoch%5==0:\n",
    "        epoch_path = f\"{model_dir}/{epoch+1}\"\n",
    "        if not os.path.exists(epoch_path):\n",
    "            os.mkdir(epoch_path)\n",
    "            os.mkdir(f\"{epoch_path}/AE\")\n",
    "            if X : os.mkdir(f\"{epoch_path}/DISC_X\")\n",
    "            if Z : os.mkdir(f\"{epoch_path}/DISC_Z\")\n",
    "\n",
    "        # Save the weight for future test and further training\n",
    "        model_ae.save_weights(f\"{epoch_path}/model\")\n",
    "        if X : discriminator_x.save_weights(f\"{epoch_path}/DISC_X/model\")\n",
    "        if Z : discriminator_z.save_weights(f\"{epoch_path}/DISC_Z/model\")\n",
    "\n",
    "        print(f\"Saved!\")\n",
    "\n",
    "\n",
    "    # average loss calculator for batches\n",
    "    epoch_ae_loss_avg = tf.metrics.Mean()\n",
    "    epoch_dc_z_loss_avg = tf.metrics.Mean()\n",
    "    epoch_dc_z_acc_avg = tf.metrics.Mean()\n",
    "    epoch_gen_z_loss_avg = tf.metrics.Mean()\n",
    "    epoch_dc_x_loss_avg = tf.metrics.Mean()\n",
    "    epoch_dc_x_acc_avg = tf.metrics.Mean()\n",
    "    epoch_gen_x_loss_avg = tf.metrics.Mean()\n",
    "    for batch, (batch_x) in enumerate(train_dataset):\n",
    "        # -------------------------------------------------------------------------------------------------------------\n",
    "        #Calculate cyclic learning rate\n",
    "        # global_step = global_step + 1\n",
    "        # cycle = np.floor(1 + global_step / (2 * step_size))\n",
    "        # x_lr = np.abs(global_step / step_size - 2 * cycle + 1)\n",
    "        # clr = learning_rate_ae + (max_learning_rate - learning_rate_ae) * max(0, 1 - x_lr)\n",
    "        # ae_optimizer.lr = clr\n",
    "        # dc_optimizer.lr = 0.05 * clr\n",
    "        # gen_optimizer.lr = 0.1 * clr\n",
    "\n",
    "        # Calculate the losses and optimize them\n",
    "        ae_loss, dc_z_loss, dc_z_acc, gen_z_loss, dc_x_loss, dc_x_acc, gen_x_loss = train_step(batch_x)\n",
    "\n",
    "        epoch_ae_loss_avg(ae_loss)\n",
    "        epoch_dc_z_loss_avg(dc_z_loss)\n",
    "        epoch_dc_z_acc_avg(dc_z_acc)\n",
    "        epoch_gen_z_loss_avg(gen_z_loss)\n",
    "        epoch_dc_x_loss_avg(dc_x_loss)\n",
    "        epoch_dc_x_acc_avg(dc_x_acc)\n",
    "        epoch_gen_x_loss_avg(gen_x_loss)\n",
    "\n",
    "\n",
    "    # Some feedback information\n",
    "    last_loss = epoch_ae_loss_avg.result()\n",
    "    epoch_time = time.time() - start\n",
    "    print(\n",
    "        '{:4d}: TIME: {:.2f} ETA: {:.2f} AE_LOSS: {:.4f} DC_Z_LOSS: {:.4f} DC_Z_ACC: {:.4f} GEN_Z_LOSS: {:.4f} DC_X_LOSS: {:.4f} DC_X_ACC: {:.4f} GEN_X_LOSS: {:.4f}'\n",
    "        .format(epoch + 1 , epoch_time / 60,\n",
    "                epoch_time * (n_epochs - epoch) / 60,\n",
    "                epoch_ae_loss_avg.result(),\n",
    "                epoch_dc_z_loss_avg.result(),\n",
    "                epoch_dc_z_acc_avg.result(),\n",
    "                epoch_gen_z_loss_avg.result(),\n",
    "                epoch_dc_x_loss_avg.result(),\n",
    "                epoch_dc_x_acc_avg.result(),\n",
    "                epoch_gen_x_loss_avg.result()))\n",
    "    train_autoencoder_loss.append(epoch_ae_loss_avg.result())\n",
    "    train_generator_loss_z.append(epoch_gen_z_loss_avg.result())\n",
    "    train_discriminator_loss_z.append(epoch_dc_z_loss_avg.result())\n",
    "    train_discriminator_acc_z.append(epoch_dc_z_acc_avg.result())\n",
    "    train_generator_loss_x.append(epoch_gen_x_loss_avg.result())\n",
    "    train_discriminator_loss_x.append(epoch_dc_x_loss_avg.result())\n",
    "    train_discriminator_acc_x.append(epoch_dc_x_acc_avg.result())\n",
    "\n",
    "    # Validation information\n",
    "    # -------------------------------------------------------------------------------------------------------------\n",
    "    # train_decoded = model_ae.predict(data_train)\n",
    "    # cost_train = np.mean(np.abs(train_decoded - data_train), axis=1)\n",
    "    # train_cost.append(cost_train)\n",
    "    # print(f\"        Mean cost of train: {np.mean(np.abs(train_decoded - data_train))}\")\n",
    "    #\n",
    "    # test_decoded = model_ae.predict(data_test)\n",
    "    # cost_test = np.mean(np.abs(test_decoded - data_test), axis=1)\n",
    "    # test_cost.append(cost_test)\n",
    "    # print(f\"        Mean cost of test: {np.mean(np.abs(test_decoded - data_test))}\")\n",
    "    #\n",
    "    # val_decoded = model_ae.predict(data_validation)\n",
    "    # cost_val = np.mean(np.abs(val_decoded - data_validation), axis=1)\n",
    "    # validation_cost.append(cost_val)\n",
    "    # print(f\"        Mean cost of validation: {np.mean(np.abs(val_decoded - data_validation))}\")\n"
   ],
   "metadata": {
    "collapsed": false,
    "pycharm": {
     "name": "#%%\n",
     "is_executing": true
    }
   }
  },
  {
   "cell_type": "markdown",
   "source": [
    "### Save the model"
   ],
   "metadata": {
    "collapsed": false
   }
  },
  {
   "cell_type": "code",
   "execution_count": 54,
   "outputs": [],
   "source": [
    "# Save the trained weights\n",
    "shape = f\"{latent_size}_5_layer_AAE\"\n",
    "checkpoint_dir = \"/Users/kedi/Desktop/polito lectures and notes/ML in App/project/checkpoints\"\n",
    "model_dir = f\"{checkpoint_dir}/{learning_rate_ae}_{n_epochs}_{shape}\"\n",
    "\n",
    "os.mkdir(f\"{model_dir}\")\n",
    "model_ae.save_weights(f\"{model_dir}/model\")"
   ],
   "metadata": {
    "collapsed": false,
    "pycharm": {
     "name": "#%%\n"
    }
   }
  },
  {
   "cell_type": "code",
   "execution_count": 134,
   "outputs": [],
   "source": [
    "shape = f\"{latent_size}_5_layer_AAE_123\"\n",
    "model_dir = f\"{checkpoint_dir}/{n_epochs}_{shape}\""
   ],
   "metadata": {
    "collapsed": false,
    "pycharm": {
     "name": "#%%\n"
    }
   }
  },
  {
   "cell_type": "code",
   "execution_count": 26,
   "outputs": [],
   "source": [
    "# save the loss changes\n",
    "np.save(f\"{model_dir}/ae_loss.npy\", train_autoencoder_loss)\n",
    "np.save(f\"{model_dir}/gen_loss.npy\", train_generator_loss_x)\n",
    "np.save(f\"{model_dir}/disc_loss.npy\", train_discriminator_loss_x)\n",
    "\n",
    "np.save(f\"{model_dir}/disc_acc.npy\", train_discriminator_acc_x)"
   ],
   "metadata": {
    "collapsed": false,
    "pycharm": {
     "name": "#%%\n"
    }
   }
  },
  {
   "cell_type": "markdown",
   "source": [
    "## Losses and Costs during training"
   ],
   "metadata": {
    "collapsed": false
   }
  },
  {
   "cell_type": "code",
   "execution_count": 27,
   "outputs": [],
   "source": [
    "# test_cost_avg = [np.mean(np.abs(i)) for i in test_cost]\n",
    "# train_cost_avg = [np.mean(np.abs(i)) for i in train_cost]\n",
    "# validation_cost_avg = [np.mean(np.abs(i)) for i in validation_cost]"
   ],
   "metadata": {
    "collapsed": false,
    "pycharm": {
     "name": "#%%\n"
    }
   }
  },
  {
   "cell_type": "code",
   "execution_count": 100,
   "outputs": [
    {
     "data": {
      "text/plain": "<Figure size 640x480 with 1 Axes>",
      "image/png": "[encoded data removed]"
     },
     "metadata": {},
     "output_type": "display_data"
    }
   ],
   "source": [
    "# plt.plot(test_cost_avg, label=\"test\")\n",
    "# plt.plot(train_cost_avg, label=\"train\")\n",
    "# plt.plot(validation_cost_avg, label=\"val\")\n",
    "# plt.legend()\n",
    "# plt.show()"
   ],
   "metadata": {
    "collapsed": false,
    "pycharm": {
     "name": "#%%\n"
    }
   }
  },
  {
   "cell_type": "code",
   "execution_count": 55,
   "outputs": [
    {
     "data": {
      "text/plain": "<Figure size 640x480 with 1 Axes>",
      "image/png": "[encoded data removed]"
     },
     "metadata": {},
     "output_type": "display_data"
    }
   ],
   "source": [
    "# Losses during training\n",
    "plt.plot(train_autoencoder_loss, label=\"AE\")\n",
    "plt.plot(train_generator_loss, label=\"GEN\")\n",
    "plt.plot(train_discriminator_loss, label=\"DISC\")\n",
    "plt.legend()\n",
    "plt.show()"
   ],
   "metadata": {
    "collapsed": false,
    "pycharm": {
     "name": "#%%\n"
    }
   }
  },
  {
   "cell_type": "code",
   "execution_count": 137,
   "outputs": [
    {
     "data": {
      "text/plain": "<Figure size 640x480 with 1 Axes>",
      "image/png": "[encoded data removed]"
     },
     "metadata": {},
     "output_type": "display_data"
    }
   ],
   "source": [
    "# Losses during training\n",
    "plt.plot(train_autoencoder_loss, label=\"AE\")\n",
    "plt.plot(train_generator_loss_x, label=\"GEN\")\n",
    "plt.plot(train_discriminator_loss_x, label=\"DISC\")\n",
    "plt.legend()\n",
    "plt.show()"
   ],
   "metadata": {
    "collapsed": false,
    "pycharm": {
     "name": "#%%\n"
    }
   }
  },
  {
   "cell_type": "markdown",
   "source": [
    "## Investigation & Evaluation"
   ],
   "metadata": {
    "collapsed": false
   }
  },
  {
   "cell_type": "code",
   "execution_count": 58,
   "outputs": [
    {
     "name": "stderr",
     "output_type": "stream",
     "text": [
      "2023-07-11 17:05:42.138183: W tensorflow/core/platform/profile_utils/cpu_utils.cc:128] Failed to get CPU frequency: 0 Hz\n"
     ]
    },
    {
     "name": "stdout",
     "output_type": "stream",
     "text": [
      "4383/4383 [==============================] - 183s 42ms/step\n",
      "mean: 0.544943258091213\n",
      "1297/1297 [==============================] - 55s 42ms/step\n",
      "mean: 0.5573903051488622\n"
     ]
    }
   ],
   "source": [
    "# some results with average reconstruction cost\n",
    "p_train = model_ae.predict(data_train)\n",
    "difference_train = np.abs(p_train - data_train)\n",
    "cost_train = np.mean(np.abs(p_train - data_train), axis=1)\n",
    "print(f\"mean: {np.mean(difference_train)}\")\n",
    "\n",
    "\n",
    "p_test = model_ae.predict(data_test)\n",
    "difference_test = np.abs(p_test - data_test)\n",
    "cost_test = np.mean(np.abs(p_test - data_test), axis=1)\n",
    "print(f\"mean: {np.mean(difference_test)}\")"
   ],
   "metadata": {
    "collapsed": false,
    "pycharm": {
     "name": "#%%\n"
    }
   }
  },
  {
   "cell_type": "code",
   "execution_count": 59,
   "outputs": [
    {
     "data": {
      "text/plain": "<seaborn.axisgrid.FacetGrid at 0x28ede33a0>"
     },
     "execution_count": 59,
     "metadata": {},
     "output_type": "execute_result"
    },
    {
     "data": {
      "text/plain": "<Figure size 500x500 with 1 Axes>",
      "image/png": "[encoded data removed]"
     },
     "metadata": {},
     "output_type": "display_data"
    }
   ],
   "source": [
    "sns.displot(cost_train[:,32], bins=100, kde=True, label=\"Train\")"
   ],
   "metadata": {
    "collapsed": false,
    "pycharm": {
     "name": "#%%\n"
    }
   }
  },
  {
   "cell_type": "code",
   "execution_count": 60,
   "outputs": [
    {
     "data": {
      "text/plain": "<seaborn.axisgrid.FacetGrid at 0x28b457b50>"
     },
     "execution_count": 60,
     "metadata": {},
     "output_type": "execute_result"
    },
    {
     "data": {
      "text/plain": "<Figure size 500x500 with 1 Axes>",
      "image/png": "[encoded data removed]"
     },
     "metadata": {},
     "output_type": "display_data"
    }
   ],
   "source": [
    "sns.displot(cost_test[:,32], bins=100, kde=True)"
   ],
   "metadata": {
    "collapsed": false,
    "pycharm": {
     "name": "#%%\n"
    }
   }
  },
  {
   "cell_type": "code",
   "execution_count": 61,
   "outputs": [
    {
     "name": "stdout",
     "output_type": "stream",
     "text": [
      "2594/2594 [==============================] - 110s 43ms/step\n",
      "mean: 0.5513310817976536\n"
     ]
    },
    {
     "data": {
      "text/plain": "<seaborn.axisgrid.FacetGrid at 0x28f6ae980>"
     },
     "execution_count": 61,
     "metadata": {},
     "output_type": "execute_result"
    },
    {
     "data": {
      "text/plain": "<Figure size 500x500 with 1 Axes>",
      "image/png": "[encoded data removed]"
     },
     "metadata": {},
     "output_type": "display_data"
    }
   ],
   "source": [
    "# Prepared test data\n",
    "p_test_mixed = model_ae.predict(data_test_mixed)\n",
    "\n",
    "difference_test_mixed = np.abs(p_test_mixed - data_test_mixed)\n",
    "print(f\"mean: {np.mean(difference_test_mixed)}\")\n",
    "\n",
    "cost_test_mixed = np.mean(np.abs(p_test_mixed - data_test_mixed), axis=1)\n",
    "sns.displot(cost_test_mixed[:,32], bins=100, kde=True)"
   ],
   "metadata": {
    "collapsed": false,
    "pycharm": {
     "name": "#%%\n"
    }
   }
  },
  {
   "cell_type": "markdown",
   "source": [
    "### PA%K"
   ],
   "metadata": {
    "collapsed": false
   }
  },
  {
   "cell_type": "code",
   "execution_count": 68,
   "outputs": [],
   "source": [
    "# PAK function to make adjustments on predictions\n",
    "def pak(scores, targets, thres, k=20):\n",
    "    \"\"\"\n",
    "\n",
    "    :param scores: anomaly scores (mean reconstruction cost for features)\n",
    "    :param targets: target labels (1-0)\n",
    "    :param thres: anomaly threshold\n",
    "    :param k: PA%K ratio, 0 equals to conventional point adjust and 100 equals to original predictions\n",
    "    :return: point_adjusted predictions\n",
    "    \"\"\"\n",
    "    scores = np.array(scores)\n",
    "    thres = np.array(thres)\n",
    "\n",
    "    predicts = scores > thres\n",
    "    actuals = targets > 0.01\n",
    "\n",
    "    one_start_idx = np.where(np.diff(actuals, prepend=0) == 1)[0]\n",
    "    zero_start_idx = np.where(np.diff(actuals, prepend=0) == -1)[0]\n",
    "\n",
    "    assert len(one_start_idx) == len(zero_start_idx) + 1 or len(one_start_idx) == len(zero_start_idx)\n",
    "\n",
    "    if len(one_start_idx) == len(zero_start_idx) + 1:\n",
    "        zero_start_idx = np.append(zero_start_idx, len(predicts))\n",
    "\n",
    "    for i in range(len(one_start_idx)):\n",
    "        if predicts[one_start_idx[i]:zero_start_idx[i]].sum() > k / 100 * (zero_start_idx[i] - one_start_idx[i]):\n",
    "            predicts[one_start_idx[i]:zero_start_idx[i]] = 1\n",
    "\n",
    "    return predicts"
   ],
   "metadata": {
    "collapsed": false,
    "pycharm": {
     "name": "#%%\n"
    }
   }
  },
  {
   "cell_type": "code",
   "execution_count": 69,
   "outputs": [],
   "source": [
    "# Evaluate function which gives results with comparison of with PAK function and without it\n",
    "def evaluate(scores, targets, pa=True, interval=50, k=40):\n",
    "    \"\"\"\n",
    "    :param scores: list or np.array or tensor, anomaly score\n",
    "    :param targets: list or np.array or tensor, target labels\n",
    "    :param pa: True/False\n",
    "    :param interval: threshold search interval\n",
    "    :param k: PA%K threshold\n",
    "    :return: results dictionary\n",
    "    \"\"\"\n",
    "    assert len(scores) == len(targets)\n",
    "\n",
    "    results = {}\n",
    "\n",
    "    try:\n",
    "        scores = np.asarray(scores)\n",
    "        targets = np.asarray(targets)\n",
    "    except TypeError:\n",
    "        scores = np.asarray(scores.cpu())\n",
    "        targets = np.asarray(targets.cpu())\n",
    "\n",
    "    precision, recall, threshold = metrics.precision_recall_curve(targets, scores)\n",
    "    f1_score = 2 * precision * recall / (precision + recall + 1e-30)\n",
    "\n",
    "    #print(f\"WITHOUT PA: \\nMean precision: {np.mean(precision)} \\nMean recall: {np.mean(recall)} \\nMean F1 score: {np.mean(f1_score)}\")\n",
    "\n",
    "    results['best_f1_wo_pa'] = np.max(f1_score)\n",
    "    results['f1_scores'] = f1_score\n",
    "    results['best_precision_wo_pa'] = precision[np.argmax(f1_score)]\n",
    "    results['best_recall_wo_pa'] = recall[np.argmax(f1_score)]\n",
    "    results['prauc_wo_pa'] = metrics.average_precision_score(targets, scores)\n",
    "    try:\n",
    "        results['auc_wo_pa'] = metrics.roc_auc_score(targets, scores)\n",
    "    except ValueError:\n",
    "        pass\n",
    "\n",
    "\n",
    "    if pa:\n",
    "        # find F1 score with optimal threshold of best_f1_wo_pa\n",
    "        pa_scores = pak(scores, targets, threshold[np.argmax(f1_score)], k)\n",
    "        results['raw_f1_w_pa'] = metrics.f1_score(targets, pa_scores)\n",
    "        results['raw_precision_w_pa'] = metrics.precision_score(targets, pa_scores)\n",
    "        results['raw_recall_w_pa'] = metrics.recall_score(targets, pa_scores)\n",
    "\n",
    "        # find best F1 score with varying thresholds\n",
    "        if len(scores) // interval < 1:\n",
    "            ths = threshold\n",
    "        else:\n",
    "            ths = [threshold[interval*i] for i in range(len(threshold)//interval)]\n",
    "        pa_f1_scores = [metrics.f1_score(targets, pak(scores, targets, th, k)) for th in tqdm(ths)]\n",
    "        pa_f1_scores = np.asarray(pa_f1_scores)\n",
    "        results['best_f1_w_pa'] = np.max(pa_f1_scores)\n",
    "        results['best_f1_th_w_pa'] = ths[np.argmax(pa_f1_scores)]\n",
    "        pa_scores = pak(scores, targets, ths[np.argmax(pa_f1_scores)], k)\n",
    "        results['best_precision_w_pa'] = metrics.precision_score(targets, pa_scores)\n",
    "        results['best_recall_w_pa'] = metrics.recall_score(targets, pa_scores)\n",
    "        results['pa_f1_scores'] = pa_f1_scores\n",
    "\n",
    "    return results"
   ],
   "metadata": {
    "collapsed": false,
    "pycharm": {
     "name": "#%%\n"
    }
   }
  },
  {
   "cell_type": "code",
   "execution_count": 71,
   "outputs": [],
   "source": [
    "# For model predictions\n",
    "scores = np.mean(cost_test_mixed, axis=1)\n",
    "targets = label_test_mixed.ravel()"
   ],
   "metadata": {
    "collapsed": false,
    "pycharm": {
     "name": "#%%\n"
    }
   }
  },
  {
   "cell_type": "code",
   "execution_count": 72,
   "outputs": [
    {
     "name": "stderr",
     "output_type": "stream",
     "text": [
      "100%|██████████| 1659/1659 [00:37<00:00, 44.65it/s]\n"
     ]
    },
    {
     "name": "stdout",
     "output_type": "stream",
     "text": [
      "mean F1 score without PA: 0.4721781635440042 \n",
      "mean F1 score with PA: 0.5523123678925695\n"
     ]
    }
   ],
   "source": [
    "result = evaluate(scores, targets, k=50)\n",
    "\n",
    "mean_f1_wo_pa = np.mean(result[\"f1_scores\"])\n",
    "mean_f1_w_pa = np.mean(result[\"pa_f1_scores\"])\n",
    "print(f\"mean F1 score without PA: {mean_f1_wo_pa} \\nmean F1 score with PA: {mean_f1_w_pa}\")"
   ],
   "metadata": {
    "collapsed": false,
    "pycharm": {
     "name": "#%%\n"
    }
   }
  },
  {
   "cell_type": "code",
   "execution_count": 67,
   "outputs": [
    {
     "data": {
      "text/plain": "{'best_f1_wo_pa': 0.6681159770364823,\n 'f1_scores': array([0.66666667, 0.66667202, 0.66667738, ..., 0.        , 0.        ,\n        0.        ]),\n 'best_precision_wo_pa': 0.5016383135647526,\n 'best_recall_wo_pa': 0.9999758978067004,\n 'prauc_wo_pa': 0.57936106655686,\n 'auc_wo_pa': 0.5208207607195943,\n 'raw_f1_w_pa': 0.6681267009130581,\n 'raw_precision_w_pa': 0.5016443391207622,\n 'raw_recall_w_pa': 1.0,\n 'best_f1_w_pa': 0.9985920069316582,\n 'best_f1_th_w_pa': 0.805729185583551,\n 'best_precision_w_pa': 0.9971879731775903,\n 'best_recall_w_pa': 1.0,\n 'pa_f1_scores': array([6.66672023e-01, 6.66725588e-01, 6.66779163e-01, ...,\n        4.33536453e-04, 3.37276253e-04, 4.81939324e-05])}"
     },
     "execution_count": 67,
     "metadata": {},
     "output_type": "execute_result"
    }
   ],
   "source": [
    "result"
   ],
   "metadata": {
    "collapsed": false,
    "pycharm": {
     "name": "#%%\n"
    }
   }
  },
  {
   "cell_type": "code",
   "execution_count": null,
   "outputs": [],
   "source": [],
   "metadata": {
    "collapsed": false,
    "pycharm": {
     "name": "#%%\n"
    }
   }
  }
 ],
 "metadata": {
  "kernelspec": {
   "display_name": "Python 3",
   "language": "python",
   "name": "python3"
  },
  "language_info": {
   "codemirror_mode": {
    "name": "ipython",
    "version": 2
   },
   "file_extension": ".py",
   "mimetype": "text/x-python",
   "name": "python",
   "nbconvert_exporter": "python",
   "pygments_lexer": "ipython2",
   "version": "2.7.6"
  }
 },
 "nbformat": 4,
 "nbformat_minor": 0
}